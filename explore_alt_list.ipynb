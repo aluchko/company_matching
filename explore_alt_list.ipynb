{
 "cells": [
  {
   "cell_type": "code",
   "execution_count": 1,
   "metadata": {},
   "outputs": [],
   "source": [
    "import polars as pl\n",
    "import pandas as pd\n",
    "import numpy as np\n",
    "from pathlib import Path\n",
    "import csv\n",
    "import tqdm\n",
    "import os\n",
    "\n",
    "from IPython.display import display"
   ]
  },
  {
   "cell_type": "code",
   "execution_count": 2,
   "metadata": {},
   "outputs": [
    {
     "name": "stdout",
     "output_type": "stream",
     "text": [
      "Loaded cached data from data/cache/DATAACT_EIDL_LOANS_DMCS2.0_corrected.parquet\n",
      "Loaded cached data from data/cache/DATAACT_EIDL_LOANS_20200401-20200609_corrected.parquet\n",
      "Loaded cached data from data/cache/DATAACT_EIDL_LOANS_20200626-20200723_corrected.parquet\n",
      "Loaded cached data from data/cache/DATAACT_EIDL_LOANS_20200610-20200625_corrected.parquet\n",
      "Loaded cached data from data/cache/DATAACT_EIDL_LOANS_20200724-20201115_corrected.parquet\n"
     ]
    }
   ],
   "source": [
    "# Define paths for the original, corrected, and cache directories\n",
    "data_dir = Path(\"data\")\n",
    "dataact_dir = data_dir / '5MM MASTER FILE FROM SBA WITHOUT CONTACT DETAILS'\n",
    "dataact_dir_corrected = data_dir / '5MM MASTER FILE FROM SBA WITHOUT CONTACT DETAILS Corrected'\n",
    "cache_dir = data_dir / 'cache'\n",
    "\n",
    "# Create the directories if they don't exist\n",
    "dataact_dir_corrected.mkdir(parents=True, exist_ok=True)\n",
    "cache_dir.mkdir(parents=True, exist_ok=True)\n",
    "\n",
    "def preprocess_csv_file(input_file, output_file):\n",
    "    with open(input_file, 'r', newline='', encoding='utf-8') as infile, \\\n",
    "         open(output_file, 'w', newline='', encoding='utf-8') as outfile:\n",
    "        reader = csv.reader(infile)\n",
    "        writer = csv.writer(outfile)\n",
    "        headers = next(reader)\n",
    "        writer.writerow(headers)\n",
    "        num_columns = len(headers)\n",
    "        incorrect_rows_count = 0\n",
    "        for row in reader:\n",
    "            if len(row) == num_columns:\n",
    "                writer.writerow(row)\n",
    "            else:\n",
    "                incorrect_rows_count += 1\n",
    "        print(f\"File: {input_file.name} - Incorrect rows omitted: {incorrect_rows_count}\")\n",
    "\n",
    "def load_or_preprocess():\n",
    "    all_dataframes = []\n",
    "    for csv_file in dataact_dir.glob('*.csv'):\n",
    "        cache_file = cache_dir / f\"{csv_file.stem}_corrected.parquet\"\n",
    "\n",
    "        if cache_file.exists():\n",
    "            df = pl.read_parquet(cache_file)\n",
    "            print(f\"Loaded cached data from {cache_file}\")\n",
    "        else:\n",
    "            output_file = dataact_dir_corrected / csv_file.name\n",
    "            preprocess_csv_file(csv_file, output_file)\n",
    "            df = pl.read_csv(output_file, ignore_errors=True)\n",
    "            df.write_parquet(cache_file)\n",
    "            print(f\"Processed and cached data for {csv_file.name}\")\n",
    "\n",
    "        all_dataframes.append(df)\n",
    "\n",
    "    return pl.concat(all_dataframes)\n",
    "\n",
    "# Execute the function to load or process and cache the data\n",
    "loan_info_df = load_or_preprocess()\n"
   ]
  },
  {
   "cell_type": "code",
   "execution_count": 3,
   "metadata": {},
   "outputs": [
    {
     "name": "stdout",
     "output_type": "stream",
     "text": [
      "Bad rows 850\n",
      "Number of rows after dropping missing 'LEGALENTITYCONGRESSIONALDISTRICT' values: 3765391\n"
     ]
    }
   ],
   "source": [
    "print(f\"Bad rows {loan_info_df['LEGALENTITYCONGRESSIONALDISTRICT'].is_null().sum()}\")\n",
    "\n",
    "# Drop rows with missing 'LEGALENTITYCONGRESSIONALDISTRICT' values\n",
    "loan_info_df = loan_info_df.filter(loan_info_df['LEGALENTITYCONGRESSIONALDISTRICT'].is_not_null())\n",
    "\n",
    "print(f\"Number of rows after dropping missing 'LEGALENTITYCONGRESSIONALDISTRICT' values: {len(loan_info_df)}\")"
   ]
  },
  {
   "cell_type": "code",
   "execution_count": 4,
   "metadata": {},
   "outputs": [
    {
     "data": {
      "text/html": [
       "<div><style>\n",
       ".dataframe > thead > tr,\n",
       ".dataframe > tbody > tr {\n",
       "  text-align: right;\n",
       "  white-space: pre-wrap;\n",
       "}\n",
       "</style>\n",
       "<small>shape: (5, 45)</small><table border=\"1\" class=\"dataframe\"><thead><tr><th>ACTIONTYPE</th><th>ACTIONDATE</th><th>ASSISTANCETYPE</th><th>RECORDTYPE</th><th>FAIN</th><th>AWARDMODIFICATIONAMENDMENTNUM</th><th>URI</th><th>CORRECTIONLATEDELETEIND</th><th>FISCALYEARANDQTRCORRECTION</th><th>SAI_NUM</th><th>AWARDEEORRECIPIENTLEGALENTITYNAME</th><th>AWARDEEORRECIPIENTUNIQUEIDENTIFIER</th><th>LEGALENTITYADDRLINE1</th><th>LEGALENTITYADDRLINE2</th><th>LEGALENTITYADDRLINE3</th><th>LEGALENTITYCITYNAME</th><th>LEGALENTITYSTATECD</th><th>LEGALENTITYZIP5</th><th>LEGALENTITYZIPLAST4</th><th>LEGALENTITYCOUNTRYCD</th><th>LEGALENTITYFOREIGNCITYNAME</th><th>LEGALENTITYFOREIGNPROVINCENAME</th><th>LEGALENTITYFOREIGNPOSTALCD</th><th>LEGALENTITYCONGRESSIONALDISTRICT</th><th>BUSINESSTYPES</th><th>FUNDINGAGENCYCD</th><th>FUNDINGSUBTIERAGENCYCD</th><th>FUNDINGOFFICECD</th><th>AWARDINGAGENCYCD</th><th>AWARDINGSUBTIERAGENCYCD</th><th>AWARDINGOFFICECD</th><th>CFDA_NUM</th><th>PRIMPLACEOFPERFORMANCECD</th><th>PRIMPLACEOFPERFORMANCECOUNTRYCD</th><th>PRIMPLACEOFPERFORMANCEZIP+4</th><th>PRIMPLACEOFPERFORMANCEFOREIGNLOCATIONDESC</th><th>PRIMPLACEOFPERFORMANCECONGRESSIONALDISTRICT</th><th>AWARDDESC</th><th>PERIODOFPERFORMANCESTARTDATE</th><th>PERIODOFPERFORMANCECURRENTENDDATE</th><th>FEDERALACTIONOBLIGATION</th><th>NONFEDERALFUNDINGAMOUNT</th><th>FACEVALUEOFDIRECTLOANORLOANGUARANTEE</th><th>ORIGINALLOANSUBSIDYCOST</th><th>BUSINESSFUNDSINDICATOR</th></tr><tr><td>str</td><td>i64</td><td>i64</td><td>i64</td><td>i64</td><td>i64</td><td>str</td><td>str</td><td>str</td><td>str</td><td>str</td><td>str</td><td>str</td><td>str</td><td>str</td><td>str</td><td>str</td><td>i64</td><td>i64</td><td>str</td><td>str</td><td>str</td><td>str</td><td>i64</td><td>str</td><td>i64</td><td>i64</td><td>i64</td><td>i64</td><td>i64</td><td>i64</td><td>f64</td><td>str</td><td>str</td><td>str</td><td>str</td><td>i64</td><td>str</td><td>str</td><td>str</td><td>str</td><td>str</td><td>f64</td><td>f64</td><td>str</td></tr></thead><tbody><tr><td>&quot;A&quot;</td><td>20200803</td><td>7</td><td>2</td><td>2443918208</td><td>1</td><td>null</td><td>null</td><td>null</td><td>&quot;SAI Exempt&quot;</td><td>&quot;AKIKO&#x27;S SUSHI BAR INC.&quot;</td><td>null</td><td>&quot;726 Noriega St&quot;</td><td>null</td><td>null</td><td>&quot;SAN FRANCISCO&quot;</td><td>&quot;CA&quot;</td><td>94122</td><td>4542</td><td>&quot;USA&quot;</td><td>null</td><td>null</td><td>null</td><td>12</td><td>&quot;R&quot;</td><td>73</td><td>7300</td><td>732990</td><td>73</td><td>7300</td><td>732990</td><td>59.008</td><td>&quot;CA**075&quot;</td><td>&quot;USA&quot;</td><td>null</td><td>null</td><td>12</td><td>&quot;TO PROVIDE LOANS TO RESTORE AS…</td><td>null</td><td>null</td><td>null</td><td>null</td><td>144000.0</td><td>19612.8</td><td>&quot;NON&quot;</td></tr><tr><td>&quot;A&quot;</td><td>20200803</td><td>7</td><td>2</td><td>2446098206</td><td>1</td><td>null</td><td>null</td><td>null</td><td>&quot;SAI Exempt&quot;</td><td>&quot;DITZLER GENERAL CONTRACTING IN…</td><td>null</td><td>&quot;212 WILE AVE&quot;</td><td>null</td><td>null</td><td>&quot;SOUDERTON&quot;</td><td>&quot;PA&quot;</td><td>18964</td><td>1624</td><td>&quot;USA&quot;</td><td>null</td><td>null</td><td>null</td><td>1</td><td>&quot;R&quot;</td><td>73</td><td>7300</td><td>732990</td><td>73</td><td>7300</td><td>732990</td><td>59.008</td><td>&quot;PA**091&quot;</td><td>&quot;USA&quot;</td><td>null</td><td>null</td><td>1</td><td>&quot;TO PROVIDE LOANS TO RESTORE AS…</td><td>null</td><td>null</td><td>null</td><td>null</td><td>25300.0</td><td>3445.86</td><td>&quot;NON&quot;</td></tr><tr><td>&quot;A&quot;</td><td>20200803</td><td>7</td><td>2</td><td>2448018208</td><td>1</td><td>null</td><td>null</td><td>null</td><td>&quot;SAI Exempt&quot;</td><td>&quot;HERMAN CLEANERS, LLC&quot;</td><td>null</td><td>&quot;5590 KEYSTONE PINE WAY&quot;</td><td>null</td><td>null</td><td>&quot;DUBLIN&quot;</td><td>&quot;OH&quot;</td><td>43016</td><td>9472</td><td>&quot;USA&quot;</td><td>null</td><td>null</td><td>null</td><td>12</td><td>&quot;R&quot;</td><td>73</td><td>7300</td><td>732990</td><td>73</td><td>7300</td><td>732990</td><td>59.008</td><td>&quot;OH**049&quot;</td><td>&quot;USA&quot;</td><td>null</td><td>null</td><td>12</td><td>&quot;TO PROVIDE LOANS TO RESTORE AS…</td><td>null</td><td>null</td><td>null</td><td>null</td><td>100000.0</td><td>13620.0</td><td>&quot;NON&quot;</td></tr><tr><td>&quot;A&quot;</td><td>20200803</td><td>7</td><td>2</td><td>2449338201</td><td>1</td><td>null</td><td>null</td><td>null</td><td>&quot;SAI Exempt&quot;</td><td>&quot;RSM REALTY, LLC&quot;</td><td>null</td><td>&quot;706 OXFORD RD&quot;</td><td>null</td><td>null</td><td>&quot;YPSILANTI&quot;</td><td>&quot;MI&quot;</td><td>48197</td><td>2146</td><td>&quot;USA&quot;</td><td>null</td><td>null</td><td>null</td><td>12</td><td>&quot;R&quot;</td><td>73</td><td>7300</td><td>732990</td><td>73</td><td>7300</td><td>732990</td><td>59.008</td><td>&quot;MI**161&quot;</td><td>&quot;USA&quot;</td><td>null</td><td>null</td><td>12</td><td>&quot;TO PROVIDE LOANS TO RESTORE AS…</td><td>null</td><td>null</td><td>null</td><td>null</td><td>28600.0</td><td>3895.32</td><td>&quot;NON&quot;</td></tr><tr><td>&quot;A&quot;</td><td>20200803</td><td>7</td><td>2</td><td>2455458209</td><td>1</td><td>null</td><td>null</td><td>null</td><td>&quot;SAI Exempt&quot;</td><td>&quot;PINK PALETTE ARTISTS LLC&quot;</td><td>null</td><td>&quot;7738 HERON LAKES DR&quot;</td><td>null</td><td>null</td><td>&quot;HOUSTON&quot;</td><td>&quot;TX&quot;</td><td>77064</td><td>1739</td><td>&quot;USA&quot;</td><td>null</td><td>null</td><td>null</td><td>2</td><td>&quot;R&quot;</td><td>73</td><td>7300</td><td>732990</td><td>73</td><td>7300</td><td>732990</td><td>59.008</td><td>&quot;TX**201&quot;</td><td>&quot;USA&quot;</td><td>null</td><td>null</td><td>2</td><td>&quot;TO PROVIDE LOANS TO RESTORE AS…</td><td>null</td><td>null</td><td>null</td><td>null</td><td>98400.0</td><td>13402.08</td><td>&quot;NON&quot;</td></tr></tbody></table></div>"
      ],
      "text/plain": [
       "shape: (5, 45)\n",
       "┌───────────┬───────────┬───────────┬───────────┬───┬───────────┬───────────┬───────────┬──────────┐\n",
       "│ ACTIONTYP ┆ ACTIONDAT ┆ ASSISTANC ┆ RECORDTYP ┆ … ┆ NONFEDERA ┆ FACEVALUE ┆ ORIGINALL ┆ BUSINESS │\n",
       "│ E         ┆ E         ┆ ETYPE     ┆ E         ┆   ┆ LFUNDINGA ┆ OFDIRECTL ┆ OANSUBSID ┆ FUNDSIND │\n",
       "│ ---       ┆ ---       ┆ ---       ┆ ---       ┆   ┆ MOUNT     ┆ OANORLOAN ┆ YCOST     ┆ ICATOR   │\n",
       "│ str       ┆ i64       ┆ i64       ┆ i64       ┆   ┆ ---       ┆ GUA…      ┆ ---       ┆ ---      │\n",
       "│           ┆           ┆           ┆           ┆   ┆ str       ┆ ---       ┆ f64       ┆ str      │\n",
       "│           ┆           ┆           ┆           ┆   ┆           ┆ f64       ┆           ┆          │\n",
       "╞═══════════╪═══════════╪═══════════╪═══════════╪═══╪═══════════╪═══════════╪═══════════╪══════════╡\n",
       "│ A         ┆ 20200803  ┆ 7         ┆ 2         ┆ … ┆ null      ┆ 144000.0  ┆ 19612.8   ┆ NON      │\n",
       "│ A         ┆ 20200803  ┆ 7         ┆ 2         ┆ … ┆ null      ┆ 25300.0   ┆ 3445.86   ┆ NON      │\n",
       "│ A         ┆ 20200803  ┆ 7         ┆ 2         ┆ … ┆ null      ┆ 100000.0  ┆ 13620.0   ┆ NON      │\n",
       "│ A         ┆ 20200803  ┆ 7         ┆ 2         ┆ … ┆ null      ┆ 28600.0   ┆ 3895.32   ┆ NON      │\n",
       "│ A         ┆ 20200803  ┆ 7         ┆ 2         ┆ … ┆ null      ┆ 98400.0   ┆ 13402.08  ┆ NON      │\n",
       "└───────────┴───────────┴───────────┴───────────┴───┴───────────┴───────────┴───────────┴──────────┘"
      ]
     },
     "execution_count": 4,
     "metadata": {},
     "output_type": "execute_result"
    }
   ],
   "source": [
    "loan_info_df.head()"
   ]
  },
  {
   "cell_type": "code",
   "execution_count": 5,
   "metadata": {},
   "outputs": [],
   "source": [
    "interesting_cols = ['AWARDEEORRECIPIENTLEGALENTITYNAME', 'LEGALENTITYADDRLINE1', 'LEGALENTITYCITYNAME', 'LEGALENTITYSTATECD', 'LEGALENTITYZIP5',\n",
    "                    'FACEVALUEOFDIRECTLOANORLOANGUARANTEE', 'ORIGINALLOANSUBSIDYCOST']"
   ]
  },
  {
   "cell_type": "code",
   "execution_count": 6,
   "metadata": {},
   "outputs": [],
   "source": [
    "# Drop everything except the interesting columns\n",
    "loan_info_df = loan_info_df.select(interesting_cols)"
   ]
  },
  {
   "cell_type": "code",
   "execution_count": 7,
   "metadata": {},
   "outputs": [
    {
     "name": "stdout",
     "output_type": "stream",
     "text": [
      "Loaded from cache: data/cache/List-4 - 1,004,842 Contacts For 5 Million List - CEO Database With Mobile Number_all.parquet\n",
      "Loaded from cache: data/cache/1 Millions Owners Database Part-1_all.parquet\n",
      "Loaded from cache: data/cache/List-5 - 1,007,897 Contacts For 5 Million List - CEO Database With Mobile Number_all.parquet\n",
      "Loaded from cache: data/cache/List-2 - 1,008,186 Contacts For 5 Million List - CEO Database With Mobile Number_all.parquet\n",
      "Loaded from cache: data/cache/List-3 - 1,006,298 Contacts For 5 Million List - CEO Database With Mobile Number_all.parquet\n",
      "Loaded from cache: data/cache/1 Millions Owners Database-Part-2_all.parquet\n",
      "Loaded from cache: data/cache/List-1 - 1,006,603 Contacts For 5 Million List - CEO Database With Mobile Number_all.parquet\n"
     ]
    }
   ],
   "source": [
    "alt_data_dir = data_dir / 'db_alt'\n",
    "\n",
    "def load_or_cache_xlsx(file, group):\n",
    "    cache_file = cache_dir / f\"{file.stem}_{group}.parquet\"\n",
    "\n",
    "    if cache_file.exists():\n",
    "        try:\n",
    "            df = pl.read_parquet(cache_file)\n",
    "        except:\n",
    "            os.remove(cache_file)\n",
    "            return load_or_cache_xlsx(file, group)\n",
    "        print(f\"Loaded from cache: {cache_file}\")\n",
    "    else:\n",
    "        df = pl.read_excel(file)\n",
    "        df = df.with_columns([pl.lit(file.name).alias('filename')])\n",
    "        df.write_parquet(cache_file)\n",
    "        print(f\"Processed and cached: {cache_file}\")\n",
    "    \n",
    "    return df\n",
    "\n",
    "# Load all Excel files, process them if needed, and cache the result\n",
    "list_alt_dfs = []\n",
    "for file in alt_data_dir.rglob('*.xlsx'):\n",
    "    list_alt_dfs.append(load_or_cache_xlsx(file, 'all'))\n",
    "\n",
    "# Concatenate and split into owners and contacts based on indices\n",
    "owners_indices = [1, 5]\n",
    "contacts_indices = [i for i in range(len(list_alt_dfs)) if i not in owners_indices]\n",
    "\n",
    "owners_df = pl.concat([list_alt_dfs[i] for i in owners_indices])\n",
    "contacts_df = pl.concat([list_alt_dfs[i] for i in contacts_indices])\n",
    "\n",
    "# Cache the concatenated owners and contacts DataFrames\n",
    "owners_cache = cache_dir / 'owners_df.parquet'\n",
    "contacts_cache = cache_dir / 'contacts_df.parquet'\n",
    "\n",
    "if not owners_cache.exists():\n",
    "    owners_df.write_parquet(owners_cache)\n",
    "    print(f\"Cached owners DataFrame: {owners_cache}\")\n",
    "\n",
    "if not contacts_cache.exists():\n",
    "    contacts_df.write_parquet(contacts_cache)\n",
    "    print(f\"Cached contacts DataFrame: {contacts_cache}\")"
   ]
  },
  {
   "cell_type": "code",
   "execution_count": 8,
   "metadata": {},
   "outputs": [
    {
     "name": "stdout",
     "output_type": "stream",
     "text": [
      "Loaded from cache: data/cache/List # 08_1,038,035 Contacts New Project 82 Million Part-1_all.parquet\n",
      "Loaded from cache: data/cache/List # 17_1,037,663 Contacts New Project 82 Million Part-1_all.parquet\n",
      "Loaded from cache: data/cache/List # 23_1,036,165 Contacts New Project 82 Million Part-2_all.parquet\n",
      "Loaded from cache: data/cache/List # 32_1,036,167 Contacts New Project 82 Million Part-1_all.parquet\n",
      "Loaded from cache: data/cache/List # 21_1,035,777 Contacts New Project 82 Million Part-2_all.parquet\n",
      "Loaded from cache: data/cache/List # 50_1,036,786 Contacts New Project 82 Million Part-1_all.parquet\n",
      "Loaded from cache: data/cache/List # 11_1,031,855 Contacts New Project 82 Million Part-1_all.parquet\n",
      "Loaded from cache: data/cache/List # 24_1,046,530 Contacts New Project 82 Million Part-2_all.parquet\n",
      "Loaded from cache: data/cache/List # 03_1,032,046 Contacts New Project 82 Million Part-1_all.parquet\n",
      "Loaded from cache: data/cache/List # 44_1,034,952 Contacts New Project 82 Million Part-1_all.parquet\n",
      "Loaded from cache: data/cache/List # 10_1,035,364 Contacts New Project 82 Million Part-2_all.parquet\n",
      "Loaded from cache: data/cache/List # 08_1,032,116 Contacts New Project 82 Million Part-2_all.parquet\n",
      "Loaded from cache: data/cache/List # 01_1,033,050 Contacts New Project 82 Million Part-1_all.parquet\n",
      "Loaded from cache: data/cache/List # 03_1,038,854 Contacts New Project 82 Million Part-2_all.parquet\n",
      "Loaded from cache: data/cache/List # 43_1,032,725 Contacts New Project 82 Million Part-1_all.parquet\n",
      "Loaded from cache: data/cache/List # 28_1,036,350 Contacts New Project 82 Million Part-2_all.parquet\n",
      "Loaded from cache: data/cache/List # 17_1,035,819 Contacts New Project 82 Million Part-2_all.parquet\n",
      "Loaded from cache: data/cache/List # 07_1,032,873 Contacts New Project 82 Million Part-1_all.parquet\n",
      "Loaded from cache: data/cache/List # 20_1,033,150 Contacts New Project 82 Million Part-2_all.parquet\n",
      "Loaded from cache: data/cache/List # 06_1,034,863 Contacts New Project 82 Million Part-1_all.parquet\n",
      "Loaded from cache: data/cache/List # 10_1,030,587 Contacts New Project 82 Million Part-1_all.parquet\n",
      "Loaded from cache: data/cache/List # 07_1,037,389 Contacts New Project 82 Million Part-2_all.parquet\n",
      "Loaded from cache: data/cache/List # 13_1,032,673 Contacts New Project 82 Million Part-1_all.parquet\n",
      "Loaded from cache: data/cache/List # 19_1,034,806 Contacts New Project 82 Million Part-2_all.parquet\n",
      "Loaded from cache: data/cache/List # 22_1,036,334 Contacts New Project 82 Million Part-2_all.parquet\n",
      "Loaded from cache: data/cache/List # 25_1,038,473 Contacts New Project 82 Million Part-2_all.parquet\n",
      "Loaded from cache: data/cache/List # 09_1,035,664 Contacts New Project 82 Million Part-1_all.parquet\n"
     ]
    }
   ],
   "source": [
    "apollo_82_dir = data_dir / 'apollo/Apollo 82 Million Data'\n",
    "\n",
    "list_apollo_82_dfs = []\n",
    "for file in apollo_82_dir.rglob('*.xlsx'):\n",
    "    list_apollo_82_dfs.append(load_or_cache_xlsx(file, 'all'))\n"
   ]
  },
  {
   "cell_type": "code",
   "execution_count": 9,
   "metadata": {},
   "outputs": [],
   "source": [
    "# Convert all columns of each DataFrame to strings before concatenation\n",
    "list_apollo_82_dfs_str = [df.with_columns([pl.col(column).cast(pl.Utf8) for column in df.columns]) for df in list_apollo_82_dfs]\n",
    "\n",
    "# Updated list to store the modified DataFrames\n",
    "updated_list_apollo_82_dfs = []\n",
    "\n",
    "for df in list_apollo_82_dfs_str:\n",
    "    # Check if 'Reveneu' is a column in the DataFrame\n",
    "    if 'Reveneu' in df.columns:\n",
    "        # Rename 'Reveneu' to 'Revenue' and add to the updated list\n",
    "        df = df.rename({'Reveneu': 'Revenue'})\n",
    "        \n",
    "    if '__UNNAMED__3' in df.columns:\n",
    "        df = df.drop('__UNNAMED__3')\n",
    "    # Add the (potentially modified) DataFrame to the new list\n",
    "    updated_list_apollo_82_dfs.append(df)\n",
    "\n",
    "# Now concatenate the updated DataFrames, ensuring all columns are treated as strings\n",
    "apollo_82_df = pl.concat(updated_list_apollo_82_dfs)\n",
    "\n",
    "# clean up memory\n",
    "del list_apollo_82_dfs\n",
    "del list_apollo_82_dfs_str\n",
    "del updated_list_apollo_82_dfs"
   ]
  },
  {
   "cell_type": "code",
   "execution_count": 10,
   "metadata": {},
   "outputs": [
    {
     "name": "stdout",
     "output_type": "stream",
     "text": [
      "Loaded from cache: data/cache/List # 04_1,034,387 Contacts New Project 143 Million Part-2_all.parquet\n",
      "Loaded from cache: data/cache/List # 24_1,032,524 Contacts New Project 143 Million Part-2_all.parquet\n",
      "Loaded from cache: data/cache/List # 35_1,045,980 Contacts New Project 143 Million Part-2_all.parquet\n",
      "Loaded from cache: data/cache/List # 12_1,031,401 Contacts New Project 143 Million Part-2_all.parquet\n",
      "Loaded from cache: data/cache/List # 17_1,043,959 Contacts New Project 143 Million Part-2_all.parquet\n",
      "Loaded from cache: data/cache/List # 15_1.033.871 Contacts New Project 143 Million Part-2_all.parquet\n",
      "Loaded from cache: data/cache/List # 51_1,046,432 Contacts New Project 143 Million Part-2_all.parquet\n",
      "Loaded from cache: data/cache/List # 65_1,046,087 Contacts New Project 143 Million Part-2_all.parquet\n",
      "Loaded from cache: data/cache/List # 41_1,046,246 Contacts New Project 143 Million Part-2_all.parquet\n",
      "Loaded from cache: data/cache/List # 18_1,044,132 Contacts New Project 143 Million Part-2_all.parquet\n",
      "Loaded from cache: data/cache/List # 29_1,044,369 Contacts New Project 143 Million Part-2_all.parquet\n",
      "Loaded from cache: data/cache/List # 02_1,042,413 Contacts New Project 143 Million Part-2_all.parquet\n",
      "Loaded from cache: data/cache/List # 47_1,047,585 Contacts New Project 143 Million Part-2_all.parquet\n",
      "Loaded from cache: data/cache/List # 40_1,043,656 Contacts New Project 143 Million Part-2_all.parquet\n",
      "Loaded from cache: data/cache/List # 21_1,045,060 Contacts New Project 143 Million Part-2_all.parquet\n",
      "Loaded from cache: data/cache/List # 13_1,041,488 Contacts New Project 143 Million Part-2_all.parquet\n",
      "Loaded from cache: data/cache/List # 45_1,039,283 Contacts New Project 143 Million Part-2_all.parquet\n",
      "Loaded from cache: data/cache/List # 56_1,044,693 Contacts New Project 143 Million Part-2_all.parquet\n",
      "Loaded from cache: data/cache/List # 28_1,042,449 Contacts New Project 143 Million Part-2_all.parquet\n",
      "Loaded from cache: data/cache/List # 37_1,043,337 Contacts New Project 143 Million Part-2_all.parquet\n",
      "Loaded from cache: data/cache/List # 19_1,047,627 Contacts New Project 143 Million Part-2_all.parquet\n",
      "Loaded from cache: data/cache/List # 62_1,046,659 Contacts New Project 143 Million Part-2_all.parquet\n",
      "Loaded from cache: data/cache/List # 61_1,047,376 Contacts New Project 143 Million Part-2_all.parquet\n",
      "Loaded from cache: data/cache/List # 52_1,045,944 Contacts New Project 143 Million Part-2_all.parquet\n",
      "Loaded from cache: data/cache/List # 36_1,044,769 Contacts New Project 143 Million Part-2_all.parquet\n",
      "Loaded from cache: data/cache/List # 69_1,047,443 Contacts New Project 143 Million Part-2_all.parquet\n",
      "Loaded from cache: data/cache/List # 33_1,046,945 Contacts New Project 143 Million Part-2_all.parquet\n",
      "Loaded from cache: data/cache/List # 06_1,045,010 Contacts New Project 143 Million Part-2_all.parquet\n",
      "Loaded from cache: data/cache/List # 66_1,046,746 Contacts New Project 143 Million Part-2_all.parquet\n",
      "Loaded from cache: data/cache/List # 14_1,029,664 Contacts New Project 143 Million Part-2_all.parquet\n",
      "Loaded from cache: data/cache/List # 05_1,044,894 Contacts New Project 143 Million Part-2_all.parquet\n",
      "Loaded from cache: data/cache/List # 64_1,047,957 Contacts New Project 143 Million Part-2_all.parquet\n",
      "Loaded from cache: data/cache/List # 63_1,046,275 Contacts New Project 143 Million Part-2_all.parquet\n",
      "Loaded from cache: data/cache/List # 25_1,039,994 Contacts New Project 143 Million Part-2_all.parquet\n",
      "Loaded from cache: data/cache/List # 38_1,043,907 Contacts New Project 143 Million Part-2_all.parquet\n",
      "Loaded from cache: data/cache/List # 26_1,038,162 Contacts New Project 143 Million Part-2_all.parquet\n",
      "Loaded from cache: data/cache/List # 57_1,047,043 Contacts New Project 143 Million Part-2_all.parquet\n",
      "Loaded from cache: data/cache/List # 32_1,042,642 Contacts New Project 143 Million Part-2_all.parquet\n",
      "Loaded from cache: data/cache/List # 22_1,045,372 Contacts New Project 143 Million Part-2_all.parquet\n",
      "Loaded from cache: data/cache/List # 55_1,045,469 Contacts New Project 143 Million Part-2_all.parquet\n",
      "Loaded from cache: data/cache/List # 44_1,046,923 Contacts New Project 143 Million Part-2_all.parquet\n",
      "Loaded from cache: data/cache/List # 09_1,038,991 Contacts New Project 143 Million Part-2_all.parquet\n",
      "Loaded from cache: data/cache/List # 42_1,047,592 Contacts New Project 143 Million Part-2_all.parquet\n",
      "Loaded from cache: data/cache/List # 70_1,043,461 Contacts New Project 143 Million Part-2_all.parquet\n",
      "Loaded from cache: data/cache/List # 23_1,043,872 Contacts New Project 143 Million Part-2 (1)_all.parquet\n",
      "Loaded from cache: data/cache/List # 53_1,046,876 Contacts New Project 143 Million Part-2_all.parquet\n",
      "Loaded from cache: data/cache/List # 54_1,044,327 Contacts New Project 143 Million Part-2_all.parquet\n",
      "Loaded from cache: data/cache/List # 20_1,042,825 Contacts New Project 143 Million Part-2_all.parquet\n",
      "Loaded from cache: data/cache/List # 16_1,043,443 Contacts New Project 143 Million Part-2_all.parquet\n",
      "Loaded from cache: data/cache/List # 58_1,045,474 Contacts New Project 143 Million Part-2_all.parquet\n",
      "Loaded from cache: data/cache/List # 11_1,038,212 Contacts New Project 143 Million Part-2_all.parquet\n",
      "Loaded from cache: data/cache/List # 50_1,045,679 Contacts New Project 143 Million Part-2_all.parquet\n",
      "Loaded from cache: data/cache/List # 30_1,044,661 Contacts New Project 143 Million Part-2_all.parquet\n",
      "Loaded from cache: data/cache/List # 39_1,047,774 Contacts New Project 143 Million Part-2_all.parquet\n",
      "Loaded from cache: data/cache/List # 60_1,043,418 Contacts New Project 143 Million Part-2_all.parquet\n",
      "Loaded from cache: data/cache/List # 01_1,027,971 Contacts New Project 143 Million Part-2_all.parquet\n",
      "Loaded from cache: data/cache/List # 07_1,015,210 Contacts New Project 143 Million Part-2_all.parquet\n",
      "Loaded from cache: data/cache/List # 43_1,047,711 Contacts New Project 143 Million Part-2_all.parquet\n",
      "Loaded from cache: data/cache/List # 34_1,045,271 Contacts New Project 143 Million Part-2_all.parquet\n",
      "Loaded from cache: data/cache/List # 68_1,046,853 Contacts New Project 143 Million Part-2_all.parquet\n",
      "Loaded from cache: data/cache/List # 46_1,046,890 Contacts New Project 143 Million Part-2_all.parquet\n",
      "Loaded from cache: data/cache/List # 48_1,047,965 Contacts New Project 143 Million Part-2_all.parquet\n",
      "Loaded from cache: data/cache/List # 31_1,044,073 Contacts New Project 143 Million Part-2_all.parquet\n",
      "Loaded from cache: data/cache/List # 03_1,038,935 Contacts New Project 143 Million Part-2_all.parquet\n",
      "Loaded from cache: data/cache/List # 49_1,045,427 Contacts New Project 143 Million Part-2_all.parquet\n",
      "Loaded from cache: data/cache/List # 59_1,045,183 Contacts New Project 143 Million Part-2_all.parquet\n",
      "Loaded from cache: data/cache/List # 10_1,038,021 Contacts New Project 143 Million Part-2_all.parquet\n",
      "Loaded from cache: data/cache/List # 27_1,044,322 Contacts New Project 143 Million Part-2_all.parquet\n",
      "Loaded from cache: data/cache/List # 67_1,047,878 Contacts New Project 143 Million Part-2_all.parquet\n",
      "Loaded from cache: data/cache/List # 08_1,039,704 Contacts New Project 143 Million Part-2_all.parquet\n"
     ]
    }
   ],
   "source": [
    "apollo_zoom_dir = data_dir / 'apollo/Zoom Info 70 Million'\n",
    "\n",
    "list_zoom_dfs = []\n",
    "for file in apollo_zoom_dir.glob('*.xlsx'):\n",
    "    list_zoom_dfs.append(load_or_cache_xlsx(file, 'all'))"
   ]
  },
  {
   "cell_type": "code",
   "execution_count": 11,
   "metadata": {},
   "outputs": [],
   "source": [
    "list_zoom_dfs_str = [df.with_columns([pl.col(column).cast(pl.Utf8) for column in df.columns]) for df in list_zoom_dfs]\n",
    "\n",
    "updated_list_apollo_82_dfs = []\n",
    "\n",
    "for df in list_zoom_dfs_str:\n",
    "    if 'Domain' in df.columns:\n",
    "        df = df.drop('Domain')\n",
    "    if 'Pattern' in df.columns:\n",
    "        df = df.drop('Pattern')\n",
    "        \n",
    "    updated_list_apollo_82_dfs.append(df)\n",
    "    \n",
    "zoom_df = pl.concat(updated_list_apollo_82_dfs)"
   ]
  },
  {
   "cell_type": "code",
   "execution_count": 12,
   "metadata": {},
   "outputs": [
    {
     "data": {
      "text/html": [
       "<div><style>\n",
       ".dataframe > thead > tr,\n",
       ".dataframe > tbody > tr {\n",
       "  text-align: right;\n",
       "  white-space: pre-wrap;\n",
       "}\n",
       "</style>\n",
       "<small>shape: (73_009_192, 18)</small><table border=\"1\" class=\"dataframe\"><thead><tr><th>First Name</th><th>Middle Name</th><th>Last Name</th><th>Title</th><th>Company Name</th><th>Mailing Address</th><th>Primary City</th><th>Primary State</th><th>ZIP Code</th><th>Country</th><th>Phone</th><th>Web Address</th><th>Email</th><th>Reveneu</th><th>Employee</th><th>Industry</th><th>Sub Industry</th><th>filename</th></tr><tr><td>str</td><td>str</td><td>str</td><td>str</td><td>str</td><td>str</td><td>str</td><td>str</td><td>str</td><td>str</td><td>str</td><td>str</td><td>str</td><td>str</td><td>str</td><td>str</td><td>str</td><td>str</td></tr></thead><tbody><tr><td>&quot;Monica&quot;</td><td>null</td><td>&quot;Dougherty&quot;</td><td>&quot;Manager of Information Technol…</td><td>&quot;Sole Technology&quot;</td><td>&quot;20161 Windrow Dr&quot;</td><td>&quot;Lake Forest&quot;</td><td>&quot;CA&quot;</td><td>&quot;92630&quot;</td><td>&quot;USA&quot;</td><td>&quot;949-460-2020&quot;</td><td>&quot;www.soletechnology.com&quot;</td><td>&quot;dmonica@soletechnology.com&quot;</td><td>&quot;$100 - $250M&quot;</td><td>&quot;250 - 1000&quot;</td><td>&quot;Retail&quot;</td><td>&quot;Retail Other&quot;</td><td>&quot;List # 04_1,034,387 Contacts N…</td></tr><tr><td>&quot;Janice&quot;</td><td>null</td><td>&quot;Cole&quot;</td><td>&quot;Branch Manager&quot;</td><td>&quot;Bmo Financial Group Ltd&quot;</td><td>&quot;Po Box 3 Stn 1St Can Place&quot;</td><td>&quot;Toronto&quot;</td><td>&quot;ON&quot;</td><td>&quot;M5X 1A3&quot;</td><td>&quot;Canada&quot;</td><td>&quot;416-867-5000&quot;</td><td>&quot;www.bmo.com&quot;</td><td>&quot;jcole@bmo.com&quot;</td><td>&quot;&gt; $1B&quot;</td><td>&quot;&gt; 100K&quot;</td><td>&quot;Financial Services&quot;</td><td>&quot;Banks&quot;</td><td>&quot;List # 04_1,034,387 Contacts N…</td></tr><tr><td>&quot;Paul&quot;</td><td>null</td><td>&quot;Kossler&quot;</td><td>&quot;Software Engineer&quot;</td><td>&quot;United States Navy&quot;</td><td>&quot;33055 Nixie Way&quot;</td><td>&quot;San Diego&quot;</td><td>&quot;CA&quot;</td><td>&quot;92147&quot;</td><td>&quot;USA&quot;</td><td>&quot;619-524-6734&quot;</td><td>&quot;www.eodpoe2.navsea.navy.mil&quot;</td><td>&quot;kpaul@navy.mil&quot;</td><td>&quot;&gt; $1B&quot;</td><td>&quot;&gt; 100K&quot;</td><td>&quot;Government&quot;</td><td>&quot;National Government&quot;</td><td>&quot;List # 04_1,034,387 Contacts N…</td></tr><tr><td>&quot;Aravind&quot;</td><td>null</td><td>&quot;Sen&quot;</td><td>&quot;Consultant&quot;</td><td>&quot;Cognizant Technology Solutions…</td><td>&quot;500 Frank W Burr Blvd&quot;</td><td>&quot;Teaneck&quot;</td><td>&quot;NJ&quot;</td><td>&quot;7666&quot;</td><td>&quot;USA&quot;</td><td>&quot;201-801-0233&quot;</td><td>&quot;www.cognizant.com&quot;</td><td>&quot;aravind@cognizant.com&quot;</td><td>&quot;&gt; $1B&quot;</td><td>&quot;10K - 50K&quot;</td><td>&quot;Computers &amp; Electronics&quot;</td><td>&quot;IT and Network Services and Su…</td><td>&quot;List # 04_1,034,387 Contacts N…</td></tr><tr><td>&quot;Michael&quot;</td><td>null</td><td>&quot;Heaney&quot;</td><td>&quot;Vice President, Sales&quot;</td><td>&quot;Infogroup / Infousa&quot;</td><td>&quot;5711 S 86Th Cir&quot;</td><td>&quot;Omaha&quot;</td><td>&quot;NE&quot;</td><td>&quot;68127&quot;</td><td>&quot;USA&quot;</td><td>&quot;402-593-4500&quot;</td><td>&quot;www.infogroup.com&quot;</td><td>&quot;mheaney@infogroup.com&quot;</td><td>&quot;$250 - 500M&quot;</td><td>&quot;1K - 10K&quot;</td><td>&quot;Business Services&quot;</td><td>&quot;Data and Records Management&quot;</td><td>&quot;List # 04_1,034,387 Contacts N…</td></tr><tr><td>&hellip;</td><td>&hellip;</td><td>&hellip;</td><td>&hellip;</td><td>&hellip;</td><td>&hellip;</td><td>&hellip;</td><td>&hellip;</td><td>&hellip;</td><td>&hellip;</td><td>&hellip;</td><td>&hellip;</td><td>&hellip;</td><td>&hellip;</td><td>&hellip;</td><td>&hellip;</td><td>&hellip;</td><td>&hellip;</td></tr><tr><td>&quot;Ran&quot;</td><td>null</td><td>&quot;Libeskind-Hadas&quot;</td><td>&quot;Chair-Computer Science&quot;</td><td>&quot;Harvey Mudd College&quot;</td><td>&quot;301 Platt Blvd&quot;</td><td>&quot;Claremont&quot;</td><td>&quot;CA&quot;</td><td>&quot;91711&quot;</td><td>&quot;USA&quot;</td><td>&quot;909-621-8000&quot;</td><td>&quot;www.hmc.edu&quot;</td><td>&quot;libeskind-hadas_ran@hmc.edu&quot;</td><td>&quot;$1 - $10M&quot;</td><td>&quot;100 - 250&quot;</td><td>&quot;Education&quot;</td><td>&quot;Colleges and Universities&quot;</td><td>&quot;List # 08_1,039,704 Contacts N…</td></tr><tr><td>&quot;Theodore&quot;</td><td>null</td><td>&quot;Darlak&quot;</td><td>&quot;Technical Services Manager-Inf…</td><td>&quot;Niagara University&quot;</td><td>&quot;Po Box 2008&quot;</td><td>&quot;Niagara University&quot;</td><td>&quot;NY&quot;</td><td>&quot;14109&quot;</td><td>&quot;USA&quot;</td><td>&quot;716-286-8200&quot;</td><td>&quot;www.niagara.edu&quot;</td><td>&quot;darlak_theodore@niagara.edu&quot;</td><td>&quot;$1 - $10M&quot;</td><td>&quot;250 - 1000&quot;</td><td>&quot;Education&quot;</td><td>&quot;Colleges and Universities&quot;</td><td>&quot;List # 08_1,039,704 Contacts N…</td></tr><tr><td>&quot;Arleen&quot;</td><td>null</td><td>&quot;Thompson&quot;</td><td>&quot;Office of Instructional and In…</td><td>&quot;Boston Public Schools&quot;</td><td>&quot;26 Court St&quot;</td><td>&quot;Boston&quot;</td><td>&quot;MA&quot;</td><td>&quot;2108&quot;</td><td>&quot;USA&quot;</td><td>&quot;617-635-9000&quot;</td><td>&quot;www.boston.k12.ma.us&quot;</td><td>&quot;thompson_arleen@boston.k12.ma.…</td><td>&quot;$100 - $250M&quot;</td><td>&quot;250 - 1000&quot;</td><td>&quot;Education&quot;</td><td>&quot;Elementary and Secondary Schoo…</td><td>&quot;List # 08_1,039,704 Contacts N…</td></tr><tr><td>&quot;Darrell&quot;</td><td>null</td><td>&quot;Walker&quot;</td><td>&quot;Vice President, Education&quot;</td><td>&quot;CA Inc&quot;</td><td>&quot;1 Computer Associates Plz&quot;</td><td>&quot;Islandia&quot;</td><td>&quot;NY&quot;</td><td>&quot;11749&quot;</td><td>&quot;USA&quot;</td><td>&quot;800-225-5224&quot;</td><td>&quot;www.ca.com&quot;</td><td>&quot;darrell.walker@ca.com&quot;</td><td>&quot;&gt; $1B&quot;</td><td>&quot;10K - 50K&quot;</td><td>&quot;Software &amp; Internet&quot;</td><td>&quot;Software &amp; Internet Other&quot;</td><td>&quot;List # 08_1,039,704 Contacts N…</td></tr><tr><td>&quot;Rob&quot;</td><td>null</td><td>&quot;Sharpe&quot;</td><td>&quot;Chief Technology Officer&quot;</td><td>&quot;Lawrence Livermore National La…</td><td>&quot;7000 East Ave&quot;</td><td>&quot;Livermore&quot;</td><td>&quot;CA&quot;</td><td>&quot;94550&quot;</td><td>&quot;USA&quot;</td><td>&quot;925-422-1100&quot;</td><td>&quot;www.llnl.gov&quot;</td><td>&quot;sharpe_rob@llnl.gov&quot;</td><td>&quot;$1 - $10M&quot;</td><td>&quot;1K - 10K&quot;</td><td>&quot;Government&quot;</td><td>&quot;National Government&quot;</td><td>&quot;List # 08_1,039,704 Contacts N…</td></tr></tbody></table></div>"
      ],
      "text/plain": [
       "shape: (73_009_192, 18)\n",
       "┌───────────┬───────────┬───────────┬───────────┬───┬───────────┬───────────┬───────────┬──────────┐\n",
       "│ First     ┆ Middle    ┆ Last Name ┆ Title     ┆ … ┆ Employee  ┆ Industry  ┆ Sub       ┆ filename │\n",
       "│ Name      ┆ Name      ┆ ---       ┆ ---       ┆   ┆ ---       ┆ ---       ┆ Industry  ┆ ---      │\n",
       "│ ---       ┆ ---       ┆ str       ┆ str       ┆   ┆ str       ┆ str       ┆ ---       ┆ str      │\n",
       "│ str       ┆ str       ┆           ┆           ┆   ┆           ┆           ┆ str       ┆          │\n",
       "╞═══════════╪═══════════╪═══════════╪═══════════╪═══╪═══════════╪═══════════╪═══════════╪══════════╡\n",
       "│ Monica    ┆ null      ┆ Dougherty ┆ Manager   ┆ … ┆ 250 -     ┆ Retail    ┆ Retail    ┆ List #   │\n",
       "│           ┆           ┆           ┆ of Inform ┆   ┆ 1000      ┆           ┆ Other     ┆ 04_1,034 │\n",
       "│           ┆           ┆           ┆ ation     ┆   ┆           ┆           ┆           ┆ ,387     │\n",
       "│           ┆           ┆           ┆ Technol…  ┆   ┆           ┆           ┆           ┆ Contacts │\n",
       "│           ┆           ┆           ┆           ┆   ┆           ┆           ┆           ┆ N…       │\n",
       "│ Janice    ┆ null      ┆ Cole      ┆ Branch    ┆ … ┆ > 100K    ┆ Financial ┆ Banks     ┆ List #   │\n",
       "│           ┆           ┆           ┆ Manager   ┆   ┆           ┆ Services  ┆           ┆ 04_1,034 │\n",
       "│           ┆           ┆           ┆           ┆   ┆           ┆           ┆           ┆ ,387     │\n",
       "│           ┆           ┆           ┆           ┆   ┆           ┆           ┆           ┆ Contacts │\n",
       "│           ┆           ┆           ┆           ┆   ┆           ┆           ┆           ┆ N…       │\n",
       "│ Paul      ┆ null      ┆ Kossler   ┆ Software  ┆ … ┆ > 100K    ┆ Governmen ┆ National  ┆ List #   │\n",
       "│           ┆           ┆           ┆ Engineer  ┆   ┆           ┆ t         ┆ Governmen ┆ 04_1,034 │\n",
       "│           ┆           ┆           ┆           ┆   ┆           ┆           ┆ t         ┆ ,387     │\n",
       "│           ┆           ┆           ┆           ┆   ┆           ┆           ┆           ┆ Contacts │\n",
       "│           ┆           ┆           ┆           ┆   ┆           ┆           ┆           ┆ N…       │\n",
       "│ Aravind   ┆ null      ┆ Sen       ┆ Consultan ┆ … ┆ 10K - 50K ┆ Computers ┆ IT and    ┆ List #   │\n",
       "│           ┆           ┆           ┆ t         ┆   ┆           ┆ & Electro ┆ Network   ┆ 04_1,034 │\n",
       "│           ┆           ┆           ┆           ┆   ┆           ┆ nics      ┆ Services  ┆ ,387     │\n",
       "│           ┆           ┆           ┆           ┆   ┆           ┆           ┆ and Su…   ┆ Contacts │\n",
       "│           ┆           ┆           ┆           ┆   ┆           ┆           ┆           ┆ N…       │\n",
       "│ Michael   ┆ null      ┆ Heaney    ┆ Vice Pres ┆ … ┆ 1K - 10K  ┆ Business  ┆ Data and  ┆ List #   │\n",
       "│           ┆           ┆           ┆ ident,    ┆   ┆           ┆ Services  ┆ Records   ┆ 04_1,034 │\n",
       "│           ┆           ┆           ┆ Sales     ┆   ┆           ┆           ┆ Managemen ┆ ,387     │\n",
       "│           ┆           ┆           ┆           ┆   ┆           ┆           ┆ t         ┆ Contacts │\n",
       "│           ┆           ┆           ┆           ┆   ┆           ┆           ┆           ┆ N…       │\n",
       "│ …         ┆ …         ┆ …         ┆ …         ┆ … ┆ …         ┆ …         ┆ …         ┆ …        │\n",
       "│ Ran       ┆ null      ┆ Libeskind ┆ Chair-Com ┆ … ┆ 100 - 250 ┆ Education ┆ Colleges  ┆ List #   │\n",
       "│           ┆           ┆ -Hadas    ┆ puter     ┆   ┆           ┆           ┆ and Unive ┆ 08_1,039 │\n",
       "│           ┆           ┆           ┆ Science   ┆   ┆           ┆           ┆ rsities   ┆ ,704     │\n",
       "│           ┆           ┆           ┆           ┆   ┆           ┆           ┆           ┆ Contacts │\n",
       "│           ┆           ┆           ┆           ┆   ┆           ┆           ┆           ┆ N…       │\n",
       "│ Theodore  ┆ null      ┆ Darlak    ┆ Technical ┆ … ┆ 250 -     ┆ Education ┆ Colleges  ┆ List #   │\n",
       "│           ┆           ┆           ┆ Services  ┆   ┆ 1000      ┆           ┆ and Unive ┆ 08_1,039 │\n",
       "│           ┆           ┆           ┆ Manager-I ┆   ┆           ┆           ┆ rsities   ┆ ,704     │\n",
       "│           ┆           ┆           ┆ nf…       ┆   ┆           ┆           ┆           ┆ Contacts │\n",
       "│           ┆           ┆           ┆           ┆   ┆           ┆           ┆           ┆ N…       │\n",
       "│ Arleen    ┆ null      ┆ Thompson  ┆ Office of ┆ … ┆ 250 -     ┆ Education ┆ Elementar ┆ List #   │\n",
       "│           ┆           ┆           ┆ Instructi ┆   ┆ 1000      ┆           ┆ y and     ┆ 08_1,039 │\n",
       "│           ┆           ┆           ┆ onal and  ┆   ┆           ┆           ┆ Secondary ┆ ,704     │\n",
       "│           ┆           ┆           ┆ In…       ┆   ┆           ┆           ┆ Schoo…    ┆ Contacts │\n",
       "│           ┆           ┆           ┆           ┆   ┆           ┆           ┆           ┆ N…       │\n",
       "│ Darrell   ┆ null      ┆ Walker    ┆ Vice Pres ┆ … ┆ 10K - 50K ┆ Software  ┆ Software  ┆ List #   │\n",
       "│           ┆           ┆           ┆ ident,    ┆   ┆           ┆ &         ┆ &         ┆ 08_1,039 │\n",
       "│           ┆           ┆           ┆ Education ┆   ┆           ┆ Internet  ┆ Internet  ┆ ,704     │\n",
       "│           ┆           ┆           ┆           ┆   ┆           ┆           ┆ Other     ┆ Contacts │\n",
       "│           ┆           ┆           ┆           ┆   ┆           ┆           ┆           ┆ N…       │\n",
       "│ Rob       ┆ null      ┆ Sharpe    ┆ Chief Tec ┆ … ┆ 1K - 10K  ┆ Governmen ┆ National  ┆ List #   │\n",
       "│           ┆           ┆           ┆ hnology   ┆   ┆           ┆ t         ┆ Governmen ┆ 08_1,039 │\n",
       "│           ┆           ┆           ┆ Officer   ┆   ┆           ┆           ┆ t         ┆ ,704     │\n",
       "│           ┆           ┆           ┆           ┆   ┆           ┆           ┆           ┆ Contacts │\n",
       "│           ┆           ┆           ┆           ┆   ┆           ┆           ┆           ┆ N…       │\n",
       "└───────────┴───────────┴───────────┴───────────┴───┴───────────┴───────────┴───────────┴──────────┘"
      ]
     },
     "execution_count": 12,
     "metadata": {},
     "output_type": "execute_result"
    }
   ],
   "source": [
    "zoom_df"
   ]
  },
  {
   "cell_type": "code",
   "execution_count": 13,
   "metadata": {},
   "outputs": [],
   "source": [
    "# def check_headers(dfs):\n",
    "#     first_schema = dfs[0].schema\n",
    "#     for i, df in enumerate(dfs[1:], start=1):\n",
    "#         if df.schema != first_schema:\n",
    "#             print(f\"Header mismatch found in DataFrame at index {i} compared to the first DataFrame.\")\n",
    "#             return False\n",
    "#     print(\"All headers match.\")\n",
    "#     return True\n",
    "\n",
    "# # Check if all DataFrames have the same schema\n",
    "# check_headers(list_zoom_dfs_str)\n"
   ]
  },
  {
   "cell_type": "code",
   "execution_count": 14,
   "metadata": {},
   "outputs": [
    {
     "data": {
      "text/html": [
       "<div><style>\n",
       ".dataframe > thead > tr,\n",
       ".dataframe > tbody > tr {\n",
       "  text-align: right;\n",
       "  white-space: pre-wrap;\n",
       "}\n",
       "</style>\n",
       "<small>shape: (27_972_591, 18)</small><table border=\"1\" class=\"dataframe\"><thead><tr><th>First Name</th><th>Middle Name</th><th>Last Name</th><th>Title</th><th>Company Name</th><th>Mailing Address</th><th>Primary City</th><th>Primary State</th><th>ZIP Code</th><th>Country</th><th>Phone</th><th>Web Address</th><th>Email</th><th>Revenue</th><th>Employee</th><th>Industry</th><th>Sub Industry</th><th>filename</th></tr><tr><td>str</td><td>str</td><td>str</td><td>str</td><td>str</td><td>str</td><td>str</td><td>str</td><td>str</td><td>str</td><td>str</td><td>str</td><td>str</td><td>str</td><td>str</td><td>str</td><td>str</td><td>str</td></tr></thead><tbody><tr><td>&quot;Andrew&quot;</td><td>null</td><td>&quot;Ku&quot;</td><td>&quot;Radiology, M.D.&quot;</td><td>&quot;Ct.Gov Portal&quot;</td><td>&quot;Capitol Place 21 Oak St&quot;</td><td>&quot;Hartford&quot;</td><td>&quot;CT&quot;</td><td>&quot;6106&quot;</td><td>&quot;USA&quot;</td><td>&quot;860-240-0000&quot;</td><td>&quot;www.ct.gov&quot;</td><td>&quot;andrew.ku@ct.gov&quot;</td><td>&quot;$0 - $1M&quot;</td><td>&quot;10K - 50K&quot;</td><td>&quot;Government&quot;</td><td>&quot;State/Provincial Government&quot;</td><td>&quot;List # 08_1,038,035 Contacts N…</td></tr><tr><td>&quot;Leslie&quot;</td><td>null</td><td>&quot;Thomson&quot;</td><td>&quot;General Counsel&quot;</td><td>&quot;Montgomery Psychiatry &amp; Associ…</td><td>&quot;1040 Longfield Ct&quot;</td><td>&quot;Montgomery&quot;</td><td>&quot;AL&quot;</td><td>&quot;36117&quot;</td><td>&quot;USA&quot;</td><td>&quot;334-288-9009&quot;</td><td>&quot;www.mpa1040.com&quot;</td><td>&quot;lthomson@mpa1040.com&quot;</td><td>&quot;$0 - $1M&quot;</td><td>&quot;0 - 25&quot;</td><td>&quot;Healthcare&quot;</td><td>&quot;Doctors and Health Care Practi…</td><td>&quot;List # 08_1,038,035 Contacts N…</td></tr><tr><td>&quot;Vince&quot;</td><td>null</td><td>&quot;Grafft&quot;</td><td>&quot;Sales Representative&quot;</td><td>&quot;New Horizons Computer Learning…</td><td>&quot;6377 E Tanque Verde Rd Ste 200&quot;</td><td>&quot;Tucson&quot;</td><td>&quot;AZ&quot;</td><td>&quot;85715&quot;</td><td>&quot;USA&quot;</td><td>&quot;520-290-5600&quot;</td><td>&quot;www.nhtucson.com&quot;</td><td>&quot;vgrafft@nhtucson.com&quot;</td><td>&quot;$10 - 50M&quot;</td><td>&quot;250 - 1000&quot;</td><td>&quot;Education&quot;</td><td>&quot;Education Other&quot;</td><td>&quot;List # 08_1,038,035 Contacts N…</td></tr><tr><td>&quot;Rob&quot;</td><td>null</td><td>&quot;Huner&quot;</td><td>&quot;Purchasing Manager&quot;</td><td>&quot;Kraft Foods Group, Inc.&quot;</td><td>&quot;Three Lakes Dr&quot;</td><td>&quot;Northfield&quot;</td><td>&quot;IL&quot;</td><td>&quot;60093&quot;</td><td>&quot;USA&quot;</td><td>&quot;847-646-2000&quot;</td><td>&quot;www.kraft.com&quot;</td><td>&quot;rhuner@kraft.com&quot;</td><td>&quot;&gt; $1B&quot;</td><td>&quot;&gt; 100K&quot;</td><td>&quot;Manufacturing&quot;</td><td>&quot;Food &amp; Dairy Product Manufactu…</td><td>&quot;List # 08_1,038,035 Contacts N…</td></tr><tr><td>&quot;John&quot;</td><td>&quot;S.&quot;</td><td>&quot;Phillip&quot;</td><td>&quot;Sales Manager, Supply Chain Ma…</td><td>&quot;Eclipse&quot;</td><td>&quot;6625 Reflections Dr&quot;</td><td>&quot;Dublin&quot;</td><td>&quot;OH&quot;</td><td>&quot;43017&quot;</td><td>&quot;USA&quot;</td><td>&quot;614-652-9006&quot;</td><td>&quot;www.eclipse-studio.com&quot;</td><td>&quot;jsphillip@eclipse-studio.com&quot;</td><td>&quot;$0 - 1M&quot;</td><td>&quot;0 - 25&quot;</td><td>&quot;Business Services&quot;</td><td>&quot;Other&quot;</td><td>&quot;List # 08_1,038,035 Contacts N…</td></tr><tr><td>&hellip;</td><td>&hellip;</td><td>&hellip;</td><td>&hellip;</td><td>&hellip;</td><td>&hellip;</td><td>&hellip;</td><td>&hellip;</td><td>&hellip;</td><td>&hellip;</td><td>&hellip;</td><td>&hellip;</td><td>&hellip;</td><td>&hellip;</td><td>&hellip;</td><td>&hellip;</td><td>&hellip;</td><td>&hellip;</td></tr><tr><td>&quot;Anne&quot;</td><td>null</td><td>&quot;Reischick&quot;</td><td>&quot;Deputy Editor&quot;</td><td>&quot;Vancouver School District&quot;</td><td>&quot;Po Box 8937&quot;</td><td>&quot;Vancouver&quot;</td><td>&quot;WA&quot;</td><td>&quot;98668&quot;</td><td>&quot;USA&quot;</td><td>&quot;360-313-1100&quot;</td><td>&quot;www.vansd.org&quot;</td><td>&quot;anne.reischick@vansd.org&quot;</td><td>&quot;$10 - $50M&quot;</td><td>&quot;250 - 1000&quot;</td><td>&quot;Education&quot;</td><td>&quot;Elementary and Secondary Schoo…</td><td>&quot;List # 09_1,035,664 Contacts N…</td></tr><tr><td>&quot;Joel&quot;</td><td>null</td><td>&quot;Vale&quot;</td><td>&quot;Project Manager Analytic Devel…</td><td>&quot;State of Vermont&quot;</td><td>&quot;133 State Street 5Th Floor&quot;</td><td>&quot;Montpelier&quot;</td><td>&quot;VT&quot;</td><td>&quot;5633&quot;</td><td>&quot;USA&quot;</td><td>&quot;802-828-4141&quot;</td><td>&quot;www.vermont.gov&quot;</td><td>&quot;jvale@vermont.gov&quot;</td><td>&quot;$1 - $10M&quot;</td><td>&quot;1K - 10K&quot;</td><td>&quot;Government&quot;</td><td>&quot;Government Other&quot;</td><td>&quot;List # 09_1,035,664 Contacts N…</td></tr><tr><td>&quot;James&quot;</td><td>null</td><td>&quot;Chou&quot;</td><td>&quot;Chief Marketing Officer&quot;</td><td>&quot;Harvard-Faculty of Arts and Sc…</td><td>&quot;54 Dunster St&quot;</td><td>&quot;Cambridge&quot;</td><td>&quot;MA&quot;</td><td>&quot;2138&quot;</td><td>&quot;USA&quot;</td><td>&quot;617-496-0738&quot;</td><td>&quot;www.fas.harvard.edu&quot;</td><td>&quot;jchou@fas.harvard.edu&quot;</td><td>&quot;$100 - $250M&quot;</td><td>&quot;1K - 10K&quot;</td><td>&quot;Education&quot;</td><td>&quot;Colleges and Universities&quot;</td><td>&quot;List # 09_1,035,664 Contacts N…</td></tr><tr><td>&quot;Clarence&quot;</td><td>null</td><td>&quot;Conner&quot;</td><td>&quot;Media Director&quot;</td><td>&quot;Bridgestreet Worldwide Inc.&quot;</td><td>&quot;485 Springpark Pl Ste 200&quot;</td><td>&quot;Herndon&quot;</td><td>&quot;VA&quot;</td><td>&quot;20170&quot;</td><td>&quot;USA&quot;</td><td>&quot;571-481-2700&quot;</td><td>&quot;www.bridgestreet.com&quot;</td><td>&quot;cconner@bridgestreet.com&quot;</td><td>&quot;$10 - $50M&quot;</td><td>&quot;250 - 1000&quot;</td><td>&quot;Real Estate &amp; Construction&quot;</td><td>&quot;Property Leasing and Managemen…</td><td>&quot;List # 09_1,035,664 Contacts N…</td></tr><tr><td>&quot;Michael&quot;</td><td>null</td><td>&quot;Dennehy&quot;</td><td>&quot;Manager of Group Marketing Com…</td><td>&quot;Life Care Center of Copper Bas…</td><td>&quot;3570 Keith St. Nw&quot;</td><td>&quot;Cleveland&quot;</td><td>&quot;TN&quot;</td><td>&quot;37312&quot;</td><td>&quot;USA&quot;</td><td>&quot;423-472-9585&quot;</td><td>&quot;www.lcca.com&quot;</td><td>&quot;michael.dennehy@lcca.com&quot;</td><td>&quot;&gt; $1B&quot;</td><td>&quot;10K - 50K&quot;</td><td>&quot;Healthcare&quot;</td><td>&quot;Residential and Long-Term Care…</td><td>&quot;List # 09_1,035,664 Contacts N…</td></tr></tbody></table></div>"
      ],
      "text/plain": [
       "shape: (27_972_591, 18)\n",
       "┌───────────┬───────────┬───────────┬───────────┬───┬───────────┬───────────┬───────────┬──────────┐\n",
       "│ First     ┆ Middle    ┆ Last Name ┆ Title     ┆ … ┆ Employee  ┆ Industry  ┆ Sub       ┆ filename │\n",
       "│ Name      ┆ Name      ┆ ---       ┆ ---       ┆   ┆ ---       ┆ ---       ┆ Industry  ┆ ---      │\n",
       "│ ---       ┆ ---       ┆ str       ┆ str       ┆   ┆ str       ┆ str       ┆ ---       ┆ str      │\n",
       "│ str       ┆ str       ┆           ┆           ┆   ┆           ┆           ┆ str       ┆          │\n",
       "╞═══════════╪═══════════╪═══════════╪═══════════╪═══╪═══════════╪═══════════╪═══════════╪══════════╡\n",
       "│ Andrew    ┆ null      ┆ Ku        ┆ Radiology ┆ … ┆ 10K - 50K ┆ Governmen ┆ State/Pro ┆ List #   │\n",
       "│           ┆           ┆           ┆ , M.D.    ┆   ┆           ┆ t         ┆ vincial   ┆ 08_1,038 │\n",
       "│           ┆           ┆           ┆           ┆   ┆           ┆           ┆ Governmen ┆ ,035     │\n",
       "│           ┆           ┆           ┆           ┆   ┆           ┆           ┆ t         ┆ Contacts │\n",
       "│           ┆           ┆           ┆           ┆   ┆           ┆           ┆           ┆ N…       │\n",
       "│ Leslie    ┆ null      ┆ Thomson   ┆ General   ┆ … ┆ 0 - 25    ┆ Healthcar ┆ Doctors   ┆ List #   │\n",
       "│           ┆           ┆           ┆ Counsel   ┆   ┆           ┆ e         ┆ and       ┆ 08_1,038 │\n",
       "│           ┆           ┆           ┆           ┆   ┆           ┆           ┆ Health    ┆ ,035     │\n",
       "│           ┆           ┆           ┆           ┆   ┆           ┆           ┆ Care      ┆ Contacts │\n",
       "│           ┆           ┆           ┆           ┆   ┆           ┆           ┆ Practi…   ┆ N…       │\n",
       "│ Vince     ┆ null      ┆ Grafft    ┆ Sales Rep ┆ … ┆ 250 -     ┆ Education ┆ Education ┆ List #   │\n",
       "│           ┆           ┆           ┆ resentati ┆   ┆ 1000      ┆           ┆ Other     ┆ 08_1,038 │\n",
       "│           ┆           ┆           ┆ ve        ┆   ┆           ┆           ┆           ┆ ,035     │\n",
       "│           ┆           ┆           ┆           ┆   ┆           ┆           ┆           ┆ Contacts │\n",
       "│           ┆           ┆           ┆           ┆   ┆           ┆           ┆           ┆ N…       │\n",
       "│ Rob       ┆ null      ┆ Huner     ┆ Purchasin ┆ … ┆ > 100K    ┆ Manufactu ┆ Food &    ┆ List #   │\n",
       "│           ┆           ┆           ┆ g Manager ┆   ┆           ┆ ring      ┆ Dairy     ┆ 08_1,038 │\n",
       "│           ┆           ┆           ┆           ┆   ┆           ┆           ┆ Product   ┆ ,035     │\n",
       "│           ┆           ┆           ┆           ┆   ┆           ┆           ┆ Manufactu ┆ Contacts │\n",
       "│           ┆           ┆           ┆           ┆   ┆           ┆           ┆ …         ┆ N…       │\n",
       "│ John      ┆ S.        ┆ Phillip   ┆ Sales     ┆ … ┆ 0 - 25    ┆ Business  ┆ Other     ┆ List #   │\n",
       "│           ┆           ┆           ┆ Manager,  ┆   ┆           ┆ Services  ┆           ┆ 08_1,038 │\n",
       "│           ┆           ┆           ┆ Supply    ┆   ┆           ┆           ┆           ┆ ,035     │\n",
       "│           ┆           ┆           ┆ Chain Ma… ┆   ┆           ┆           ┆           ┆ Contacts │\n",
       "│           ┆           ┆           ┆           ┆   ┆           ┆           ┆           ┆ N…       │\n",
       "│ …         ┆ …         ┆ …         ┆ …         ┆ … ┆ …         ┆ …         ┆ …         ┆ …        │\n",
       "│ Anne      ┆ null      ┆ Reischick ┆ Deputy    ┆ … ┆ 250 -     ┆ Education ┆ Elementar ┆ List #   │\n",
       "│           ┆           ┆           ┆ Editor    ┆   ┆ 1000      ┆           ┆ y and     ┆ 09_1,035 │\n",
       "│           ┆           ┆           ┆           ┆   ┆           ┆           ┆ Secondary ┆ ,664     │\n",
       "│           ┆           ┆           ┆           ┆   ┆           ┆           ┆ Schoo…    ┆ Contacts │\n",
       "│           ┆           ┆           ┆           ┆   ┆           ┆           ┆           ┆ N…       │\n",
       "│ Joel      ┆ null      ┆ Vale      ┆ Project   ┆ … ┆ 1K - 10K  ┆ Governmen ┆ Governmen ┆ List #   │\n",
       "│           ┆           ┆           ┆ Manager   ┆   ┆           ┆ t         ┆ t Other   ┆ 09_1,035 │\n",
       "│           ┆           ┆           ┆ Analytic  ┆   ┆           ┆           ┆           ┆ ,664     │\n",
       "│           ┆           ┆           ┆ Devel…    ┆   ┆           ┆           ┆           ┆ Contacts │\n",
       "│           ┆           ┆           ┆           ┆   ┆           ┆           ┆           ┆ N…       │\n",
       "│ James     ┆ null      ┆ Chou      ┆ Chief     ┆ … ┆ 1K - 10K  ┆ Education ┆ Colleges  ┆ List #   │\n",
       "│           ┆           ┆           ┆ Marketing ┆   ┆           ┆           ┆ and Unive ┆ 09_1,035 │\n",
       "│           ┆           ┆           ┆ Officer   ┆   ┆           ┆           ┆ rsities   ┆ ,664     │\n",
       "│           ┆           ┆           ┆           ┆   ┆           ┆           ┆           ┆ Contacts │\n",
       "│           ┆           ┆           ┆           ┆   ┆           ┆           ┆           ┆ N…       │\n",
       "│ Clarence  ┆ null      ┆ Conner    ┆ Media     ┆ … ┆ 250 -     ┆ Real      ┆ Property  ┆ List #   │\n",
       "│           ┆           ┆           ┆ Director  ┆   ┆ 1000      ┆ Estate &  ┆ Leasing   ┆ 09_1,035 │\n",
       "│           ┆           ┆           ┆           ┆   ┆           ┆ Construct ┆ and Manag ┆ ,664     │\n",
       "│           ┆           ┆           ┆           ┆   ┆           ┆ ion       ┆ emen…     ┆ Contacts │\n",
       "│           ┆           ┆           ┆           ┆   ┆           ┆           ┆           ┆ N…       │\n",
       "│ Michael   ┆ null      ┆ Dennehy   ┆ Manager   ┆ … ┆ 10K - 50K ┆ Healthcar ┆ Residenti ┆ List #   │\n",
       "│           ┆           ┆           ┆ of Group  ┆   ┆           ┆ e         ┆ al and    ┆ 09_1,035 │\n",
       "│           ┆           ┆           ┆ Marketing ┆   ┆           ┆           ┆ Long-Term ┆ ,664     │\n",
       "│           ┆           ┆           ┆ Com…      ┆   ┆           ┆           ┆ Care…     ┆ Contacts │\n",
       "│           ┆           ┆           ┆           ┆   ┆           ┆           ┆           ┆ N…       │\n",
       "└───────────┴───────────┴───────────┴───────────┴───┴───────────┴───────────┴───────────┴──────────┘"
      ]
     },
     "execution_count": 14,
     "metadata": {},
     "output_type": "execute_result"
    }
   ],
   "source": [
    "apollo_82_df\n"
   ]
  },
  {
   "cell_type": "code",
   "execution_count": 15,
   "metadata": {},
   "outputs": [],
   "source": [
    "# Mapping of current names in apollo_82_df to target names\n",
    "column_mapping = {\n",
    "    'Mailing Address': 'Company Address',\n",
    "    'Primary City': 'Company City',\n",
    "    'Primary State': 'Company State',\n",
    "    'Email': 'Business Email',\n",
    "    'Phone': 'Mobile Phone'\n",
    "}\n",
    "\n",
    "# Rename the columns based on the mapping\n",
    "apollo_82_df = apollo_82_df.rename(column_mapping)\n",
    "\n",
    "# After renaming, ensure the necessary columns are all present\n",
    "apollo_82_df = apollo_82_df.select(\n",
    "    [\n",
    "        'First Name',\n",
    "        'Last Name',\n",
    "        'Business Email',\n",
    "        'Mobile Phone',\n",
    "        'Company Name',\n",
    "        'Company State',\n",
    "        'Company City',\n",
    "        'Company Address',\n",
    "        'filename'  # Include other fields as necessary\n",
    "    ]\n",
    ")\n",
    "\n",
    "zoom_df = zoom_df.rename(column_mapping)\n",
    "\n",
    "# After renaming, ensure the necessary columns are all present\n",
    "zoom_df = zoom_df.select(\n",
    "    [\n",
    "        'First Name',\n",
    "        'Last Name',\n",
    "        'Business Email',\n",
    "        'Mobile Phone',\n",
    "        'Company Name',\n",
    "        'Company State',\n",
    "        'Company City',\n",
    "        'Company Address',\n",
    "        'filename'  # Include other fields as necessary\n",
    "    ]\n",
    ")\n"
   ]
  },
  {
   "cell_type": "code",
   "execution_count": 16,
   "metadata": {},
   "outputs": [
    {
     "data": {
      "text/html": [
       "<div><style>\n",
       ".dataframe > thead > tr,\n",
       ".dataframe > tbody > tr {\n",
       "  text-align: right;\n",
       "  white-space: pre-wrap;\n",
       "}\n",
       "</style>\n",
       "<small>shape: (5, 9)</small><table border=\"1\" class=\"dataframe\"><thead><tr><th>First Name</th><th>Last Name</th><th>Business Email</th><th>Mobile Phone</th><th>Company Name</th><th>Company State</th><th>Company City</th><th>Company Address</th><th>filename</th></tr><tr><td>str</td><td>str</td><td>str</td><td>str</td><td>str</td><td>str</td><td>str</td><td>str</td><td>str</td></tr></thead><tbody><tr><td>&quot;Andrew&quot;</td><td>&quot;Ku&quot;</td><td>&quot;andrew.ku@ct.gov&quot;</td><td>&quot;860-240-0000&quot;</td><td>&quot;Ct.Gov Portal&quot;</td><td>&quot;CT&quot;</td><td>&quot;Hartford&quot;</td><td>&quot;Capitol Place 21 Oak St&quot;</td><td>&quot;List # 08_1,038,035 Contacts N…</td></tr><tr><td>&quot;Leslie&quot;</td><td>&quot;Thomson&quot;</td><td>&quot;lthomson@mpa1040.com&quot;</td><td>&quot;334-288-9009&quot;</td><td>&quot;Montgomery Psychiatry &amp; Associ…</td><td>&quot;AL&quot;</td><td>&quot;Montgomery&quot;</td><td>&quot;1040 Longfield Ct&quot;</td><td>&quot;List # 08_1,038,035 Contacts N…</td></tr><tr><td>&quot;Vince&quot;</td><td>&quot;Grafft&quot;</td><td>&quot;vgrafft@nhtucson.com&quot;</td><td>&quot;520-290-5600&quot;</td><td>&quot;New Horizons Computer Learning…</td><td>&quot;AZ&quot;</td><td>&quot;Tucson&quot;</td><td>&quot;6377 E Tanque Verde Rd Ste 200&quot;</td><td>&quot;List # 08_1,038,035 Contacts N…</td></tr><tr><td>&quot;Rob&quot;</td><td>&quot;Huner&quot;</td><td>&quot;rhuner@kraft.com&quot;</td><td>&quot;847-646-2000&quot;</td><td>&quot;Kraft Foods Group, Inc.&quot;</td><td>&quot;IL&quot;</td><td>&quot;Northfield&quot;</td><td>&quot;Three Lakes Dr&quot;</td><td>&quot;List # 08_1,038,035 Contacts N…</td></tr><tr><td>&quot;John&quot;</td><td>&quot;Phillip&quot;</td><td>&quot;jsphillip@eclipse-studio.com&quot;</td><td>&quot;614-652-9006&quot;</td><td>&quot;Eclipse&quot;</td><td>&quot;OH&quot;</td><td>&quot;Dublin&quot;</td><td>&quot;6625 Reflections Dr&quot;</td><td>&quot;List # 08_1,038,035 Contacts N…</td></tr></tbody></table></div>"
      ],
      "text/plain": [
       "shape: (5, 9)\n",
       "┌───────────┬───────────┬───────────┬───────────┬───┬───────────┬───────────┬───────────┬──────────┐\n",
       "│ First     ┆ Last Name ┆ Business  ┆ Mobile    ┆ … ┆ Company   ┆ Company   ┆ Company   ┆ filename │\n",
       "│ Name      ┆ ---       ┆ Email     ┆ Phone     ┆   ┆ State     ┆ City      ┆ Address   ┆ ---      │\n",
       "│ ---       ┆ str       ┆ ---       ┆ ---       ┆   ┆ ---       ┆ ---       ┆ ---       ┆ str      │\n",
       "│ str       ┆           ┆ str       ┆ str       ┆   ┆ str       ┆ str       ┆ str       ┆          │\n",
       "╞═══════════╪═══════════╪═══════════╪═══════════╪═══╪═══════════╪═══════════╪═══════════╪══════════╡\n",
       "│ Andrew    ┆ Ku        ┆ andrew.ku ┆ 860-240-0 ┆ … ┆ CT        ┆ Hartford  ┆ Capitol   ┆ List #   │\n",
       "│           ┆           ┆ @ct.gov   ┆ 000       ┆   ┆           ┆           ┆ Place 21  ┆ 08_1,038 │\n",
       "│           ┆           ┆           ┆           ┆   ┆           ┆           ┆ Oak St    ┆ ,035     │\n",
       "│           ┆           ┆           ┆           ┆   ┆           ┆           ┆           ┆ Contacts │\n",
       "│           ┆           ┆           ┆           ┆   ┆           ┆           ┆           ┆ N…       │\n",
       "│ Leslie    ┆ Thomson   ┆ lthomson@ ┆ 334-288-9 ┆ … ┆ AL        ┆ Montgomer ┆ 1040      ┆ List #   │\n",
       "│           ┆           ┆ mpa1040.c ┆ 009       ┆   ┆           ┆ y         ┆ Longfield ┆ 08_1,038 │\n",
       "│           ┆           ┆ om        ┆           ┆   ┆           ┆           ┆ Ct        ┆ ,035     │\n",
       "│           ┆           ┆           ┆           ┆   ┆           ┆           ┆           ┆ Contacts │\n",
       "│           ┆           ┆           ┆           ┆   ┆           ┆           ┆           ┆ N…       │\n",
       "│ Vince     ┆ Grafft    ┆ vgrafft@n ┆ 520-290-5 ┆ … ┆ AZ        ┆ Tucson    ┆ 6377 E    ┆ List #   │\n",
       "│           ┆           ┆ htucson.c ┆ 600       ┆   ┆           ┆           ┆ Tanque    ┆ 08_1,038 │\n",
       "│           ┆           ┆ om        ┆           ┆   ┆           ┆           ┆ Verde Rd  ┆ ,035     │\n",
       "│           ┆           ┆           ┆           ┆   ┆           ┆           ┆ Ste 200   ┆ Contacts │\n",
       "│           ┆           ┆           ┆           ┆   ┆           ┆           ┆           ┆ N…       │\n",
       "│ Rob       ┆ Huner     ┆ rhuner@kr ┆ 847-646-2 ┆ … ┆ IL        ┆ Northfiel ┆ Three     ┆ List #   │\n",
       "│           ┆           ┆ aft.com   ┆ 000       ┆   ┆           ┆ d         ┆ Lakes Dr  ┆ 08_1,038 │\n",
       "│           ┆           ┆           ┆           ┆   ┆           ┆           ┆           ┆ ,035     │\n",
       "│           ┆           ┆           ┆           ┆   ┆           ┆           ┆           ┆ Contacts │\n",
       "│           ┆           ┆           ┆           ┆   ┆           ┆           ┆           ┆ N…       │\n",
       "│ John      ┆ Phillip   ┆ jsphillip ┆ 614-652-9 ┆ … ┆ OH        ┆ Dublin    ┆ 6625 Refl ┆ List #   │\n",
       "│           ┆           ┆ @eclipse- ┆ 006       ┆   ┆           ┆           ┆ ections   ┆ 08_1,038 │\n",
       "│           ┆           ┆ studio.co ┆           ┆   ┆           ┆           ┆ Dr        ┆ ,035     │\n",
       "│           ┆           ┆ m         ┆           ┆   ┆           ┆           ┆           ┆ Contacts │\n",
       "│           ┆           ┆           ┆           ┆   ┆           ┆           ┆           ┆ N…       │\n",
       "└───────────┴───────────┴───────────┴───────────┴───┴───────────┴───────────┴───────────┴──────────┘"
      ]
     },
     "execution_count": 16,
     "metadata": {},
     "output_type": "execute_result"
    }
   ],
   "source": [
    "apollo_82_df.head()"
   ]
  },
  {
   "cell_type": "code",
   "execution_count": 17,
   "metadata": {},
   "outputs": [
    {
     "data": {
      "text/html": [
       "<div><style>\n",
       ".dataframe > thead > tr,\n",
       ".dataframe > tbody > tr {\n",
       "  text-align: right;\n",
       "  white-space: pre-wrap;\n",
       "}\n",
       "</style>\n",
       "<small>shape: (5, 9)</small><table border=\"1\" class=\"dataframe\"><thead><tr><th>First Name</th><th>Last Name</th><th>Business Email</th><th>Mobile Phone</th><th>Company Name</th><th>Company State</th><th>Company City</th><th>Company Address</th><th>filename</th></tr><tr><td>str</td><td>str</td><td>str</td><td>str</td><td>str</td><td>str</td><td>str</td><td>str</td><td>str</td></tr></thead><tbody><tr><td>&quot;Monica&quot;</td><td>&quot;Dougherty&quot;</td><td>&quot;dmonica@soletechnology.com&quot;</td><td>&quot;949-460-2020&quot;</td><td>&quot;Sole Technology&quot;</td><td>&quot;CA&quot;</td><td>&quot;Lake Forest&quot;</td><td>&quot;20161 Windrow Dr&quot;</td><td>&quot;List # 04_1,034,387 Contacts N…</td></tr><tr><td>&quot;Janice&quot;</td><td>&quot;Cole&quot;</td><td>&quot;jcole@bmo.com&quot;</td><td>&quot;416-867-5000&quot;</td><td>&quot;Bmo Financial Group Ltd&quot;</td><td>&quot;ON&quot;</td><td>&quot;Toronto&quot;</td><td>&quot;Po Box 3 Stn 1St Can Place&quot;</td><td>&quot;List # 04_1,034,387 Contacts N…</td></tr><tr><td>&quot;Paul&quot;</td><td>&quot;Kossler&quot;</td><td>&quot;kpaul@navy.mil&quot;</td><td>&quot;619-524-6734&quot;</td><td>&quot;United States Navy&quot;</td><td>&quot;CA&quot;</td><td>&quot;San Diego&quot;</td><td>&quot;33055 Nixie Way&quot;</td><td>&quot;List # 04_1,034,387 Contacts N…</td></tr><tr><td>&quot;Aravind&quot;</td><td>&quot;Sen&quot;</td><td>&quot;aravind@cognizant.com&quot;</td><td>&quot;201-801-0233&quot;</td><td>&quot;Cognizant Technology Solutions…</td><td>&quot;NJ&quot;</td><td>&quot;Teaneck&quot;</td><td>&quot;500 Frank W Burr Blvd&quot;</td><td>&quot;List # 04_1,034,387 Contacts N…</td></tr><tr><td>&quot;Michael&quot;</td><td>&quot;Heaney&quot;</td><td>&quot;mheaney@infogroup.com&quot;</td><td>&quot;402-593-4500&quot;</td><td>&quot;Infogroup / Infousa&quot;</td><td>&quot;NE&quot;</td><td>&quot;Omaha&quot;</td><td>&quot;5711 S 86Th Cir&quot;</td><td>&quot;List # 04_1,034,387 Contacts N…</td></tr></tbody></table></div>"
      ],
      "text/plain": [
       "shape: (5, 9)\n",
       "┌───────────┬───────────┬───────────┬───────────┬───┬───────────┬───────────┬───────────┬──────────┐\n",
       "│ First     ┆ Last Name ┆ Business  ┆ Mobile    ┆ … ┆ Company   ┆ Company   ┆ Company   ┆ filename │\n",
       "│ Name      ┆ ---       ┆ Email     ┆ Phone     ┆   ┆ State     ┆ City      ┆ Address   ┆ ---      │\n",
       "│ ---       ┆ str       ┆ ---       ┆ ---       ┆   ┆ ---       ┆ ---       ┆ ---       ┆ str      │\n",
       "│ str       ┆           ┆ str       ┆ str       ┆   ┆ str       ┆ str       ┆ str       ┆          │\n",
       "╞═══════════╪═══════════╪═══════════╪═══════════╪═══╪═══════════╪═══════════╪═══════════╪══════════╡\n",
       "│ Monica    ┆ Dougherty ┆ dmonica@s ┆ 949-460-2 ┆ … ┆ CA        ┆ Lake      ┆ 20161     ┆ List #   │\n",
       "│           ┆           ┆ oletechno ┆ 020       ┆   ┆           ┆ Forest    ┆ Windrow   ┆ 04_1,034 │\n",
       "│           ┆           ┆ logy.com  ┆           ┆   ┆           ┆           ┆ Dr        ┆ ,387     │\n",
       "│           ┆           ┆           ┆           ┆   ┆           ┆           ┆           ┆ Contacts │\n",
       "│           ┆           ┆           ┆           ┆   ┆           ┆           ┆           ┆ N…       │\n",
       "│ Janice    ┆ Cole      ┆ jcole@bmo ┆ 416-867-5 ┆ … ┆ ON        ┆ Toronto   ┆ Po Box 3  ┆ List #   │\n",
       "│           ┆           ┆ .com      ┆ 000       ┆   ┆           ┆           ┆ Stn 1St   ┆ 04_1,034 │\n",
       "│           ┆           ┆           ┆           ┆   ┆           ┆           ┆ Can Place ┆ ,387     │\n",
       "│           ┆           ┆           ┆           ┆   ┆           ┆           ┆           ┆ Contacts │\n",
       "│           ┆           ┆           ┆           ┆   ┆           ┆           ┆           ┆ N…       │\n",
       "│ Paul      ┆ Kossler   ┆ kpaul@nav ┆ 619-524-6 ┆ … ┆ CA        ┆ San Diego ┆ 33055     ┆ List #   │\n",
       "│           ┆           ┆ y.mil     ┆ 734       ┆   ┆           ┆           ┆ Nixie Way ┆ 04_1,034 │\n",
       "│           ┆           ┆           ┆           ┆   ┆           ┆           ┆           ┆ ,387     │\n",
       "│           ┆           ┆           ┆           ┆   ┆           ┆           ┆           ┆ Contacts │\n",
       "│           ┆           ┆           ┆           ┆   ┆           ┆           ┆           ┆ N…       │\n",
       "│ Aravind   ┆ Sen       ┆ aravind@c ┆ 201-801-0 ┆ … ┆ NJ        ┆ Teaneck   ┆ 500 Frank ┆ List #   │\n",
       "│           ┆           ┆ ognizant. ┆ 233       ┆   ┆           ┆           ┆ W Burr    ┆ 04_1,034 │\n",
       "│           ┆           ┆ com       ┆           ┆   ┆           ┆           ┆ Blvd      ┆ ,387     │\n",
       "│           ┆           ┆           ┆           ┆   ┆           ┆           ┆           ┆ Contacts │\n",
       "│           ┆           ┆           ┆           ┆   ┆           ┆           ┆           ┆ N…       │\n",
       "│ Michael   ┆ Heaney    ┆ mheaney@i ┆ 402-593-4 ┆ … ┆ NE        ┆ Omaha     ┆ 5711 S    ┆ List #   │\n",
       "│           ┆           ┆ nfogroup. ┆ 500       ┆   ┆           ┆           ┆ 86Th Cir  ┆ 04_1,034 │\n",
       "│           ┆           ┆ com       ┆           ┆   ┆           ┆           ┆           ┆ ,387     │\n",
       "│           ┆           ┆           ┆           ┆   ┆           ┆           ┆           ┆ Contacts │\n",
       "│           ┆           ┆           ┆           ┆   ┆           ┆           ┆           ┆ N…       │\n",
       "└───────────┴───────────┴───────────┴───────────┴───┴───────────┴───────────┴───────────┴──────────┘"
      ]
     },
     "execution_count": 17,
     "metadata": {},
     "output_type": "execute_result"
    }
   ],
   "source": [
    "zoom_df.head()"
   ]
  },
  {
   "cell_type": "code",
   "execution_count": 18,
   "metadata": {},
   "outputs": [],
   "source": [
    "company_fields = ['Company Name', 'Company State', 'Company City', 'Company Address']\n",
    "owner_fields = ['First Name', 'Last Name', 'Business Email', 'Mobile Phone']\n"
   ]
  },
  {
   "cell_type": "code",
   "execution_count": 19,
   "metadata": {},
   "outputs": [],
   "source": [
    "# Usage\n",
    "\n",
    "def preprocess(file_path, output_file):\n",
    "    # Determine total file size for progress tracking\n",
    "    file_size = os.path.getsize(file_path)\n",
    "    # max_lines = 100000\n",
    "    line_index = 0  \n",
    "    bad_rows = 0\n",
    "    with open(file_path, 'rb') as infile, open(output_file, 'w', newline='', encoding='utf-8') as outfile:\n",
    "        writer = csv.writer(outfile)\n",
    "        progress = tqdm.tqdm(total=file_size, desc=\"Processing File\", unit=\"B\", unit_scale=True)\n",
    "\n",
    "        # Initialize control variables\n",
    "        current_row = []\n",
    "        processed_bytes = 0\n",
    "\n",
    "        # Read and process the file line by line in binary mode\n",
    "        while True:\n",
    "            line = infile.readline()\n",
    "            if not line:\n",
    "                break\n",
    "\n",
    "            processed_bytes += len(line)\n",
    "            progress.update(len(line))\n",
    "            \n",
    "            # Decode line, handle escaped tabs and internal newlines\n",
    "            decoded_line = line.decode('utf-8')\n",
    "            decoded_line = decoded_line.replace('\\\\\\\\t', '<ESC_TAB>').replace('\\r\\n', '<ESC_NEWLINE>').replace('\\r', '<ESC_CR>')\n",
    "\n",
    "            # Split on unescaped tabs, process each part\n",
    "            parts = decoded_line.split('\\t')\n",
    "            for part in parts:\n",
    "                normalized_part = part.replace('<ESC_TAB>', '\\t').replace('<ESC_NEWLINE>', '\\r\\n').replace('<ESC_CR>', '\\r').strip()\n",
    "                current_row.append(normalized_part)\n",
    "\n",
    "            # If the line ends with a newline (split condition), it means end of a row\n",
    "            if decoded_line.endswith('\\n'):\n",
    "                # Write the completed row to the file\n",
    "                if len(current_row) != 51:\n",
    "                    bad_rows += 1\n",
    "                writer.writerow(current_row)\n",
    "                current_row = []\n",
    "            else:\n",
    "                # print(f\"Line {line_index} does not end with a newline, continuing to next line\")\n",
    "                pass\n",
    "\n",
    "            line_index += 1\n",
    "            # if line_index > max_lines:\n",
    "            #     break\n",
    "\n",
    "        # Write any remaining data in current_row to the file (in case the last line does not end with a newline)\n",
    "        if current_row:\n",
    "            writer.writerow(current_row)\n",
    "\n",
    "        progress.close()\n",
    "    print(f\"Bad rows: {bad_rows}/{line_index} ({bad_rows/line_index*100:.2f}%)\")\n",
    "\n",
    "apollo_file_path = Path('data/apollo/Apollo 200 Million 3_3-008.csv')\n",
    "apollo_output_file = Path('data/apollo/Apollo 200 Million 3_3-008_corrected_2.csv')\n",
    "\n",
    "if not apollo_output_file.exists():\n",
    "    preprocess(apollo_file_path, apollo_output_file)\n",
    "    \n",
    "    \n",
    "apollo2_file_path = Path('data/apollo/Apollo 200 Million 2_3-002.csv')\n",
    "apollo2_output_file = Path('data/apollo/Apollo 200 Million 2_3-002_corrected.csv')\n",
    "\n",
    "if not apollo2_output_file.exists():\n",
    "    preprocess(apollo2_file_path, apollo2_output_file)\n"
   ]
  },
  {
   "cell_type": "code",
   "execution_count": 20,
   "metadata": {},
   "outputs": [],
   "source": [
    "# apollo_df = pl.read_csv('data/apollo/Apollo 200 Million 3_3-008_corrected_2.csv', truncate_ragged_lines=True, infer_schema_length=0)"
   ]
  },
  {
   "cell_type": "code",
   "execution_count": 21,
   "metadata": {},
   "outputs": [],
   "source": [
    "# apollo2_df = pl.read_csv('data/apollo/Apollo 200 Million 2_3-002.csv', truncate_ragged_lines=True, infer_schema_length=0)"
   ]
  },
  {
   "cell_type": "code",
   "execution_count": 22,
   "metadata": {},
   "outputs": [],
   "source": [
    "# for i, file in enumerate(alt_data_dir.rglob('*.xlsx')):\n",
    "#     print(f\"File {i}: {file}\")\n",
    "#     print(list_alt_dfs[i].shape)\n",
    "#     print(list_alt_dfs[i].schema)\n",
    "    \n",
    "# # Group them together by schema\n"
   ]
  },
  {
   "cell_type": "code",
   "execution_count": null,
   "metadata": {},
   "outputs": [],
   "source": []
  },
  {
   "cell_type": "code",
   "execution_count": 23,
   "metadata": {},
   "outputs": [],
   "source": [
    "def capitalize(s):\n",
    "    parts = s.lower().split()\n",
    "    return ' '.join(part.capitalize() for part in parts)\n",
    "\n",
    "# Convert column names to capitalized form\n",
    "owners_df.columns = [capitalize(col.replace('_', ' ')) for col in owners_df.columns]\n",
    "\n",
    "# Set Filename back to filename\n",
    "owners_df = owners_df.with_columns([owners_df['Filename'].alias('filename')]).drop('Filename')\n"
   ]
  },
  {
   "cell_type": "code",
   "execution_count": 24,
   "metadata": {},
   "outputs": [],
   "source": [
    "company_fields = ['Company Name', 'Company State', 'Company City', 'Company Address']\n",
    "owner_fields = ['First Name', 'Last Name', 'Business Email', 'Mobile Phone']\n"
   ]
  },
  {
   "cell_type": "markdown",
   "metadata": {},
   "source": [
    "### Now load the B2B Email list"
   ]
  },
  {
   "cell_type": "code",
   "execution_count": 25,
   "metadata": {},
   "outputs": [
    {
     "name": "stdout",
     "output_type": "stream",
     "text": [
      "Number of B2B CSV files: 83\n",
      "All headers match.\n",
      "Total rows in concatenated dataframe: 54877230\n"
     ]
    }
   ],
   "source": [
    "b2b_data_dir = data_dir / 'B2b EMAIL LIST 60MM usbizdata'\n",
    "\n",
    "b2b_csv_files = []\n",
    "\n",
    "for csv_file in b2b_data_dir.rglob('*.csv'):\n",
    "    b2b_csv_files.append(csv_file)\n",
    "    \n",
    "\n",
    "print(f\"Number of B2B CSV files: {len(b2b_csv_files)}\")\n",
    "\n",
    "# Function to read only the first row (header) of a CSV to check consistency\n",
    "def read_header(file):\n",
    "    try:\n",
    "        df = pl.read_csv(file, has_header=True, new_columns=None, n_rows=0, infer_schema_length=0)\n",
    "        return df.schema\n",
    "    except Exception as e:\n",
    "        print(f\"Error reading {file}: {e}\")\n",
    "        return None\n",
    "\n",
    "\n",
    "# # Function to read only the first row (header) of a CSV to check consistency\n",
    "# def read_header(file):\n",
    "#     return pl.read_csv(file, has_header=True, skip_rows_after_header=-1)\n",
    "\n",
    "# Check if all headers are the same\n",
    "headers = [read_header(file) for file in b2b_csv_files]\n",
    "first_header = headers[0]\n",
    "\n",
    "for i, header in enumerate(headers):\n",
    "    if header != first_header:\n",
    "        print(f\"Header {i} do not match across files.\")\n",
    "        break\n",
    "\n",
    "if all(header == first_header for header in headers):\n",
    "    print(\"All headers match.\")\n",
    "else:\n",
    "    raise ValueError(\"Headers do not match across files.\")\n",
    "\n",
    "# Function to read a CSV file with all data as string\n",
    "def load_csv_with_filename(file):\n",
    "    try:\n",
    "        df = pl.read_csv(file, has_header=True, infer_schema_length=0)\n",
    "        df = df.with_columns([pl.lit(file.name).alias('filename')])\n",
    "        return df\n",
    "    except Exception as e:\n",
    "        print(f\"Failed to load {file}: {e}\")\n",
    "        return None\n",
    "\n",
    "# Load all data treating everything as strings and concatenate\n",
    "# b2b_df = pl.concat([pl.read_csv(file, has_header=True, infer_schema_length=0) for file in b2b_csv_files])#, how='diagonal')\n",
    "\n",
    "b2b_df = pl.concat([load_csv_with_filename(file) for file in b2b_csv_files if file.exists()], how='diagonal')\n",
    "\n",
    "\n",
    "print(f\"Total rows in concatenated dataframe: {len(b2b_df)}\")"
   ]
  },
  {
   "cell_type": "code",
   "execution_count": 26,
   "metadata": {},
   "outputs": [
    {
     "data": {
      "text/html": [
       "<div><style>\n",
       ".dataframe > thead > tr,\n",
       ".dataframe > tbody > tr {\n",
       "  text-align: right;\n",
       "  white-space: pre-wrap;\n",
       "}\n",
       "</style>\n",
       "<small>shape: (54_877_230,)</small><table border=\"1\" class=\"dataframe\"><thead><tr><th>filename</th></tr><tr><td>str</td></tr></thead><tbody><tr><td>&quot;WA_B2B_23_1.csv&quot;</td></tr><tr><td>&quot;WA_B2B_23_1.csv&quot;</td></tr><tr><td>&quot;WA_B2B_23_1.csv&quot;</td></tr><tr><td>&quot;WA_B2B_23_1.csv&quot;</td></tr><tr><td>&quot;WA_B2B_23_1.csv&quot;</td></tr><tr><td>&hellip;</td></tr><tr><td>&quot;NH_B2B_23.csv&quot;</td></tr><tr><td>&quot;NH_B2B_23.csv&quot;</td></tr><tr><td>&quot;NH_B2B_23.csv&quot;</td></tr><tr><td>&quot;NH_B2B_23.csv&quot;</td></tr><tr><td>&quot;NH_B2B_23.csv&quot;</td></tr></tbody></table></div>"
      ],
      "text/plain": [
       "shape: (54_877_230,)\n",
       "Series: 'filename' [str]\n",
       "[\n",
       "\t\"WA_B2B_23_1.csv\"\n",
       "\t\"WA_B2B_23_1.csv\"\n",
       "\t\"WA_B2B_23_1.csv\"\n",
       "\t\"WA_B2B_23_1.csv\"\n",
       "\t\"WA_B2B_23_1.csv\"\n",
       "\t…\n",
       "\t\"NH_B2B_23.csv\"\n",
       "\t\"NH_B2B_23.csv\"\n",
       "\t\"NH_B2B_23.csv\"\n",
       "\t\"NH_B2B_23.csv\"\n",
       "\t\"NH_B2B_23.csv\"\n",
       "]"
      ]
     },
     "execution_count": 26,
     "metadata": {},
     "output_type": "execute_result"
    }
   ],
   "source": [
    "b2b_df['filename']"
   ]
  },
  {
   "cell_type": "code",
   "execution_count": 27,
   "metadata": {},
   "outputs": [
    {
     "data": {
      "text/plain": [
       "(['Company Name', 'Company State', 'Company City', 'Company Address'],\n",
       " ['First Name', 'Last Name', 'Business Email', 'Mobile Phone'])"
      ]
     },
     "execution_count": 27,
     "metadata": {},
     "output_type": "execute_result"
    }
   ],
   "source": [
    "company_fields, owner_fields"
   ]
  },
  {
   "cell_type": "code",
   "execution_count": 28,
   "metadata": {},
   "outputs": [
    {
     "data": {
      "text/plain": [
       "['Company Name',\n",
       " 'Address',\n",
       " 'City',\n",
       " 'State',\n",
       " 'Zip',\n",
       " 'County',\n",
       " 'Phone',\n",
       " 'Contact First',\n",
       " 'Contact Last',\n",
       " 'Title',\n",
       " 'Direct Phone',\n",
       " 'Email',\n",
       " 'Website',\n",
       " 'Employee Count',\n",
       " 'Annual Sales',\n",
       " 'SIC Code',\n",
       " 'Industry',\n",
       " 'filename']"
      ]
     },
     "execution_count": 28,
     "metadata": {},
     "output_type": "execute_result"
    }
   ],
   "source": [
    "b2b_df.columns"
   ]
  },
  {
   "cell_type": "code",
   "execution_count": 29,
   "metadata": {},
   "outputs": [
    {
     "name": "stdout",
     "output_type": "stream",
     "text": [
      "['Company Name', 'Company Address', 'Company City', 'Company State', 'Company Zip', 'County', 'Company Phone', 'First Name', 'Last Name', 'Title', 'Mobile Phone', 'Business Email', 'Website', 'Employee Count', 'Annual Sales', 'SIC Code', 'Industry', 'filename']\n"
     ]
    }
   ],
   "source": [
    "# Now rename columns in b2b_df to match the other dataframes\n",
    "# Define the current names and the new names based on provided matching fields\n",
    "company_fields_mapping = {\n",
    "    'Address': 'Company Address',\n",
    "    'City': 'Company City',\n",
    "    'State': 'Company State',\n",
    "    'Zip': 'Company Zip',\n",
    "    'Phone': 'Company Phone',\n",
    "    'Email': 'Business Email'\n",
    "}\n",
    "\n",
    "owner_fields_mapping = {\n",
    "    'Contact First': 'First Name',\n",
    "    'Contact Last': 'Last Name',\n",
    "    'Direct Phone': 'Mobile Phone'\n",
    "}\n",
    "\n",
    "# Merge the two mappings\n",
    "full_mapping = {**company_fields_mapping, **owner_fields_mapping}\n",
    "\n",
    "# Rename the columns in b2b_df according to the mapping\n",
    "b2b_df = b2b_df.rename({k: v for k, v in full_mapping.items() if k in b2b_df.columns})\n",
    "\n",
    "# Print the new columns to confirm changes\n",
    "print(b2b_df.columns)\n"
   ]
  },
  {
   "cell_type": "code",
   "execution_count": 30,
   "metadata": {},
   "outputs": [
    {
     "data": {
      "text/html": [
       "<div><style>\n",
       ".dataframe > thead > tr,\n",
       ".dataframe > tbody > tr {\n",
       "  text-align: right;\n",
       "  white-space: pre-wrap;\n",
       "}\n",
       "</style>\n",
       "<small>shape: (54_877_230, 18)</small><table border=\"1\" class=\"dataframe\"><thead><tr><th>Company Name</th><th>Company Address</th><th>Company City</th><th>Company State</th><th>Company Zip</th><th>County</th><th>Company Phone</th><th>First Name</th><th>Last Name</th><th>Title</th><th>Mobile Phone</th><th>Business Email</th><th>Website</th><th>Employee Count</th><th>Annual Sales</th><th>SIC Code</th><th>Industry</th><th>filename</th></tr><tr><td>str</td><td>str</td><td>str</td><td>str</td><td>str</td><td>str</td><td>str</td><td>str</td><td>str</td><td>str</td><td>str</td><td>str</td><td>str</td><td>str</td><td>str</td><td>str</td><td>str</td><td>str</td></tr></thead><tbody><tr><td>&quot;Comtech&quot;</td><td>&quot;9215 151st Ave Ne&quot;</td><td>&quot;Redmond&quot;</td><td>&quot;WA&quot;</td><td>&quot;98052-3511&quot;</td><td>&quot;King&quot;</td><td>&quot;4254518138&quot;</td><td>&quot;Eleizer&quot;</td><td>&quot;Scharf&quot;</td><td>&quot;President&quot;</td><td>null</td><td>&quot;escharf@comtech-group.com&quot;</td><td>&quot;comtechphones.com&quot;</td><td>&quot;10 To 19&quot;</td><td>&quot;$20 To 50 Million&quot;</td><td>&quot;506563&quot;</td><td>&quot;Telecommunication Equip/Syst-W…</td><td>&quot;WA_B2B_23_1.csv&quot;</td></tr><tr><td>&quot;Tupperware&quot;</td><td>&quot;916 S 30th Ave&quot;</td><td>&quot;Yakima&quot;</td><td>&quot;WA&quot;</td><td>&quot;98902-4074&quot;</td><td>&quot;Yakima&quot;</td><td>&quot;5099659224&quot;</td><td>&quot;Fred&quot;</td><td>&quot;Lubarsky&quot;</td><td>&quot;Owner&quot;</td><td>null</td><td>&quot;fsl31@aol.com&quot;</td><td>&quot;aol.com&quot;</td><td>&quot;1 To 4&quot;</td><td>&quot;Less Than $500,000&quot;</td><td>&quot;596304&quot;</td><td>&quot;Home Demonstration-Merchandise&quot;</td><td>&quot;WA_B2B_23_1.csv&quot;</td></tr><tr><td>&quot;Bion Diagnostic Sciences Inc&quot;</td><td>&quot;12277 134th Ct Ne Ste 100&quot;</td><td>&quot;Redmond&quot;</td><td>&quot;WA&quot;</td><td>&quot;98052-2431&quot;</td><td>&quot;King&quot;</td><td>&quot;4258211010&quot;</td><td>&quot;Kelly&quot;</td><td>&quot;Walsh&quot;</td><td>&quot;Manager&quot;</td><td>null</td><td>&quot;kwalsh@polymedco.com&quot;</td><td>&quot;polymedco.com&quot;</td><td>null</td><td>null</td><td>&quot;289900&quot;</td><td>&quot;Chemical Preparations, Nec&quot;</td><td>&quot;WA_B2B_23_1.csv&quot;</td></tr><tr><td>&quot;Garden Cafe&quot;</td><td>&quot;18923 Peter Johnson Rd&quot;</td><td>&quot;Mount Vernon&quot;</td><td>&quot;WA&quot;</td><td>&quot;98273-9302&quot;</td><td>&quot;Skagit&quot;</td><td>&quot;3608489189&quot;</td><td>&quot;Martin&quot;</td><td>&quot;Tynan&quot;</td><td>&quot;Manager&quot;</td><td>null</td><td>&quot;mtynan@gardencafe.com&quot;</td><td>&quot;gardencafe.com&quot;</td><td>&quot;5 To 9&quot;</td><td>&quot;Less Than $500,000&quot;</td><td>&quot;581208&quot;</td><td>&quot;Restaurants&quot;</td><td>&quot;WA_B2B_23_1.csv&quot;</td></tr><tr><td>&quot;Garden Cafe&quot;</td><td>&quot;18923 Peter Johnson Rd&quot;</td><td>&quot;Mount Vernon&quot;</td><td>&quot;WA&quot;</td><td>&quot;98273-9302&quot;</td><td>&quot;Skagit&quot;</td><td>&quot;3608489189&quot;</td><td>&quot;Dao&quot;</td><td>&quot;Choi&quot;</td><td>&quot;Owner&quot;</td><td>null</td><td>&quot;dchoi@gardencafe.com&quot;</td><td>&quot;gardencafe.com&quot;</td><td>&quot;5 To 9&quot;</td><td>&quot;Less Than $500,000&quot;</td><td>&quot;581208&quot;</td><td>&quot;Restaurants&quot;</td><td>&quot;WA_B2B_23_1.csv&quot;</td></tr><tr><td>&hellip;</td><td>&hellip;</td><td>&hellip;</td><td>&hellip;</td><td>&hellip;</td><td>&hellip;</td><td>&hellip;</td><td>&hellip;</td><td>&hellip;</td><td>&hellip;</td><td>&hellip;</td><td>&hellip;</td><td>&hellip;</td><td>&hellip;</td><td>&hellip;</td><td>&hellip;</td><td>&hellip;</td><td>&hellip;</td></tr><tr><td>&quot;County Of Hillsborough&quot;</td><td>&quot;400 Mast Rd&quot;</td><td>&quot;Goffstown&quot;</td><td>&quot;NH&quot;</td><td>&quot;03045-2427&quot;</td><td>&quot;Hillsborough&quot;</td><td>&quot;6036275540&quot;</td><td>&quot;Richard&quot;</td><td>&quot;Kerby&quot;</td><td>&quot;Manager&quot;</td><td>&quot;8132725625&quot;</td><td>&quot;richard@hillsboroughcounty.org&quot;</td><td>&quot;hillsboroughcountynh.org&quot;</td><td>&quot;1 To 4&quot;</td><td>&quot;Unknown&quot;</td><td>&quot;912103&quot;</td><td>&quot;Government Offices-County&quot;</td><td>&quot;NH_B2B_23.csv&quot;</td></tr><tr><td>&quot;Crabtree &amp; Evelyn&quot;</td><td>&quot;2 Common Ct Unit B8&quot;</td><td>&quot;North Conway&quot;</td><td>&quot;NH&quot;</td><td>&quot;03860-5440&quot;</td><td>&quot;Carroll&quot;</td><td>&quot;6033564100&quot;</td><td>&quot;Romona&quot;</td><td>&quot;Ropper&quot;</td><td>&quot;Manager&quot;</td><td>null</td><td>&quot;rropper@crabtree-evelyn.com&quot;</td><td>&quot;crabtree-evelyn.com&quot;</td><td>&quot;5 To 9&quot;</td><td>&quot;$1 To 2.5 Million&quot;</td><td>&quot;599992&quot;</td><td>&quot;Cosmetics &amp; Perfumes-Retail&quot;</td><td>&quot;NH_B2B_23.csv&quot;</td></tr><tr><td>&quot;Alternative Communication&quot;</td><td>&quot;3 Bud Way Ste 20&quot;</td><td>&quot;Nashua&quot;</td><td>&quot;NH&quot;</td><td>&quot;03063-1700&quot;</td><td>&quot;Hillsborough&quot;</td><td>&quot;6038823100&quot;</td><td>&quot;Warren&quot;</td><td>&quot;Kane&quot;</td><td>&quot;Manager&quot;</td><td>null</td><td>&quot;warren@urnet.com&quot;</td><td>&quot;acstelcom.com&quot;</td><td>&quot;1 To 4&quot;</td><td>&quot;$1 To 2.5 Million&quot;</td><td>&quot;489903&quot;</td><td>&quot;Communications&quot;</td><td>&quot;NH_B2B_23.csv&quot;</td></tr><tr><td>&quot;Alternative Communication&quot;</td><td>&quot;3 Bud Way Ste 20&quot;</td><td>&quot;Nashua&quot;</td><td>&quot;NH&quot;</td><td>&quot;03063-1700&quot;</td><td>&quot;Hillsborough&quot;</td><td>&quot;6038823100&quot;</td><td>&quot;Terri&quot;</td><td>&quot;Richards&quot;</td><td>&quot;Owner&quot;</td><td>null</td><td>&quot;terri@urnet.com&quot;</td><td>&quot;acstelcom.com&quot;</td><td>&quot;1 To 4&quot;</td><td>&quot;$1 To 2.5 Million&quot;</td><td>&quot;489903&quot;</td><td>&quot;Communications&quot;</td><td>&quot;NH_B2B_23.csv&quot;</td></tr><tr><td>&quot;Siam Orchid&quot;</td><td>&quot;12 N Main St&quot;</td><td>&quot;Concord&quot;</td><td>&quot;NH&quot;</td><td>&quot;03301-4910&quot;</td><td>&quot;Merrimack&quot;</td><td>&quot;6032283633&quot;</td><td>&quot;Sui&quot;</td><td>&quot;Pan&quot;</td><td>&quot;Owner&quot;</td><td>null</td><td>&quot;sui@siamfood.com&quot;</td><td>&quot;siamorchid.net&quot;</td><td>&quot;20 To 49&quot;</td><td>&quot;$500,000 To $1 Million&quot;</td><td>&quot;581208&quot;</td><td>&quot;Restaurants&quot;</td><td>&quot;NH_B2B_23.csv&quot;</td></tr></tbody></table></div>"
      ],
      "text/plain": [
       "shape: (54_877_230, 18)\n",
       "┌───────────┬───────────┬───────────┬───────────┬───┬───────────┬──────────┬───────────┬───────────┐\n",
       "│ Company   ┆ Company   ┆ Company   ┆ Company   ┆ … ┆ Annual    ┆ SIC Code ┆ Industry  ┆ filename  │\n",
       "│ Name      ┆ Address   ┆ City      ┆ State     ┆   ┆ Sales     ┆ ---      ┆ ---       ┆ ---       │\n",
       "│ ---       ┆ ---       ┆ ---       ┆ ---       ┆   ┆ ---       ┆ str      ┆ str       ┆ str       │\n",
       "│ str       ┆ str       ┆ str       ┆ str       ┆   ┆ str       ┆          ┆           ┆           │\n",
       "╞═══════════╪═══════════╪═══════════╪═══════════╪═══╪═══════════╪══════════╪═══════════╪═══════════╡\n",
       "│ Comtech   ┆ 9215      ┆ Redmond   ┆ WA        ┆ … ┆ $20 To 50 ┆ 506563   ┆ Telecommu ┆ WA_B2B_23 │\n",
       "│           ┆ 151st Ave ┆           ┆           ┆   ┆ Million   ┆          ┆ nication  ┆ _1.csv    │\n",
       "│           ┆ Ne        ┆           ┆           ┆   ┆           ┆          ┆ Equip/Sys ┆           │\n",
       "│           ┆           ┆           ┆           ┆   ┆           ┆          ┆ t-W…      ┆           │\n",
       "│ Tupperwar ┆ 916 S     ┆ Yakima    ┆ WA        ┆ … ┆ Less Than ┆ 596304   ┆ Home Demo ┆ WA_B2B_23 │\n",
       "│ e         ┆ 30th Ave  ┆           ┆           ┆   ┆ $500,000  ┆          ┆ nstration ┆ _1.csv    │\n",
       "│           ┆           ┆           ┆           ┆   ┆           ┆          ┆ -Merchand ┆           │\n",
       "│           ┆           ┆           ┆           ┆   ┆           ┆          ┆ ise       ┆           │\n",
       "│ Bion Diag ┆ 12277     ┆ Redmond   ┆ WA        ┆ … ┆ null      ┆ 289900   ┆ Chemical  ┆ WA_B2B_23 │\n",
       "│ nostic    ┆ 134th Ct  ┆           ┆           ┆   ┆           ┆          ┆ Preparati ┆ _1.csv    │\n",
       "│ Sciences  ┆ Ne Ste    ┆           ┆           ┆   ┆           ┆          ┆ ons, Nec  ┆           │\n",
       "│ Inc       ┆ 100       ┆           ┆           ┆   ┆           ┆          ┆           ┆           │\n",
       "│ Garden    ┆ 18923     ┆ Mount     ┆ WA        ┆ … ┆ Less Than ┆ 581208   ┆ Restauran ┆ WA_B2B_23 │\n",
       "│ Cafe      ┆ Peter     ┆ Vernon    ┆           ┆   ┆ $500,000  ┆          ┆ ts        ┆ _1.csv    │\n",
       "│           ┆ Johnson   ┆           ┆           ┆   ┆           ┆          ┆           ┆           │\n",
       "│           ┆ Rd        ┆           ┆           ┆   ┆           ┆          ┆           ┆           │\n",
       "│ Garden    ┆ 18923     ┆ Mount     ┆ WA        ┆ … ┆ Less Than ┆ 581208   ┆ Restauran ┆ WA_B2B_23 │\n",
       "│ Cafe      ┆ Peter     ┆ Vernon    ┆           ┆   ┆ $500,000  ┆          ┆ ts        ┆ _1.csv    │\n",
       "│           ┆ Johnson   ┆           ┆           ┆   ┆           ┆          ┆           ┆           │\n",
       "│           ┆ Rd        ┆           ┆           ┆   ┆           ┆          ┆           ┆           │\n",
       "│ …         ┆ …         ┆ …         ┆ …         ┆ … ┆ …         ┆ …        ┆ …         ┆ …         │\n",
       "│ County Of ┆ 400 Mast  ┆ Goffstown ┆ NH        ┆ … ┆ Unknown   ┆ 912103   ┆ Governmen ┆ NH_B2B_23 │\n",
       "│ Hillsboro ┆ Rd        ┆           ┆           ┆   ┆           ┆          ┆ t Offices ┆ .csv      │\n",
       "│ ugh       ┆           ┆           ┆           ┆   ┆           ┆          ┆ -County   ┆           │\n",
       "│ Crabtree  ┆ 2 Common  ┆ North     ┆ NH        ┆ … ┆ $1 To 2.5 ┆ 599992   ┆ Cosmetics ┆ NH_B2B_23 │\n",
       "│ & Evelyn  ┆ Ct Unit   ┆ Conway    ┆           ┆   ┆ Million   ┆          ┆ & Perfume ┆ .csv      │\n",
       "│           ┆ B8        ┆           ┆           ┆   ┆           ┆          ┆ s-Retail  ┆           │\n",
       "│ Alternati ┆ 3 Bud Way ┆ Nashua    ┆ NH        ┆ … ┆ $1 To 2.5 ┆ 489903   ┆ Communica ┆ NH_B2B_23 │\n",
       "│ ve Commun ┆ Ste 20    ┆           ┆           ┆   ┆ Million   ┆          ┆ tions     ┆ .csv      │\n",
       "│ ication   ┆           ┆           ┆           ┆   ┆           ┆          ┆           ┆           │\n",
       "│ Alternati ┆ 3 Bud Way ┆ Nashua    ┆ NH        ┆ … ┆ $1 To 2.5 ┆ 489903   ┆ Communica ┆ NH_B2B_23 │\n",
       "│ ve Commun ┆ Ste 20    ┆           ┆           ┆   ┆ Million   ┆          ┆ tions     ┆ .csv      │\n",
       "│ ication   ┆           ┆           ┆           ┆   ┆           ┆          ┆           ┆           │\n",
       "│ Siam      ┆ 12 N Main ┆ Concord   ┆ NH        ┆ … ┆ $500,000  ┆ 581208   ┆ Restauran ┆ NH_B2B_23 │\n",
       "│ Orchid    ┆ St        ┆           ┆           ┆   ┆ To $1     ┆          ┆ ts        ┆ .csv      │\n",
       "│           ┆           ┆           ┆           ┆   ┆ Million   ┆          ┆           ┆           │\n",
       "└───────────┴───────────┴───────────┴───────────┴───┴───────────┴──────────┴───────────┴───────────┘"
      ]
     },
     "execution_count": 30,
     "metadata": {},
     "output_type": "execute_result"
    }
   ],
   "source": [
    "b2b_df"
   ]
  },
  {
   "cell_type": "code",
   "execution_count": 31,
   "metadata": {},
   "outputs": [
    {
     "data": {
      "text/html": [
       "<div><style>\n",
       ".dataframe > thead > tr,\n",
       ".dataframe > tbody > tr {\n",
       "  text-align: right;\n",
       "  white-space: pre-wrap;\n",
       "}\n",
       "</style>\n",
       "<small>shape: (2_003_579, 20)</small><table border=\"1\" class=\"dataframe\"><thead><tr><th>First Name</th><th>Last Name</th><th>Business Email</th><th>Job Title</th><th>Mobile Phone</th><th>Company Name</th><th>Company Domain</th><th>Company Phone</th><th>Primary Industry</th><th>Primary Sic</th><th>Company Industry</th><th>Company Sic Code</th><th>Company Address</th><th>Company City</th><th>Company State</th><th>Company Zip</th><th>Company Linkedin Url</th><th>Company Revenue</th><th>Company Employee Count</th><th>filename</th></tr><tr><td>str</td><td>str</td><td>str</td><td>str</td><td>str</td><td>str</td><td>str</td><td>str</td><td>str</td><td>str</td><td>str</td><td>str</td><td>str</td><td>str</td><td>str</td><td>str</td><td>str</td><td>str</td><td>str</td><td>str</td></tr></thead><tbody><tr><td>&quot;Wendy&quot;</td><td>&quot;Bodin&quot;</td><td>&quot;wendy.bodin@luminaryhealth.com&quot;</td><td>&quot;Owner&quot;</td><td>&quot;5055037276&quot;</td><td>&quot;Luminary Holistics Llc&quot;</td><td>&quot;luminaryhealth.com&quot;</td><td>&quot;\\N&quot;</td><td>&quot;Offices Of Health Practitioner…</td><td>&quot;8049&quot;</td><td>&quot;Offices Of Health Practitioner…</td><td>&quot;8049&quot;</td><td>&quot;11811 Menaul Blvd Ne&quot;</td><td>&quot;Albuquerque&quot;</td><td>&quot;NM&quot;</td><td>&quot;87112&quot;</td><td>&quot;\\N&quot;</td><td>&quot;Under 1 Million&quot;</td><td>&quot;1 to 10&quot;</td><td>&quot;1 Millions Owners Database Par…</td></tr><tr><td>&quot;Keith&quot;</td><td>&quot;Frantz&quot;</td><td>&quot;keith@cardsandcocktails.com&quot;</td><td>&quot;Owner&quot;</td><td>&quot;8585606499&quot;</td><td>&quot;Academy Of Intl Bartending&quot;</td><td>&quot;cardsandcocktails.com&quot;</td><td>&quot;\\N&quot;</td><td>&quot;\\N&quot;</td><td>&quot;\\N&quot;</td><td>&quot;\\N&quot;</td><td>&quot;\\N&quot;</td><td>&quot;\\N&quot;</td><td>&quot;San Diego&quot;</td><td>&quot;CA&quot;</td><td>&quot;92111&quot;</td><td>&quot;\\N&quot;</td><td>&quot;Under 1 Million&quot;</td><td>&quot;1 to 10&quot;</td><td>&quot;1 Millions Owners Database Par…</td></tr><tr><td>&quot;Kristy&quot;</td><td>&quot;Goggio&quot;</td><td>&quot;kristy@thecorkedcanvas.com&quot;</td><td>&quot;Co Owner&quot;</td><td>&quot;2623788338&quot;</td><td>&quot;The Corked Canvas&quot;</td><td>&quot;thecorkedcanvas.com&quot;</td><td>&quot;\\N&quot;</td><td>&quot;\\N&quot;</td><td>&quot;\\N&quot;</td><td>&quot;\\N&quot;</td><td>&quot;\\N&quot;</td><td>&quot;\\N&quot;</td><td>&quot;\\N&quot;</td><td>&quot;\\N&quot;</td><td>&quot;\\N&quot;</td><td>&quot;\\N&quot;</td><td>&quot;Under 1 Million&quot;</td><td>&quot;1 to 10&quot;</td><td>&quot;1 Millions Owners Database Par…</td></tr><tr><td>&quot;M&quot;</td><td>&quot;Tedburke&quot;</td><td>&quot;tedburke@insightbb.com&quot;</td><td>&quot;Owner&quot;</td><td>&quot;2708263593&quot;</td><td>&quot;Lonnies Best Taste Of Chicago&quot;</td><td>&quot;insightbb.com&quot;</td><td>&quot;8006345574&quot;</td><td>&quot;Real Estate Agents &amp; Managers …</td><td>&quot;6531&quot;</td><td>&quot;Real Estate Agents &amp; Managers …</td><td>&quot;6531&quot;</td><td>&quot;121 Saint Matthews Avenue&quot;</td><td>&quot;Louisville&quot;</td><td>&quot;KY&quot;</td><td>&quot;40207&quot;</td><td>&quot;linkedin.com/company/lonnies-b…</td><td>&quot;1 Billion and Over&quot;</td><td>&quot;10000+&quot;</td><td>&quot;1 Millions Owners Database Par…</td></tr><tr><td>&quot;Jodi&quot;</td><td>&quot;Bass&quot;</td><td>&quot;jodi@thepleasurechest.com&quot;</td><td>&quot;Owner&quot;</td><td>&quot;7758832225&quot;</td><td>&quot;The Pleasure Chest&quot;</td><td>&quot;thepleasurechest.com&quot;</td><td>&quot;8007534536&quot;</td><td>&quot;Gift, Novelty, And Souvenir Sh…</td><td>&quot;5947&quot;</td><td>&quot;Gift, Novelty, And Souvenir Sh…</td><td>&quot;5947; 7929; 7299&quot;</td><td>&quot;1150 2nd Ave Frnt 1&quot;</td><td>&quot;New York&quot;</td><td>&quot;CA&quot;</td><td>&quot;10065&quot;</td><td>&quot;linkedin.com/company/the-pleas…</td><td>&quot;25 Million to 50 Miliion&quot;</td><td>&quot;101 to 250&quot;</td><td>&quot;1 Millions Owners Database Par…</td></tr><tr><td>&hellip;</td><td>&hellip;</td><td>&hellip;</td><td>&hellip;</td><td>&hellip;</td><td>&hellip;</td><td>&hellip;</td><td>&hellip;</td><td>&hellip;</td><td>&hellip;</td><td>&hellip;</td><td>&hellip;</td><td>&hellip;</td><td>&hellip;</td><td>&hellip;</td><td>&hellip;</td><td>&hellip;</td><td>&hellip;</td><td>&hellip;</td><td>&hellip;</td></tr><tr><td>&quot;Daniel&quot;</td><td>&quot;Huckans&quot;</td><td>&quot;dan.huckans@derdanenterprises.…</td><td>&quot;Owner At Derdan Enterprises&quot;</td><td>&quot;8568161577&quot;</td><td>&quot;Derdan Enterprises&quot;</td><td>&quot;derdanenterprises.net&quot;</td><td>&quot;\\N&quot;</td><td>&quot;Electrical Work&quot;</td><td>&quot;1731&quot;</td><td>&quot;Electrical Work; Telephone Com…</td><td>&quot;1731; 4810&quot;</td><td>&quot;7255 W Sunset Rd&quot;</td><td>&quot;Las Vegas&quot;</td><td>&quot;NV&quot;</td><td>&quot;89113&quot;</td><td>&quot;linkedin.com/company/derdan-en…</td><td>&quot;Under 1 Million&quot;</td><td>&quot;1 to 10&quot;</td><td>&quot;1 Millions Owners Database-Par…</td></tr><tr><td>&quot;Tim&quot;</td><td>&quot;Charter&quot;</td><td>&quot;charter@cabainc.com&quot;</td><td>&quot;Owner&quot;</td><td>&quot;4058587361, 4058400231&quot;</td><td>&quot;Cher A Bumps  Assoc Inc&quot;</td><td>&quot;cabainc.com&quot;</td><td>&quot;\\N&quot;</td><td>&quot;Insurance Agents, Brokers &amp; Se…</td><td>&quot;6411&quot;</td><td>&quot;Insurance Agents, Brokers &amp; Se…</td><td>&quot;6411&quot;</td><td>&quot;2601 Nw Expressway&quot;</td><td>&quot;Oklahoma City&quot;</td><td>&quot;OK&quot;</td><td>&quot;73112&quot;</td><td>&quot;\\N&quot;</td><td>&quot;25 Million to 50 Miliion&quot;</td><td>&quot;101 to 250&quot;</td><td>&quot;1 Millions Owners Database-Par…</td></tr><tr><td>&quot;Jennifer&quot;</td><td>&quot;Resnick&quot;</td><td>&quot;jresnick@polishmenailspa.com&quot;</td><td>&quot;Owner&quot;</td><td>&quot;2016531100&quot;</td><td>&quot;Polish Me&quot;</td><td>&quot;polishmenailspa.com&quot;</td><td>&quot;\\N&quot;</td><td>&quot;\\N&quot;</td><td>&quot;\\N&quot;</td><td>&quot;\\N&quot;</td><td>&quot;\\N&quot;</td><td>&quot;\\N&quot;</td><td>&quot;Jersey City&quot;</td><td>&quot;NJ&quot;</td><td>&quot;7311&quot;</td><td>&quot;\\N&quot;</td><td>&quot;Under 1 Million&quot;</td><td>&quot;1 to 10&quot;</td><td>&quot;1 Millions Owners Database-Par…</td></tr><tr><td>&quot;Mark&quot;</td><td>&quot;Southworth&quot;</td><td>&quot;m.southworth@shreddirect.com&quot;</td><td>&quot;Owner&quot;</td><td>&quot;6147333873&quot;</td><td>&quot;Shred Direct Llc&quot;</td><td>&quot;shreddirect.com&quot;</td><td>&quot;\\N&quot;</td><td>&quot;Services-Business Services, Ne…</td><td>&quot;7389&quot;</td><td>&quot;Electrical Work; Services-Busi…</td><td>&quot;1731; 7389&quot;</td><td>&quot;\\N&quot;</td><td>&quot;Plain City&quot;</td><td>&quot;OH&quot;</td><td>&quot;43064&quot;</td><td>&quot;\\N&quot;</td><td>&quot;Under 1 Million&quot;</td><td>&quot;1 to 10&quot;</td><td>&quot;1 Millions Owners Database-Par…</td></tr><tr><td>&quot;Kimberly&quot;</td><td>&quot;Youngquist&quot;</td><td>&quot;youngquist@brightbeginningsva.…</td><td>&quot;Owner And Teacher&quot;</td><td>&quot;4349738414, 4349738414, 406489…</td><td>&quot;Bright Beginnings Preschool&quot;</td><td>&quot;brightbeginningsva.com&quot;</td><td>&quot;\\N&quot;</td><td>&quot;Services-Child Day Care Servic…</td><td>&quot;8351&quot;</td><td>&quot;Services-Child Day Care Servic…</td><td>&quot;8351&quot;</td><td>&quot;1610 Regent Street&quot;</td><td>&quot;Charlottesville&quot;</td><td>&quot;VA&quot;</td><td>&quot;22911&quot;</td><td>&quot;linkedin.com/company/bright-be…</td><td>&quot;50 Million to 100 Million&quot;</td><td>&quot;251 to 500&quot;</td><td>&quot;1 Millions Owners Database-Par…</td></tr></tbody></table></div>"
      ],
      "text/plain": [
       "shape: (2_003_579, 20)\n",
       "┌───────────┬───────────┬───────────┬───────────┬───┬───────────┬───────────┬───────────┬──────────┐\n",
       "│ First     ┆ Last Name ┆ Business  ┆ Job Title ┆ … ┆ Company   ┆ Company   ┆ Company   ┆ filename │\n",
       "│ Name      ┆ ---       ┆ Email     ┆ ---       ┆   ┆ Linkedin  ┆ Revenue   ┆ Employee  ┆ ---      │\n",
       "│ ---       ┆ str       ┆ ---       ┆ str       ┆   ┆ Url       ┆ ---       ┆ Count     ┆ str      │\n",
       "│ str       ┆           ┆ str       ┆           ┆   ┆ ---       ┆ str       ┆ ---       ┆          │\n",
       "│           ┆           ┆           ┆           ┆   ┆ str       ┆           ┆ str       ┆          │\n",
       "╞═══════════╪═══════════╪═══════════╪═══════════╪═══╪═══════════╪═══════════╪═══════════╪══════════╡\n",
       "│ Wendy     ┆ Bodin     ┆ wendy.bod ┆ Owner     ┆ … ┆ \\N        ┆ Under 1   ┆ 1 to 10   ┆ 1        │\n",
       "│           ┆           ┆ in@lumina ┆           ┆   ┆           ┆ Million   ┆           ┆ Millions │\n",
       "│           ┆           ┆ ryhealth. ┆           ┆   ┆           ┆           ┆           ┆ Owners   │\n",
       "│           ┆           ┆ com       ┆           ┆   ┆           ┆           ┆           ┆ Database │\n",
       "│           ┆           ┆           ┆           ┆   ┆           ┆           ┆           ┆ Par…     │\n",
       "│ Keith     ┆ Frantz    ┆ keith@car ┆ Owner     ┆ … ┆ \\N        ┆ Under 1   ┆ 1 to 10   ┆ 1        │\n",
       "│           ┆           ┆ dsandcock ┆           ┆   ┆           ┆ Million   ┆           ┆ Millions │\n",
       "│           ┆           ┆ tails.com ┆           ┆   ┆           ┆           ┆           ┆ Owners   │\n",
       "│           ┆           ┆           ┆           ┆   ┆           ┆           ┆           ┆ Database │\n",
       "│           ┆           ┆           ┆           ┆   ┆           ┆           ┆           ┆ Par…     │\n",
       "│ Kristy    ┆ Goggio    ┆ kristy@th ┆ Co Owner  ┆ … ┆ \\N        ┆ Under 1   ┆ 1 to 10   ┆ 1        │\n",
       "│           ┆           ┆ ecorkedca ┆           ┆   ┆           ┆ Million   ┆           ┆ Millions │\n",
       "│           ┆           ┆ nvas.com  ┆           ┆   ┆           ┆           ┆           ┆ Owners   │\n",
       "│           ┆           ┆           ┆           ┆   ┆           ┆           ┆           ┆ Database │\n",
       "│           ┆           ┆           ┆           ┆   ┆           ┆           ┆           ┆ Par…     │\n",
       "│ M         ┆ Tedburke  ┆ tedburke@ ┆ Owner     ┆ … ┆ linkedin. ┆ 1 Billion ┆ 10000+    ┆ 1        │\n",
       "│           ┆           ┆ insightbb ┆           ┆   ┆ com/compa ┆ and Over  ┆           ┆ Millions │\n",
       "│           ┆           ┆ .com      ┆           ┆   ┆ ny/lonnie ┆           ┆           ┆ Owners   │\n",
       "│           ┆           ┆           ┆           ┆   ┆ s-b…      ┆           ┆           ┆ Database │\n",
       "│           ┆           ┆           ┆           ┆   ┆           ┆           ┆           ┆ Par…     │\n",
       "│ Jodi      ┆ Bass      ┆ jodi@thep ┆ Owner     ┆ … ┆ linkedin. ┆ 25        ┆ 101 to    ┆ 1        │\n",
       "│           ┆           ┆ leasurech ┆           ┆   ┆ com/compa ┆ Million   ┆ 250       ┆ Millions │\n",
       "│           ┆           ┆ est.com   ┆           ┆   ┆ ny/the-pl ┆ to 50     ┆           ┆ Owners   │\n",
       "│           ┆           ┆           ┆           ┆   ┆ eas…      ┆ Miliion   ┆           ┆ Database │\n",
       "│           ┆           ┆           ┆           ┆   ┆           ┆           ┆           ┆ Par…     │\n",
       "│ …         ┆ …         ┆ …         ┆ …         ┆ … ┆ …         ┆ …         ┆ …         ┆ …        │\n",
       "│ Daniel    ┆ Huckans   ┆ dan.hucka ┆ Owner At  ┆ … ┆ linkedin. ┆ Under 1   ┆ 1 to 10   ┆ 1        │\n",
       "│           ┆           ┆ ns@derdan ┆ Derdan    ┆   ┆ com/compa ┆ Million   ┆           ┆ Millions │\n",
       "│           ┆           ┆ enterpris ┆ Enterpris ┆   ┆ ny/derdan ┆           ┆           ┆ Owners   │\n",
       "│           ┆           ┆ es.…      ┆ es        ┆   ┆ -en…      ┆           ┆           ┆ Database │\n",
       "│           ┆           ┆           ┆           ┆   ┆           ┆           ┆           ┆ -Par…    │\n",
       "│ Tim       ┆ Charter   ┆ charter@c ┆ Owner     ┆ … ┆ \\N        ┆ 25        ┆ 101 to    ┆ 1        │\n",
       "│           ┆           ┆ abainc.co ┆           ┆   ┆           ┆ Million   ┆ 250       ┆ Millions │\n",
       "│           ┆           ┆ m         ┆           ┆   ┆           ┆ to 50     ┆           ┆ Owners   │\n",
       "│           ┆           ┆           ┆           ┆   ┆           ┆ Miliion   ┆           ┆ Database │\n",
       "│           ┆           ┆           ┆           ┆   ┆           ┆           ┆           ┆ -Par…    │\n",
       "│ Jennifer  ┆ Resnick   ┆ jresnick@ ┆ Owner     ┆ … ┆ \\N        ┆ Under 1   ┆ 1 to 10   ┆ 1        │\n",
       "│           ┆           ┆ polishmen ┆           ┆   ┆           ┆ Million   ┆           ┆ Millions │\n",
       "│           ┆           ┆ ailspa.co ┆           ┆   ┆           ┆           ┆           ┆ Owners   │\n",
       "│           ┆           ┆ m         ┆           ┆   ┆           ┆           ┆           ┆ Database │\n",
       "│           ┆           ┆           ┆           ┆   ┆           ┆           ┆           ┆ -Par…    │\n",
       "│ Mark      ┆ Southwort ┆ m.southwo ┆ Owner     ┆ … ┆ \\N        ┆ Under 1   ┆ 1 to 10   ┆ 1        │\n",
       "│           ┆ h         ┆ rth@shred ┆           ┆   ┆           ┆ Million   ┆           ┆ Millions │\n",
       "│           ┆           ┆ direct.co ┆           ┆   ┆           ┆           ┆           ┆ Owners   │\n",
       "│           ┆           ┆ m         ┆           ┆   ┆           ┆           ┆           ┆ Database │\n",
       "│           ┆           ┆           ┆           ┆   ┆           ┆           ┆           ┆ -Par…    │\n",
       "│ Kimberly  ┆ Youngquis ┆ youngquis ┆ Owner And ┆ … ┆ linkedin. ┆ 50        ┆ 251 to    ┆ 1        │\n",
       "│           ┆ t         ┆ t@brightb ┆ Teacher   ┆   ┆ com/compa ┆ Million   ┆ 500       ┆ Millions │\n",
       "│           ┆           ┆ eginnings ┆           ┆   ┆ ny/bright ┆ to 100    ┆           ┆ Owners   │\n",
       "│           ┆           ┆ va.…      ┆           ┆   ┆ -be…      ┆ Million   ┆           ┆ Database │\n",
       "│           ┆           ┆           ┆           ┆   ┆           ┆           ┆           ┆ -Par…    │\n",
       "└───────────┴───────────┴───────────┴───────────┴───┴───────────┴───────────┴───────────┴──────────┘"
      ]
     },
     "execution_count": 31,
     "metadata": {},
     "output_type": "execute_result"
    }
   ],
   "source": [
    "owners_df"
   ]
  },
  {
   "cell_type": "code",
   "execution_count": 32,
   "metadata": {},
   "outputs": [
    {
     "data": {
      "text/html": [
       "<div><style>\n",
       ".dataframe > thead > tr,\n",
       ".dataframe > tbody > tr {\n",
       "  text-align: right;\n",
       "  white-space: pre-wrap;\n",
       "}\n",
       "</style>\n",
       "<small>shape: (5_033_826, 23)</small><table border=\"1\" class=\"dataframe\"><thead><tr><th>First Name</th><th>Last Name</th><th>Business Email</th><th>Job Title</th><th>Mobile Phone</th><th>Linkedin Url</th><th>Contact Metro City</th><th>Contact State</th><th>Company Name</th><th>Company Domain</th><th>Company Phone</th><th>Primary Industry</th><th>Primary Sic</th><th>Company Industry</th><th>Company Sic Code</th><th>Company Address</th><th>Company City</th><th>Company State</th><th>Company Zip</th><th>Company Linkedin Url</th><th>Company Revenue</th><th>Company Employee Count</th><th>filename</th></tr><tr><td>str</td><td>str</td><td>str</td><td>str</td><td>str</td><td>str</td><td>str</td><td>str</td><td>str</td><td>str</td><td>str</td><td>str</td><td>str</td><td>str</td><td>str</td><td>str</td><td>str</td><td>str</td><td>str</td><td>str</td><td>str</td><td>str</td><td>str</td></tr></thead><tbody><tr><td>&quot;Donna&quot;</td><td>&quot;Chernisky&quot;</td><td>&quot;donna@customdesignedsolutions.…</td><td>&quot;President And Chief Executive …</td><td>&quot;3012360450&quot;</td><td>&quot;linkedin.com/in/donna-chernisk…</td><td>&quot;\\N&quot;</td><td>&quot;MD&quot;</td><td>&quot;Custom Designed Solutions&quot;</td><td>&quot;customdesignedsolutions.com&quot;</td><td>&quot;\\N&quot;</td><td>&quot;Services-Computer Programming …</td><td>&quot;7371&quot;</td><td>&quot;Services-Computer Programming …</td><td>&quot;7371&quot;</td><td>&quot;3401 Forsythia Ln&quot;</td><td>&quot;Burtonsville&quot;</td><td>&quot;MD&quot;</td><td>&quot;20866&quot;</td><td>&quot;linkedin.com/company/custom-de…</td><td>&quot;Under 1 Million&quot;</td><td>&quot;1 to 10&quot;</td><td>&quot;List-4 - 1,004,842 Contacts Fo…</td></tr><tr><td>&quot;David&quot;</td><td>&quot;Callahan&quot;</td><td>&quot;d.callahan@putt-putt.com&quot;</td><td>&quot;Ceo&quot;</td><td>&quot;9194019759&quot;</td><td>&quot;\\N&quot;</td><td>&quot;\\N&quot;</td><td>&quot;\\N&quot;</td><td>&quot;Putt-Putt&quot;</td><td>&quot;putt-putt.com&quot;</td><td>&quot;\\N&quot;</td><td>&quot;Services-Management Consulting…</td><td>&quot;8742&quot;</td><td>&quot;Amusement And Recreation, N.E.…</td><td>&quot;7999; 8742&quot;</td><td>&quot;\\N&quot;</td><td>&quot;Winston Salem&quot;</td><td>&quot;NC&quot;</td><td>&quot;27199&quot;</td><td>&quot;\\N&quot;</td><td>&quot;25 Million to 50 Miliion&quot;</td><td>&quot;101 to 250&quot;</td><td>&quot;List-4 - 1,004,842 Contacts Fo…</td></tr><tr><td>&quot;Brandon&quot;</td><td>&quot;Allison&quot;</td><td>&quot;b.allison@aatac.com&quot;</td><td>&quot;Chief Executive&quot;</td><td>&quot;7043924624&quot;</td><td>&quot;\\N&quot;</td><td>&quot;\\N&quot;</td><td>&quot;\\N&quot;</td><td>&quot;Aatac Inc&quot;</td><td>&quot;aatac.com&quot;</td><td>&quot;\\N&quot;</td><td>&quot;Retail-Eating Places&quot;</td><td>&quot;5812&quot;</td><td>&quot;Services-Automotive Repair, Se…</td><td>&quot;7500; 5013; 5812; 3713&quot;</td><td>&quot;4000 Sam Wilson Road&quot;</td><td>&quot;Charlotte&quot;</td><td>&quot;NC&quot;</td><td>&quot;28214&quot;</td><td>&quot;linkedin.com/company/aatac-inc&quot;</td><td>&quot;5 Million to 10 Million&quot;</td><td>&quot;26 to 50&quot;</td><td>&quot;List-4 - 1,004,842 Contacts Fo…</td></tr><tr><td>&quot;Georgia&quot;</td><td>&quot;Reynolds&quot;</td><td>&quot;g.reynolds@reynoldsbenefits.co…</td><td>&quot;Ceo&quot;</td><td>&quot;7328420808&quot;</td><td>&quot;\\N&quot;</td><td>&quot;\\N&quot;</td><td>&quot;\\N&quot;</td><td>&quot;Reynolds Benefits&quot;</td><td>&quot;reynoldsbenefits.com&quot;</td><td>&quot;\\N&quot;</td><td>&quot;Insurance Agents, Brokers &amp; Se…</td><td>&quot;6411&quot;</td><td>&quot;Insurance Agents, Brokers &amp; Se…</td><td>&quot;6411&quot;</td><td>&quot;655 Shrewsbury Ave&quot;</td><td>&quot;Shrewsbury&quot;</td><td>&quot;NJ&quot;</td><td>&quot;7702&quot;</td><td>&quot;linkedin.com/company/reynolds-…</td><td>&quot;Under 1 Million&quot;</td><td>&quot;1 to 10&quot;</td><td>&quot;List-4 - 1,004,842 Contacts Fo…</td></tr><tr><td>&quot;Dennis&quot;</td><td>&quot;Huang&quot;</td><td>&quot;huang@folica.com&quot;</td><td>&quot;Chief Executive Officergeneral…</td><td>&quot;6098608430&quot;</td><td>&quot;\\N&quot;</td><td>&quot;\\N&quot;</td><td>&quot;\\N&quot;</td><td>&quot;Folica Inc.&quot;</td><td>&quot;folica.com&quot;</td><td>&quot;8889194247&quot;</td><td>&quot;Miscellaneous Retail Stores, N…</td><td>&quot;5999&quot;</td><td>&quot;Wholesale-Durable Goods, Nec; …</td><td>&quot;5099; 5999; 8742&quot;</td><td>&quot;315 Madison Avenue&quot;</td><td>&quot;New York&quot;</td><td>&quot;NY&quot;</td><td>&quot;10017&quot;</td><td>&quot;linkedin.com/company/folica-in…</td><td>&quot;25 Million to 50 Miliion&quot;</td><td>&quot;101 to 250&quot;</td><td>&quot;List-4 - 1,004,842 Contacts Fo…</td></tr><tr><td>&hellip;</td><td>&hellip;</td><td>&hellip;</td><td>&hellip;</td><td>&hellip;</td><td>&hellip;</td><td>&hellip;</td><td>&hellip;</td><td>&hellip;</td><td>&hellip;</td><td>&hellip;</td><td>&hellip;</td><td>&hellip;</td><td>&hellip;</td><td>&hellip;</td><td>&hellip;</td><td>&hellip;</td><td>&hellip;</td><td>&hellip;</td><td>&hellip;</td><td>&hellip;</td><td>&hellip;</td><td>&hellip;</td></tr><tr><td>&quot;Michael&quot;</td><td>&quot;Zasloff&quot;</td><td>&quot;mzasloff@captivatepharma.com&quot;</td><td>&quot;Chief Executive Officer&quot;</td><td>&quot;2678936625&quot;</td><td>&quot;\\N&quot;</td><td>&quot;\\N&quot;</td><td>&quot;\\N&quot;</td><td>&quot;Captivate Pharmaceuticals&quot;</td><td>&quot;captivatepharma.com&quot;</td><td>&quot;\\N&quot;</td><td>&quot;Services-Commercial Physical &amp;…</td><td>&quot;8731&quot;</td><td>&quot;Services-Commercial Physical &amp;…</td><td>&quot;8731&quot;</td><td>&quot;3805 Old Easton Rd&quot;</td><td>&quot;Doylestown&quot;</td><td>&quot;PA&quot;</td><td>&quot;18902&quot;</td><td>&quot;\\N&quot;</td><td>&quot;Under 1 Million&quot;</td><td>&quot;1 to 10&quot;</td><td>&quot;List-1 - 1,006,603 Contacts Fo…</td></tr><tr><td>&quot;Larry&quot;</td><td>&quot;Ryback&quot;</td><td>&quot;larry.j-ryback@tijuanaflats.co…</td><td>&quot;Ceo&quot;</td><td>&quot;4078596190&quot;</td><td>&quot;\\N&quot;</td><td>&quot;\\N&quot;</td><td>&quot;\\N&quot;</td><td>&quot;Tijuana Flats Tex-Mex&quot;</td><td>&quot;tijuanaflats.com&quot;</td><td>&quot;\\N&quot;</td><td>&quot;Retail-Eating Places&quot;</td><td>&quot;5812&quot;</td><td>&quot;Retail-Eating Places&quot;</td><td>&quot;5812&quot;</td><td>&quot;4224 Virginia Beach Blvd&quot;</td><td>&quot;Maitland&quot;</td><td>&quot;FL&quot;</td><td>&quot;32751&quot;</td><td>&quot;linkedin.com/company/tijuana-f…</td><td>&quot;250 Million to 500 Million&quot;</td><td>&quot;1001 to 5000&quot;</td><td>&quot;List-1 - 1,006,603 Contacts Fo…</td></tr><tr><td>&quot;Rohit&quot;</td><td>&quot;Shukla&quot;</td><td>&quot;rshukla@old.larta.org&quot;</td><td>&quot;Ceo&quot;</td><td>&quot;2136942826&quot;</td><td>&quot;\\N&quot;</td><td>&quot;\\N&quot;</td><td>&quot;\\N&quot;</td><td>&quot;Larta Institute&quot;</td><td>&quot;old.larta.org&quot;</td><td>&quot;\\N&quot;</td><td>&quot;Services-Management Consulting…</td><td>&quot;8742&quot;</td><td>&quot;Services-Management Consulting…</td><td>&quot;8742&quot;</td><td>&quot;\\N&quot;</td><td>&quot;Los Angeles&quot;</td><td>&quot;CA&quot;</td><td>&quot;90014&quot;</td><td>&quot;\\N&quot;</td><td>&quot;1 Million to 5 Million&quot;</td><td>&quot;11 to 25&quot;</td><td>&quot;List-1 - 1,006,603 Contacts Fo…</td></tr><tr><td>&quot;Thomas&quot;</td><td>&quot;Farr&quot;</td><td>&quot;thomas@outdoorexpressions.net&quot;</td><td>&quot;Chief Executive Officer&quot;</td><td>&quot;7702710851&quot;</td><td>&quot;\\N&quot;</td><td>&quot;\\N&quot;</td><td>&quot;\\N&quot;</td><td>&quot;Outdoor Expressions&quot;</td><td>&quot;outdoorexpressions.net&quot;</td><td>&quot;\\N&quot;</td><td>&quot;Services-Allied To Motion Pict…</td><td>&quot;7829&quot;</td><td>&quot;Services-Allied To Motion Pict…</td><td>&quot;7829&quot;</td><td>&quot;981 Little Rd&quot;</td><td>&quot;Canton&quot;</td><td>&quot;GA&quot;</td><td>&quot;30115&quot;</td><td>&quot;\\N&quot;</td><td>&quot;1 Million to 5 Million&quot;</td><td>&quot;11 to 25&quot;</td><td>&quot;List-1 - 1,006,603 Contacts Fo…</td></tr><tr><td>&quot;Robert&quot;</td><td>&quot;Patterson&quot;</td><td>&quot;bpatterson@thresholdcs.com&quot;</td><td>&quot;Ceo&quot;</td><td>&quot;3125838752, 7274670626&quot;</td><td>&quot;\\N&quot;</td><td>&quot;\\N&quot;</td><td>&quot;\\N&quot;</td><td>&quot;Threshold Consulting Services&quot;</td><td>&quot;thresholdcs.com&quot;</td><td>&quot;8886520588&quot;</td><td>&quot;Insurance Agents, Brokers &amp; Se…</td><td>&quot;6411&quot;</td><td>&quot;Insurance Agents, Brokers &amp; Se…</td><td>&quot;6411; 7379&quot;</td><td>&quot;200 North Garden Avenue&quot;</td><td>&quot;Clearwater&quot;</td><td>&quot;FL&quot;</td><td>&quot;33755&quot;</td><td>&quot;linkedin.com/company/threshold…</td><td>&quot;10 Million to 25 Million&quot;</td><td>&quot;51 to 100&quot;</td><td>&quot;List-1 - 1,006,603 Contacts Fo…</td></tr></tbody></table></div>"
      ],
      "text/plain": [
       "shape: (5_033_826, 23)\n",
       "┌───────────┬───────────┬───────────┬───────────┬───┬───────────┬───────────┬───────────┬──────────┐\n",
       "│ First     ┆ Last Name ┆ Business  ┆ Job Title ┆ … ┆ Company   ┆ Company   ┆ Company   ┆ filename │\n",
       "│ Name      ┆ ---       ┆ Email     ┆ ---       ┆   ┆ Linkedin  ┆ Revenue   ┆ Employee  ┆ ---      │\n",
       "│ ---       ┆ str       ┆ ---       ┆ str       ┆   ┆ Url       ┆ ---       ┆ Count     ┆ str      │\n",
       "│ str       ┆           ┆ str       ┆           ┆   ┆ ---       ┆ str       ┆ ---       ┆          │\n",
       "│           ┆           ┆           ┆           ┆   ┆ str       ┆           ┆ str       ┆          │\n",
       "╞═══════════╪═══════════╪═══════════╪═══════════╪═══╪═══════════╪═══════════╪═══════════╪══════════╡\n",
       "│ Donna     ┆ Chernisky ┆ donna@cus ┆ President ┆ … ┆ linkedin. ┆ Under 1   ┆ 1 to 10   ┆ List-4 - │\n",
       "│           ┆           ┆ tomdesign ┆ And Chief ┆   ┆ com/compa ┆ Million   ┆           ┆ 1,004,84 │\n",
       "│           ┆           ┆ edsolutio ┆ Executive ┆   ┆ ny/custom ┆           ┆           ┆ 2        │\n",
       "│           ┆           ┆ ns.…      ┆ …         ┆   ┆ -de…      ┆           ┆           ┆ Contacts │\n",
       "│           ┆           ┆           ┆           ┆   ┆           ┆           ┆           ┆ Fo…      │\n",
       "│ David     ┆ Callahan  ┆ d.callaha ┆ Ceo       ┆ … ┆ \\N        ┆ 25        ┆ 101 to    ┆ List-4 - │\n",
       "│           ┆           ┆ n@putt-pu ┆           ┆   ┆           ┆ Million   ┆ 250       ┆ 1,004,84 │\n",
       "│           ┆           ┆ tt.com    ┆           ┆   ┆           ┆ to 50     ┆           ┆ 2        │\n",
       "│           ┆           ┆           ┆           ┆   ┆           ┆ Miliion   ┆           ┆ Contacts │\n",
       "│           ┆           ┆           ┆           ┆   ┆           ┆           ┆           ┆ Fo…      │\n",
       "│ Brandon   ┆ Allison   ┆ b.allison ┆ Chief     ┆ … ┆ linkedin. ┆ 5 Million ┆ 26 to 50  ┆ List-4 - │\n",
       "│           ┆           ┆ @aatac.co ┆ Executive ┆   ┆ com/compa ┆ to 10     ┆           ┆ 1,004,84 │\n",
       "│           ┆           ┆ m         ┆           ┆   ┆ ny/aatac- ┆ Million   ┆           ┆ 2        │\n",
       "│           ┆           ┆           ┆           ┆   ┆ inc       ┆           ┆           ┆ Contacts │\n",
       "│           ┆           ┆           ┆           ┆   ┆           ┆           ┆           ┆ Fo…      │\n",
       "│ Georgia   ┆ Reynolds  ┆ g.reynold ┆ Ceo       ┆ … ┆ linkedin. ┆ Under 1   ┆ 1 to 10   ┆ List-4 - │\n",
       "│           ┆           ┆ s@reynold ┆           ┆   ┆ com/compa ┆ Million   ┆           ┆ 1,004,84 │\n",
       "│           ┆           ┆ sbenefits ┆           ┆   ┆ ny/reynol ┆           ┆           ┆ 2        │\n",
       "│           ┆           ┆ .co…      ┆           ┆   ┆ ds-…      ┆           ┆           ┆ Contacts │\n",
       "│           ┆           ┆           ┆           ┆   ┆           ┆           ┆           ┆ Fo…      │\n",
       "│ Dennis    ┆ Huang     ┆ huang@fol ┆ Chief     ┆ … ┆ linkedin. ┆ 25        ┆ 101 to    ┆ List-4 - │\n",
       "│           ┆           ┆ ica.com   ┆ Executive ┆   ┆ com/compa ┆ Million   ┆ 250       ┆ 1,004,84 │\n",
       "│           ┆           ┆           ┆ Officerge ┆   ┆ ny/folica ┆ to 50     ┆           ┆ 2        │\n",
       "│           ┆           ┆           ┆ neral…    ┆   ┆ -in…      ┆ Miliion   ┆           ┆ Contacts │\n",
       "│           ┆           ┆           ┆           ┆   ┆           ┆           ┆           ┆ Fo…      │\n",
       "│ …         ┆ …         ┆ …         ┆ …         ┆ … ┆ …         ┆ …         ┆ …         ┆ …        │\n",
       "│ Michael   ┆ Zasloff   ┆ mzasloff@ ┆ Chief     ┆ … ┆ \\N        ┆ Under 1   ┆ 1 to 10   ┆ List-1 - │\n",
       "│           ┆           ┆ captivate ┆ Executive ┆   ┆           ┆ Million   ┆           ┆ 1,006,60 │\n",
       "│           ┆           ┆ pharma.co ┆ Officer   ┆   ┆           ┆           ┆           ┆ 3        │\n",
       "│           ┆           ┆ m         ┆           ┆   ┆           ┆           ┆           ┆ Contacts │\n",
       "│           ┆           ┆           ┆           ┆   ┆           ┆           ┆           ┆ Fo…      │\n",
       "│ Larry     ┆ Ryback    ┆ larry.j-r ┆ Ceo       ┆ … ┆ linkedin. ┆ 250       ┆ 1001 to   ┆ List-1 - │\n",
       "│           ┆           ┆ yback@tij ┆           ┆   ┆ com/compa ┆ Million   ┆ 5000      ┆ 1,006,60 │\n",
       "│           ┆           ┆ uanaflats ┆           ┆   ┆ ny/tijuan ┆ to 500    ┆           ┆ 3        │\n",
       "│           ┆           ┆ .co…      ┆           ┆   ┆ a-f…      ┆ Million   ┆           ┆ Contacts │\n",
       "│           ┆           ┆           ┆           ┆   ┆           ┆           ┆           ┆ Fo…      │\n",
       "│ Rohit     ┆ Shukla    ┆ rshukla@o ┆ Ceo       ┆ … ┆ \\N        ┆ 1 Million ┆ 11 to 25  ┆ List-1 - │\n",
       "│           ┆           ┆ ld.larta. ┆           ┆   ┆           ┆ to 5      ┆           ┆ 1,006,60 │\n",
       "│           ┆           ┆ org       ┆           ┆   ┆           ┆ Million   ┆           ┆ 3        │\n",
       "│           ┆           ┆           ┆           ┆   ┆           ┆           ┆           ┆ Contacts │\n",
       "│           ┆           ┆           ┆           ┆   ┆           ┆           ┆           ┆ Fo…      │\n",
       "│ Thomas    ┆ Farr      ┆ thomas@ou ┆ Chief     ┆ … ┆ \\N        ┆ 1 Million ┆ 11 to 25  ┆ List-1 - │\n",
       "│           ┆           ┆ tdoorexpr ┆ Executive ┆   ┆           ┆ to 5      ┆           ┆ 1,006,60 │\n",
       "│           ┆           ┆ essions.n ┆ Officer   ┆   ┆           ┆ Million   ┆           ┆ 3        │\n",
       "│           ┆           ┆ et        ┆           ┆   ┆           ┆           ┆           ┆ Contacts │\n",
       "│           ┆           ┆           ┆           ┆   ┆           ┆           ┆           ┆ Fo…      │\n",
       "│ Robert    ┆ Patterson ┆ bpatterso ┆ Ceo       ┆ … ┆ linkedin. ┆ 10        ┆ 51 to 100 ┆ List-1 - │\n",
       "│           ┆           ┆ n@thresho ┆           ┆   ┆ com/compa ┆ Million   ┆           ┆ 1,006,60 │\n",
       "│           ┆           ┆ ldcs.com  ┆           ┆   ┆ ny/thresh ┆ to 25     ┆           ┆ 3        │\n",
       "│           ┆           ┆           ┆           ┆   ┆ old…      ┆ Million   ┆           ┆ Contacts │\n",
       "│           ┆           ┆           ┆           ┆   ┆           ┆           ┆           ┆ Fo…      │\n",
       "└───────────┴───────────┴───────────┴───────────┴───┴───────────┴───────────┴───────────┴──────────┘"
      ]
     },
     "execution_count": 32,
     "metadata": {},
     "output_type": "execute_result"
    }
   ],
   "source": [
    "contacts_df"
   ]
  },
  {
   "cell_type": "code",
   "execution_count": 33,
   "metadata": {},
   "outputs": [
    {
     "data": {
      "text/html": [
       "<div><style>\n",
       ".dataframe > thead > tr,\n",
       ".dataframe > tbody > tr {\n",
       "  text-align: right;\n",
       "  white-space: pre-wrap;\n",
       "}\n",
       "</style>\n",
       "<small>shape: (3_765_391, 7)</small><table border=\"1\" class=\"dataframe\"><thead><tr><th>AWARDEEORRECIPIENTLEGALENTITYNAME</th><th>LEGALENTITYADDRLINE1</th><th>LEGALENTITYCITYNAME</th><th>LEGALENTITYSTATECD</th><th>LEGALENTITYZIP5</th><th>FACEVALUEOFDIRECTLOANORLOANGUARANTEE</th><th>ORIGINALLOANSUBSIDYCOST</th></tr><tr><td>str</td><td>str</td><td>str</td><td>str</td><td>i64</td><td>f64</td><td>f64</td></tr></thead><tbody><tr><td>&quot;AKIKO&#x27;S SUSHI BAR INC.&quot;</td><td>&quot;726 Noriega St&quot;</td><td>&quot;SAN FRANCISCO&quot;</td><td>&quot;CA&quot;</td><td>94122</td><td>144000.0</td><td>19612.8</td></tr><tr><td>&quot;DITZLER GENERAL CONTRACTING IN…</td><td>&quot;212 WILE AVE&quot;</td><td>&quot;SOUDERTON&quot;</td><td>&quot;PA&quot;</td><td>18964</td><td>25300.0</td><td>3445.86</td></tr><tr><td>&quot;HERMAN CLEANERS, LLC&quot;</td><td>&quot;5590 KEYSTONE PINE WAY&quot;</td><td>&quot;DUBLIN&quot;</td><td>&quot;OH&quot;</td><td>43016</td><td>100000.0</td><td>13620.0</td></tr><tr><td>&quot;RSM REALTY, LLC&quot;</td><td>&quot;706 OXFORD RD&quot;</td><td>&quot;YPSILANTI&quot;</td><td>&quot;MI&quot;</td><td>48197</td><td>28600.0</td><td>3895.32</td></tr><tr><td>&quot;PINK PALETTE ARTISTS LLC&quot;</td><td>&quot;7738 HERON LAKES DR&quot;</td><td>&quot;HOUSTON&quot;</td><td>&quot;TX&quot;</td><td>77064</td><td>98400.0</td><td>13402.08</td></tr><tr><td>&hellip;</td><td>&hellip;</td><td>&hellip;</td><td>&hellip;</td><td>&hellip;</td><td>&hellip;</td><td>&hellip;</td></tr><tr><td>&quot;Saiko Excavation LLC&quot;</td><td>&quot;322 S 400 W&quot;</td><td>&quot;Logan&quot;</td><td>&quot;UT&quot;</td><td>84321</td><td>25000.0</td><td>3405.0</td></tr><tr><td>&quot;Baryonnoh Vision&quot;</td><td>&quot;5982 BROOKSTONE DR NW&quot;</td><td>&quot;CONCORD&quot;</td><td>&quot;NC&quot;</td><td>28027</td><td>15000.0</td><td>2043.0</td></tr><tr><td>&quot;EW Real Estate LLC&quot;</td><td>&quot;3630 concord dr&quot;</td><td>&quot;beachwood&quot;</td><td>&quot;OH&quot;</td><td>44122</td><td>25000.0</td><td>3405.0</td></tr><tr><td>&quot;MAZA ASSOCIATES LLC&quot;</td><td>&quot;18A VAN WAGENEN AVE&quot;</td><td>&quot;JERSEY CITY&quot;</td><td>&quot;NJ&quot;</td><td>7306</td><td>1700.0</td><td>231.54</td></tr><tr><td>&quot;Raymond alcaraz&quot;</td><td>&quot;7202 w brown street &quot;</td><td>&quot;Peoria&quot;</td><td>&quot;AZ&quot;</td><td>85345</td><td>20000.0</td><td>2724.0</td></tr></tbody></table></div>"
      ],
      "text/plain": [
       "shape: (3_765_391, 7)\n",
       "┌──────────────┬─────────────┬─────────────┬─────────────┬─────────────┬─────────────┬─────────────┐\n",
       "│ AWARDEEORREC ┆ LEGALENTITY ┆ LEGALENTITY ┆ LEGALENTITY ┆ LEGALENTITY ┆ FACEVALUEOF ┆ ORIGINALLOA │\n",
       "│ IPIENTLEGALE ┆ ADDRLINE1   ┆ CITYNAME    ┆ STATECD     ┆ ZIP5        ┆ DIRECTLOANO ┆ NSUBSIDYCOS │\n",
       "│ NTITYN…      ┆ ---         ┆ ---         ┆ ---         ┆ ---         ┆ RLOANGUA…   ┆ T           │\n",
       "│ ---          ┆ str         ┆ str         ┆ str         ┆ i64         ┆ ---         ┆ ---         │\n",
       "│ str          ┆             ┆             ┆             ┆             ┆ f64         ┆ f64         │\n",
       "╞══════════════╪═════════════╪═════════════╪═════════════╪═════════════╪═════════════╪═════════════╡\n",
       "│ AKIKO'S      ┆ 726 Noriega ┆ SAN         ┆ CA          ┆ 94122       ┆ 144000.0    ┆ 19612.8     │\n",
       "│ SUSHI BAR    ┆ St          ┆ FRANCISCO   ┆             ┆             ┆             ┆             │\n",
       "│ INC.         ┆             ┆             ┆             ┆             ┆             ┆             │\n",
       "│ DITZLER      ┆ 212 WILE    ┆ SOUDERTON   ┆ PA          ┆ 18964       ┆ 25300.0     ┆ 3445.86     │\n",
       "│ GENERAL      ┆ AVE         ┆             ┆             ┆             ┆             ┆             │\n",
       "│ CONTRACTING  ┆             ┆             ┆             ┆             ┆             ┆             │\n",
       "│ IN…          ┆             ┆             ┆             ┆             ┆             ┆             │\n",
       "│ HERMAN       ┆ 5590        ┆ DUBLIN      ┆ OH          ┆ 43016       ┆ 100000.0    ┆ 13620.0     │\n",
       "│ CLEANERS,    ┆ KEYSTONE    ┆             ┆             ┆             ┆             ┆             │\n",
       "│ LLC          ┆ PINE WAY    ┆             ┆             ┆             ┆             ┆             │\n",
       "│ RSM REALTY,  ┆ 706 OXFORD  ┆ YPSILANTI   ┆ MI          ┆ 48197       ┆ 28600.0     ┆ 3895.32     │\n",
       "│ LLC          ┆ RD          ┆             ┆             ┆             ┆             ┆             │\n",
       "│ PINK PALETTE ┆ 7738 HERON  ┆ HOUSTON     ┆ TX          ┆ 77064       ┆ 98400.0     ┆ 13402.08    │\n",
       "│ ARTISTS LLC  ┆ LAKES DR    ┆             ┆             ┆             ┆             ┆             │\n",
       "│ …            ┆ …           ┆ …           ┆ …           ┆ …           ┆ …           ┆ …           │\n",
       "│ Saiko        ┆ 322 S 400 W ┆ Logan       ┆ UT          ┆ 84321       ┆ 25000.0     ┆ 3405.0      │\n",
       "│ Excavation   ┆             ┆             ┆             ┆             ┆             ┆             │\n",
       "│ LLC          ┆             ┆             ┆             ┆             ┆             ┆             │\n",
       "│ Baryonnoh    ┆ 5982        ┆ CONCORD     ┆ NC          ┆ 28027       ┆ 15000.0     ┆ 2043.0      │\n",
       "│ Vision       ┆ BROOKSTONE  ┆             ┆             ┆             ┆             ┆             │\n",
       "│              ┆ DR NW       ┆             ┆             ┆             ┆             ┆             │\n",
       "│ EW Real      ┆ 3630        ┆ beachwood   ┆ OH          ┆ 44122       ┆ 25000.0     ┆ 3405.0      │\n",
       "│ Estate LLC   ┆ concord dr  ┆             ┆             ┆             ┆             ┆             │\n",
       "│ MAZA         ┆ 18A VAN     ┆ JERSEY CITY ┆ NJ          ┆ 7306        ┆ 1700.0      ┆ 231.54      │\n",
       "│ ASSOCIATES   ┆ WAGENEN AVE ┆             ┆             ┆             ┆             ┆             │\n",
       "│ LLC          ┆             ┆             ┆             ┆             ┆             ┆             │\n",
       "│ Raymond      ┆ 7202 w      ┆ Peoria      ┆ AZ          ┆ 85345       ┆ 20000.0     ┆ 2724.0      │\n",
       "│ alcaraz      ┆ brown       ┆             ┆             ┆             ┆             ┆             │\n",
       "│              ┆ street      ┆             ┆             ┆             ┆             ┆             │\n",
       "└──────────────┴─────────────┴─────────────┴─────────────┴─────────────┴─────────────┴─────────────┘"
      ]
     },
     "execution_count": 33,
     "metadata": {},
     "output_type": "execute_result"
    }
   ],
   "source": [
    "loan_info_df"
   ]
  },
  {
   "cell_type": "code",
   "execution_count": 34,
   "metadata": {},
   "outputs": [
    {
     "data": {
      "text/html": [
       "<div><style>\n",
       ".dataframe > thead > tr,\n",
       ".dataframe > tbody > tr {\n",
       "  text-align: right;\n",
       "  white-space: pre-wrap;\n",
       "}\n",
       "</style>\n",
       "<small>shape: (3_765_391,)</small><table border=\"1\" class=\"dataframe\"><thead><tr><th>AWARDEEORRECIPIENTLEGALENTITYNAME</th></tr><tr><td>str</td></tr></thead><tbody><tr><td>&quot;AKIKO&#x27;S SUSHI BAR INC.&quot;</td></tr><tr><td>&quot;DITZLER GENERAL CONTRACTING IN…</td></tr><tr><td>&quot;HERMAN CLEANERS, LLC&quot;</td></tr><tr><td>&quot;RSM REALTY, LLC&quot;</td></tr><tr><td>&quot;PINK PALETTE ARTISTS LLC&quot;</td></tr><tr><td>&hellip;</td></tr><tr><td>&quot;Saiko Excavation LLC&quot;</td></tr><tr><td>&quot;Baryonnoh Vision&quot;</td></tr><tr><td>&quot;EW Real Estate LLC&quot;</td></tr><tr><td>&quot;MAZA ASSOCIATES LLC&quot;</td></tr><tr><td>&quot;Raymond alcaraz&quot;</td></tr></tbody></table></div>"
      ],
      "text/plain": [
       "shape: (3_765_391,)\n",
       "Series: 'AWARDEEORRECIPIENTLEGALENTITYNAME' [str]\n",
       "[\n",
       "\t\"AKIKO'S SUSHI BAR INC.\"\n",
       "\t\"DITZLER GENERAL CONTRACTING IN…\n",
       "\t\"HERMAN CLEANERS, LLC\"\n",
       "\t\"RSM REALTY, LLC\"\n",
       "\t\"PINK PALETTE ARTISTS LLC\"\n",
       "\t…\n",
       "\t\"Saiko Excavation LLC\"\n",
       "\t\"Baryonnoh Vision\"\n",
       "\t\"EW Real Estate LLC\"\n",
       "\t\"MAZA ASSOCIATES LLC\"\n",
       "\t\"Raymond alcaraz\"\n",
       "]"
      ]
     },
     "execution_count": 34,
     "metadata": {},
     "output_type": "execute_result"
    }
   ],
   "source": [
    "loan_info_df['AWARDEEORRECIPIENTLEGALENTITYNAME']"
   ]
  },
  {
   "cell_type": "code",
   "execution_count": 35,
   "metadata": {},
   "outputs": [
    {
     "data": {
      "text/html": [
       "<div><style>\n",
       ".dataframe > thead > tr,\n",
       ".dataframe > tbody > tr {\n",
       "  text-align: right;\n",
       "  white-space: pre-wrap;\n",
       "}\n",
       "</style>\n",
       "<small>shape: (5_033_826, 8)</small><table border=\"1\" class=\"dataframe\"><thead><tr><th>Company Name</th><th>Company State</th><th>Company City</th><th>Company Address</th><th>First Name</th><th>Last Name</th><th>Business Email</th><th>Mobile Phone</th></tr><tr><td>str</td><td>str</td><td>str</td><td>str</td><td>str</td><td>str</td><td>str</td><td>str</td></tr></thead><tbody><tr><td>&quot;Custom Designed Solutions&quot;</td><td>&quot;MD&quot;</td><td>&quot;Burtonsville&quot;</td><td>&quot;3401 Forsythia Ln&quot;</td><td>&quot;Donna&quot;</td><td>&quot;Chernisky&quot;</td><td>&quot;donna@customdesignedsolutions.…</td><td>&quot;3012360450&quot;</td></tr><tr><td>&quot;Putt-Putt&quot;</td><td>&quot;NC&quot;</td><td>&quot;Winston Salem&quot;</td><td>&quot;\\N&quot;</td><td>&quot;David&quot;</td><td>&quot;Callahan&quot;</td><td>&quot;d.callahan@putt-putt.com&quot;</td><td>&quot;9194019759&quot;</td></tr><tr><td>&quot;Aatac Inc&quot;</td><td>&quot;NC&quot;</td><td>&quot;Charlotte&quot;</td><td>&quot;4000 Sam Wilson Road&quot;</td><td>&quot;Brandon&quot;</td><td>&quot;Allison&quot;</td><td>&quot;b.allison@aatac.com&quot;</td><td>&quot;7043924624&quot;</td></tr><tr><td>&quot;Reynolds Benefits&quot;</td><td>&quot;NJ&quot;</td><td>&quot;Shrewsbury&quot;</td><td>&quot;655 Shrewsbury Ave&quot;</td><td>&quot;Georgia&quot;</td><td>&quot;Reynolds&quot;</td><td>&quot;g.reynolds@reynoldsbenefits.co…</td><td>&quot;7328420808&quot;</td></tr><tr><td>&quot;Folica Inc.&quot;</td><td>&quot;NY&quot;</td><td>&quot;New York&quot;</td><td>&quot;315 Madison Avenue&quot;</td><td>&quot;Dennis&quot;</td><td>&quot;Huang&quot;</td><td>&quot;huang@folica.com&quot;</td><td>&quot;6098608430&quot;</td></tr><tr><td>&hellip;</td><td>&hellip;</td><td>&hellip;</td><td>&hellip;</td><td>&hellip;</td><td>&hellip;</td><td>&hellip;</td><td>&hellip;</td></tr><tr><td>&quot;Captivate Pharmaceuticals&quot;</td><td>&quot;PA&quot;</td><td>&quot;Doylestown&quot;</td><td>&quot;3805 Old Easton Rd&quot;</td><td>&quot;Michael&quot;</td><td>&quot;Zasloff&quot;</td><td>&quot;mzasloff@captivatepharma.com&quot;</td><td>&quot;2678936625&quot;</td></tr><tr><td>&quot;Tijuana Flats Tex-Mex&quot;</td><td>&quot;FL&quot;</td><td>&quot;Maitland&quot;</td><td>&quot;4224 Virginia Beach Blvd&quot;</td><td>&quot;Larry&quot;</td><td>&quot;Ryback&quot;</td><td>&quot;larry.j-ryback@tijuanaflats.co…</td><td>&quot;4078596190&quot;</td></tr><tr><td>&quot;Larta Institute&quot;</td><td>&quot;CA&quot;</td><td>&quot;Los Angeles&quot;</td><td>&quot;\\N&quot;</td><td>&quot;Rohit&quot;</td><td>&quot;Shukla&quot;</td><td>&quot;rshukla@old.larta.org&quot;</td><td>&quot;2136942826&quot;</td></tr><tr><td>&quot;Outdoor Expressions&quot;</td><td>&quot;GA&quot;</td><td>&quot;Canton&quot;</td><td>&quot;981 Little Rd&quot;</td><td>&quot;Thomas&quot;</td><td>&quot;Farr&quot;</td><td>&quot;thomas@outdoorexpressions.net&quot;</td><td>&quot;7702710851&quot;</td></tr><tr><td>&quot;Threshold Consulting Services&quot;</td><td>&quot;FL&quot;</td><td>&quot;Clearwater&quot;</td><td>&quot;200 North Garden Avenue&quot;</td><td>&quot;Robert&quot;</td><td>&quot;Patterson&quot;</td><td>&quot;bpatterson@thresholdcs.com&quot;</td><td>&quot;3125838752, 7274670626&quot;</td></tr></tbody></table></div>"
      ],
      "text/plain": [
       "shape: (5_033_826, 8)\n",
       "┌────────────┬────────────┬────────────┬───────────┬───────────┬───────────┬───────────┬───────────┐\n",
       "│ Company    ┆ Company    ┆ Company    ┆ Company   ┆ First     ┆ Last Name ┆ Business  ┆ Mobile    │\n",
       "│ Name       ┆ State      ┆ City       ┆ Address   ┆ Name      ┆ ---       ┆ Email     ┆ Phone     │\n",
       "│ ---        ┆ ---        ┆ ---        ┆ ---       ┆ ---       ┆ str       ┆ ---       ┆ ---       │\n",
       "│ str        ┆ str        ┆ str        ┆ str       ┆ str       ┆           ┆ str       ┆ str       │\n",
       "╞════════════╪════════════╪════════════╪═══════════╪═══════════╪═══════════╪═══════════╪═══════════╡\n",
       "│ Custom     ┆ MD         ┆ Burtonsvil ┆ 3401      ┆ Donna     ┆ Chernisky ┆ donna@cus ┆ 301236045 │\n",
       "│ Designed   ┆            ┆ le         ┆ Forsythia ┆           ┆           ┆ tomdesign ┆ 0         │\n",
       "│ Solutions  ┆            ┆            ┆ Ln        ┆           ┆           ┆ edsolutio ┆           │\n",
       "│            ┆            ┆            ┆           ┆           ┆           ┆ ns.…      ┆           │\n",
       "│ Putt-Putt  ┆ NC         ┆ Winston    ┆ \\N        ┆ David     ┆ Callahan  ┆ d.callaha ┆ 919401975 │\n",
       "│            ┆            ┆ Salem      ┆           ┆           ┆           ┆ n@putt-pu ┆ 9         │\n",
       "│            ┆            ┆            ┆           ┆           ┆           ┆ tt.com    ┆           │\n",
       "│ Aatac Inc  ┆ NC         ┆ Charlotte  ┆ 4000 Sam  ┆ Brandon   ┆ Allison   ┆ b.allison ┆ 704392462 │\n",
       "│            ┆            ┆            ┆ Wilson    ┆           ┆           ┆ @aatac.co ┆ 4         │\n",
       "│            ┆            ┆            ┆ Road      ┆           ┆           ┆ m         ┆           │\n",
       "│ Reynolds   ┆ NJ         ┆ Shrewsbury ┆ 655 Shrew ┆ Georgia   ┆ Reynolds  ┆ g.reynold ┆ 732842080 │\n",
       "│ Benefits   ┆            ┆            ┆ sbury Ave ┆           ┆           ┆ s@reynold ┆ 8         │\n",
       "│            ┆            ┆            ┆           ┆           ┆           ┆ sbenefits ┆           │\n",
       "│            ┆            ┆            ┆           ┆           ┆           ┆ .co…      ┆           │\n",
       "│ Folica     ┆ NY         ┆ New York   ┆ 315       ┆ Dennis    ┆ Huang     ┆ huang@fol ┆ 609860843 │\n",
       "│ Inc.       ┆            ┆            ┆ Madison   ┆           ┆           ┆ ica.com   ┆ 0         │\n",
       "│            ┆            ┆            ┆ Avenue    ┆           ┆           ┆           ┆           │\n",
       "│ …          ┆ …          ┆ …          ┆ …         ┆ …         ┆ …         ┆ …         ┆ …         │\n",
       "│ Captivate  ┆ PA         ┆ Doylestown ┆ 3805 Old  ┆ Michael   ┆ Zasloff   ┆ mzasloff@ ┆ 267893662 │\n",
       "│ Pharmaceut ┆            ┆            ┆ Easton Rd ┆           ┆           ┆ captivate ┆ 5         │\n",
       "│ icals      ┆            ┆            ┆           ┆           ┆           ┆ pharma.co ┆           │\n",
       "│            ┆            ┆            ┆           ┆           ┆           ┆ m         ┆           │\n",
       "│ Tijuana    ┆ FL         ┆ Maitland   ┆ 4224      ┆ Larry     ┆ Ryback    ┆ larry.j-r ┆ 407859619 │\n",
       "│ Flats      ┆            ┆            ┆ Virginia  ┆           ┆           ┆ yback@tij ┆ 0         │\n",
       "│ Tex-Mex    ┆            ┆            ┆ Beach     ┆           ┆           ┆ uanaflats ┆           │\n",
       "│            ┆            ┆            ┆ Blvd      ┆           ┆           ┆ .co…      ┆           │\n",
       "│ Larta      ┆ CA         ┆ Los        ┆ \\N        ┆ Rohit     ┆ Shukla    ┆ rshukla@o ┆ 213694282 │\n",
       "│ Institute  ┆            ┆ Angeles    ┆           ┆           ┆           ┆ ld.larta. ┆ 6         │\n",
       "│            ┆            ┆            ┆           ┆           ┆           ┆ org       ┆           │\n",
       "│ Outdoor    ┆ GA         ┆ Canton     ┆ 981       ┆ Thomas    ┆ Farr      ┆ thomas@ou ┆ 770271085 │\n",
       "│ Expression ┆            ┆            ┆ Little Rd ┆           ┆           ┆ tdoorexpr ┆ 1         │\n",
       "│ s          ┆            ┆            ┆           ┆           ┆           ┆ essions.n ┆           │\n",
       "│            ┆            ┆            ┆           ┆           ┆           ┆ et        ┆           │\n",
       "│ Threshold  ┆ FL         ┆ Clearwater ┆ 200 North ┆ Robert    ┆ Patterson ┆ bpatterso ┆ 312583875 │\n",
       "│ Consulting ┆            ┆            ┆ Garden    ┆           ┆           ┆ n@thresho ┆ 2, 727467 │\n",
       "│ Services   ┆            ┆            ┆ Avenue    ┆           ┆           ┆ ldcs.com  ┆ 0626      │\n",
       "└────────────┴────────────┴────────────┴───────────┴───────────┴───────────┴───────────┴───────────┘"
      ]
     },
     "execution_count": 35,
     "metadata": {},
     "output_type": "execute_result"
    }
   ],
   "source": [
    "contacts_df[company_fields + owner_fields]"
   ]
  },
  {
   "cell_type": "code",
   "execution_count": 36,
   "metadata": {},
   "outputs": [
    {
     "data": {
      "text/html": [
       "<div><style>\n",
       ".dataframe > thead > tr,\n",
       ".dataframe > tbody > tr {\n",
       "  text-align: right;\n",
       "  white-space: pre-wrap;\n",
       "}\n",
       "</style>\n",
       "<small>shape: (2_003_579, 8)</small><table border=\"1\" class=\"dataframe\"><thead><tr><th>Company Name</th><th>Company State</th><th>Company City</th><th>Company Address</th><th>First Name</th><th>Last Name</th><th>Business Email</th><th>Mobile Phone</th></tr><tr><td>str</td><td>str</td><td>str</td><td>str</td><td>str</td><td>str</td><td>str</td><td>str</td></tr></thead><tbody><tr><td>&quot;Luminary Holistics Llc&quot;</td><td>&quot;NM&quot;</td><td>&quot;Albuquerque&quot;</td><td>&quot;11811 Menaul Blvd Ne&quot;</td><td>&quot;Wendy&quot;</td><td>&quot;Bodin&quot;</td><td>&quot;wendy.bodin@luminaryhealth.com&quot;</td><td>&quot;5055037276&quot;</td></tr><tr><td>&quot;Academy Of Intl Bartending&quot;</td><td>&quot;CA&quot;</td><td>&quot;San Diego&quot;</td><td>&quot;\\N&quot;</td><td>&quot;Keith&quot;</td><td>&quot;Frantz&quot;</td><td>&quot;keith@cardsandcocktails.com&quot;</td><td>&quot;8585606499&quot;</td></tr><tr><td>&quot;The Corked Canvas&quot;</td><td>&quot;\\N&quot;</td><td>&quot;\\N&quot;</td><td>&quot;\\N&quot;</td><td>&quot;Kristy&quot;</td><td>&quot;Goggio&quot;</td><td>&quot;kristy@thecorkedcanvas.com&quot;</td><td>&quot;2623788338&quot;</td></tr><tr><td>&quot;Lonnies Best Taste Of Chicago&quot;</td><td>&quot;KY&quot;</td><td>&quot;Louisville&quot;</td><td>&quot;121 Saint Matthews Avenue&quot;</td><td>&quot;M&quot;</td><td>&quot;Tedburke&quot;</td><td>&quot;tedburke@insightbb.com&quot;</td><td>&quot;2708263593&quot;</td></tr><tr><td>&quot;The Pleasure Chest&quot;</td><td>&quot;CA&quot;</td><td>&quot;New York&quot;</td><td>&quot;1150 2nd Ave Frnt 1&quot;</td><td>&quot;Jodi&quot;</td><td>&quot;Bass&quot;</td><td>&quot;jodi@thepleasurechest.com&quot;</td><td>&quot;7758832225&quot;</td></tr><tr><td>&hellip;</td><td>&hellip;</td><td>&hellip;</td><td>&hellip;</td><td>&hellip;</td><td>&hellip;</td><td>&hellip;</td><td>&hellip;</td></tr><tr><td>&quot;Derdan Enterprises&quot;</td><td>&quot;NV&quot;</td><td>&quot;Las Vegas&quot;</td><td>&quot;7255 W Sunset Rd&quot;</td><td>&quot;Daniel&quot;</td><td>&quot;Huckans&quot;</td><td>&quot;dan.huckans@derdanenterprises.…</td><td>&quot;8568161577&quot;</td></tr><tr><td>&quot;Cher A Bumps  Assoc Inc&quot;</td><td>&quot;OK&quot;</td><td>&quot;Oklahoma City&quot;</td><td>&quot;2601 Nw Expressway&quot;</td><td>&quot;Tim&quot;</td><td>&quot;Charter&quot;</td><td>&quot;charter@cabainc.com&quot;</td><td>&quot;4058587361, 4058400231&quot;</td></tr><tr><td>&quot;Polish Me&quot;</td><td>&quot;NJ&quot;</td><td>&quot;Jersey City&quot;</td><td>&quot;\\N&quot;</td><td>&quot;Jennifer&quot;</td><td>&quot;Resnick&quot;</td><td>&quot;jresnick@polishmenailspa.com&quot;</td><td>&quot;2016531100&quot;</td></tr><tr><td>&quot;Shred Direct Llc&quot;</td><td>&quot;OH&quot;</td><td>&quot;Plain City&quot;</td><td>&quot;\\N&quot;</td><td>&quot;Mark&quot;</td><td>&quot;Southworth&quot;</td><td>&quot;m.southworth@shreddirect.com&quot;</td><td>&quot;6147333873&quot;</td></tr><tr><td>&quot;Bright Beginnings Preschool&quot;</td><td>&quot;VA&quot;</td><td>&quot;Charlottesville&quot;</td><td>&quot;1610 Regent Street&quot;</td><td>&quot;Kimberly&quot;</td><td>&quot;Youngquist&quot;</td><td>&quot;youngquist@brightbeginningsva.…</td><td>&quot;4349738414, 4349738414, 406489…</td></tr></tbody></table></div>"
      ],
      "text/plain": [
       "shape: (2_003_579, 8)\n",
       "┌────────────┬────────────┬────────────┬───────────┬───────────┬───────────┬───────────┬───────────┐\n",
       "│ Company    ┆ Company    ┆ Company    ┆ Company   ┆ First     ┆ Last Name ┆ Business  ┆ Mobile    │\n",
       "│ Name       ┆ State      ┆ City       ┆ Address   ┆ Name      ┆ ---       ┆ Email     ┆ Phone     │\n",
       "│ ---        ┆ ---        ┆ ---        ┆ ---       ┆ ---       ┆ str       ┆ ---       ┆ ---       │\n",
       "│ str        ┆ str        ┆ str        ┆ str       ┆ str       ┆           ┆ str       ┆ str       │\n",
       "╞════════════╪════════════╪════════════╪═══════════╪═══════════╪═══════════╪═══════════╪═══════════╡\n",
       "│ Luminary   ┆ NM         ┆ Albuquerqu ┆ 11811     ┆ Wendy     ┆ Bodin     ┆ wendy.bod ┆ 505503727 │\n",
       "│ Holistics  ┆            ┆ e          ┆ Menaul    ┆           ┆           ┆ in@lumina ┆ 6         │\n",
       "│ Llc        ┆            ┆            ┆ Blvd Ne   ┆           ┆           ┆ ryhealth. ┆           │\n",
       "│            ┆            ┆            ┆           ┆           ┆           ┆ com       ┆           │\n",
       "│ Academy Of ┆ CA         ┆ San Diego  ┆ \\N        ┆ Keith     ┆ Frantz    ┆ keith@car ┆ 858560649 │\n",
       "│ Intl       ┆            ┆            ┆           ┆           ┆           ┆ dsandcock ┆ 9         │\n",
       "│ Bartending ┆            ┆            ┆           ┆           ┆           ┆ tails.com ┆           │\n",
       "│ The Corked ┆ \\N         ┆ \\N         ┆ \\N        ┆ Kristy    ┆ Goggio    ┆ kristy@th ┆ 262378833 │\n",
       "│ Canvas     ┆            ┆            ┆           ┆           ┆           ┆ ecorkedca ┆ 8         │\n",
       "│            ┆            ┆            ┆           ┆           ┆           ┆ nvas.com  ┆           │\n",
       "│ Lonnies    ┆ KY         ┆ Louisville ┆ 121 Saint ┆ M         ┆ Tedburke  ┆ tedburke@ ┆ 270826359 │\n",
       "│ Best Taste ┆            ┆            ┆ Matthews  ┆           ┆           ┆ insightbb ┆ 3         │\n",
       "│ Of Chicago ┆            ┆            ┆ Avenue    ┆           ┆           ┆ .com      ┆           │\n",
       "│ The        ┆ CA         ┆ New York   ┆ 1150 2nd  ┆ Jodi      ┆ Bass      ┆ jodi@thep ┆ 775883222 │\n",
       "│ Pleasure   ┆            ┆            ┆ Ave Frnt  ┆           ┆           ┆ leasurech ┆ 5         │\n",
       "│ Chest      ┆            ┆            ┆ 1         ┆           ┆           ┆ est.com   ┆           │\n",
       "│ …          ┆ …          ┆ …          ┆ …         ┆ …         ┆ …         ┆ …         ┆ …         │\n",
       "│ Derdan Ent ┆ NV         ┆ Las Vegas  ┆ 7255 W    ┆ Daniel    ┆ Huckans   ┆ dan.hucka ┆ 856816157 │\n",
       "│ erprises   ┆            ┆            ┆ Sunset Rd ┆           ┆           ┆ ns@derdan ┆ 7         │\n",
       "│            ┆            ┆            ┆           ┆           ┆           ┆ enterpris ┆           │\n",
       "│            ┆            ┆            ┆           ┆           ┆           ┆ es.…      ┆           │\n",
       "│ Cher A     ┆ OK         ┆ Oklahoma   ┆ 2601 Nw   ┆ Tim       ┆ Charter   ┆ charter@c ┆ 405858736 │\n",
       "│ Bumps      ┆            ┆ City       ┆ Expresswa ┆           ┆           ┆ abainc.co ┆ 1, 405840 │\n",
       "│ Assoc Inc  ┆            ┆            ┆ y         ┆           ┆           ┆ m         ┆ 0231      │\n",
       "│ Polish Me  ┆ NJ         ┆ Jersey     ┆ \\N        ┆ Jennifer  ┆ Resnick   ┆ jresnick@ ┆ 201653110 │\n",
       "│            ┆            ┆ City       ┆           ┆           ┆           ┆ polishmen ┆ 0         │\n",
       "│            ┆            ┆            ┆           ┆           ┆           ┆ ailspa.co ┆           │\n",
       "│            ┆            ┆            ┆           ┆           ┆           ┆ m         ┆           │\n",
       "│ Shred      ┆ OH         ┆ Plain City ┆ \\N        ┆ Mark      ┆ Southwort ┆ m.southwo ┆ 614733387 │\n",
       "│ Direct Llc ┆            ┆            ┆           ┆           ┆ h         ┆ rth@shred ┆ 3         │\n",
       "│            ┆            ┆            ┆           ┆           ┆           ┆ direct.co ┆           │\n",
       "│            ┆            ┆            ┆           ┆           ┆           ┆ m         ┆           │\n",
       "│ Bright     ┆ VA         ┆ Charlottes ┆ 1610      ┆ Kimberly  ┆ Youngquis ┆ youngquis ┆ 434973841 │\n",
       "│ Beginnings ┆            ┆ ville      ┆ Regent    ┆           ┆ t         ┆ t@brightb ┆ 4, 434973 │\n",
       "│ Preschool  ┆            ┆            ┆ Street    ┆           ┆           ┆ eginnings ┆ 8414,     │\n",
       "│            ┆            ┆            ┆           ┆           ┆           ┆ va.…      ┆ 406489…   │\n",
       "└────────────┴────────────┴────────────┴───────────┴───────────┴───────────┴───────────┴───────────┘"
      ]
     },
     "execution_count": 36,
     "metadata": {},
     "output_type": "execute_result"
    }
   ],
   "source": [
    "owners_df[company_fields + owner_fields]"
   ]
  },
  {
   "cell_type": "code",
   "execution_count": 37,
   "metadata": {},
   "outputs": [],
   "source": [
    "contact_info_df = pl.concat([contacts_df[company_fields + owner_fields + ['filename']],\n",
    "                             owners_df[company_fields + owner_fields + ['filename']],\n",
    "                             b2b_df[company_fields + owner_fields + ['filename']],\n",
    "                             apollo_82_df[company_fields + owner_fields + ['filename']],\n",
    "                             zoom_df[company_fields + owner_fields + ['filename']]])\n",
    "                            "
   ]
  },
  {
   "cell_type": "code",
   "execution_count": 38,
   "metadata": {},
   "outputs": [],
   "source": [
    "# Now clear the original dataframes to free up memory\n",
    "del owners_df\n",
    "del contacts_df\n",
    "del b2b_df\n",
    "del apollo_82_df\n",
    "del zoom_df"
   ]
  },
  {
   "cell_type": "code",
   "execution_count": 39,
   "metadata": {},
   "outputs": [
    {
     "data": {
      "text/html": [
       "<div><style>\n",
       ".dataframe > thead > tr,\n",
       ".dataframe > tbody > tr {\n",
       "  text-align: right;\n",
       "  white-space: pre-wrap;\n",
       "}\n",
       "</style>\n",
       "<small>shape: (162_896_418, 9)</small><table border=\"1\" class=\"dataframe\"><thead><tr><th>Company Name</th><th>Company State</th><th>Company City</th><th>Company Address</th><th>First Name</th><th>Last Name</th><th>Business Email</th><th>Mobile Phone</th><th>filename</th></tr><tr><td>str</td><td>str</td><td>str</td><td>str</td><td>str</td><td>str</td><td>str</td><td>str</td><td>str</td></tr></thead><tbody><tr><td>&quot;Custom Designed Solutions&quot;</td><td>&quot;MD&quot;</td><td>&quot;Burtonsville&quot;</td><td>&quot;3401 Forsythia Ln&quot;</td><td>&quot;Donna&quot;</td><td>&quot;Chernisky&quot;</td><td>&quot;donna@customdesignedsolutions.…</td><td>&quot;3012360450&quot;</td><td>&quot;List-4 - 1,004,842 Contacts Fo…</td></tr><tr><td>&quot;Putt-Putt&quot;</td><td>&quot;NC&quot;</td><td>&quot;Winston Salem&quot;</td><td>&quot;\\N&quot;</td><td>&quot;David&quot;</td><td>&quot;Callahan&quot;</td><td>&quot;d.callahan@putt-putt.com&quot;</td><td>&quot;9194019759&quot;</td><td>&quot;List-4 - 1,004,842 Contacts Fo…</td></tr><tr><td>&quot;Aatac Inc&quot;</td><td>&quot;NC&quot;</td><td>&quot;Charlotte&quot;</td><td>&quot;4000 Sam Wilson Road&quot;</td><td>&quot;Brandon&quot;</td><td>&quot;Allison&quot;</td><td>&quot;b.allison@aatac.com&quot;</td><td>&quot;7043924624&quot;</td><td>&quot;List-4 - 1,004,842 Contacts Fo…</td></tr><tr><td>&quot;Reynolds Benefits&quot;</td><td>&quot;NJ&quot;</td><td>&quot;Shrewsbury&quot;</td><td>&quot;655 Shrewsbury Ave&quot;</td><td>&quot;Georgia&quot;</td><td>&quot;Reynolds&quot;</td><td>&quot;g.reynolds@reynoldsbenefits.co…</td><td>&quot;7328420808&quot;</td><td>&quot;List-4 - 1,004,842 Contacts Fo…</td></tr><tr><td>&quot;Folica Inc.&quot;</td><td>&quot;NY&quot;</td><td>&quot;New York&quot;</td><td>&quot;315 Madison Avenue&quot;</td><td>&quot;Dennis&quot;</td><td>&quot;Huang&quot;</td><td>&quot;huang@folica.com&quot;</td><td>&quot;6098608430&quot;</td><td>&quot;List-4 - 1,004,842 Contacts Fo…</td></tr><tr><td>&hellip;</td><td>&hellip;</td><td>&hellip;</td><td>&hellip;</td><td>&hellip;</td><td>&hellip;</td><td>&hellip;</td><td>&hellip;</td><td>&hellip;</td></tr><tr><td>&quot;Harvey Mudd College&quot;</td><td>&quot;CA&quot;</td><td>&quot;Claremont&quot;</td><td>&quot;301 Platt Blvd&quot;</td><td>&quot;Ran&quot;</td><td>&quot;Libeskind-Hadas&quot;</td><td>&quot;libeskind-hadas_ran@hmc.edu&quot;</td><td>&quot;909-621-8000&quot;</td><td>&quot;List # 08_1,039,704 Contacts N…</td></tr><tr><td>&quot;Niagara University&quot;</td><td>&quot;NY&quot;</td><td>&quot;Niagara University&quot;</td><td>&quot;Po Box 2008&quot;</td><td>&quot;Theodore&quot;</td><td>&quot;Darlak&quot;</td><td>&quot;darlak_theodore@niagara.edu&quot;</td><td>&quot;716-286-8200&quot;</td><td>&quot;List # 08_1,039,704 Contacts N…</td></tr><tr><td>&quot;Boston Public Schools&quot;</td><td>&quot;MA&quot;</td><td>&quot;Boston&quot;</td><td>&quot;26 Court St&quot;</td><td>&quot;Arleen&quot;</td><td>&quot;Thompson&quot;</td><td>&quot;thompson_arleen@boston.k12.ma.…</td><td>&quot;617-635-9000&quot;</td><td>&quot;List # 08_1,039,704 Contacts N…</td></tr><tr><td>&quot;CA Inc&quot;</td><td>&quot;NY&quot;</td><td>&quot;Islandia&quot;</td><td>&quot;1 Computer Associates Plz&quot;</td><td>&quot;Darrell&quot;</td><td>&quot;Walker&quot;</td><td>&quot;darrell.walker@ca.com&quot;</td><td>&quot;800-225-5224&quot;</td><td>&quot;List # 08_1,039,704 Contacts N…</td></tr><tr><td>&quot;Lawrence Livermore National La…</td><td>&quot;CA&quot;</td><td>&quot;Livermore&quot;</td><td>&quot;7000 East Ave&quot;</td><td>&quot;Rob&quot;</td><td>&quot;Sharpe&quot;</td><td>&quot;sharpe_rob@llnl.gov&quot;</td><td>&quot;925-422-1100&quot;</td><td>&quot;List # 08_1,039,704 Contacts N…</td></tr></tbody></table></div>"
      ],
      "text/plain": [
       "shape: (162_896_418, 9)\n",
       "┌───────────┬───────────┬───────────┬───────────┬───┬───────────┬───────────┬───────────┬──────────┐\n",
       "│ Company   ┆ Company   ┆ Company   ┆ Company   ┆ … ┆ Last Name ┆ Business  ┆ Mobile    ┆ filename │\n",
       "│ Name      ┆ State     ┆ City      ┆ Address   ┆   ┆ ---       ┆ Email     ┆ Phone     ┆ ---      │\n",
       "│ ---       ┆ ---       ┆ ---       ┆ ---       ┆   ┆ str       ┆ ---       ┆ ---       ┆ str      │\n",
       "│ str       ┆ str       ┆ str       ┆ str       ┆   ┆           ┆ str       ┆ str       ┆          │\n",
       "╞═══════════╪═══════════╪═══════════╪═══════════╪═══╪═══════════╪═══════════╪═══════════╪══════════╡\n",
       "│ Custom    ┆ MD        ┆ Burtonsvi ┆ 3401      ┆ … ┆ Chernisky ┆ donna@cus ┆ 301236045 ┆ List-4 - │\n",
       "│ Designed  ┆           ┆ lle       ┆ Forsythia ┆   ┆           ┆ tomdesign ┆ 0         ┆ 1,004,84 │\n",
       "│ Solutions ┆           ┆           ┆ Ln        ┆   ┆           ┆ edsolutio ┆           ┆ 2        │\n",
       "│           ┆           ┆           ┆           ┆   ┆           ┆ ns.…      ┆           ┆ Contacts │\n",
       "│           ┆           ┆           ┆           ┆   ┆           ┆           ┆           ┆ Fo…      │\n",
       "│ Putt-Putt ┆ NC        ┆ Winston   ┆ \\N        ┆ … ┆ Callahan  ┆ d.callaha ┆ 919401975 ┆ List-4 - │\n",
       "│           ┆           ┆ Salem     ┆           ┆   ┆           ┆ n@putt-pu ┆ 9         ┆ 1,004,84 │\n",
       "│           ┆           ┆           ┆           ┆   ┆           ┆ tt.com    ┆           ┆ 2        │\n",
       "│           ┆           ┆           ┆           ┆   ┆           ┆           ┆           ┆ Contacts │\n",
       "│           ┆           ┆           ┆           ┆   ┆           ┆           ┆           ┆ Fo…      │\n",
       "│ Aatac Inc ┆ NC        ┆ Charlotte ┆ 4000 Sam  ┆ … ┆ Allison   ┆ b.allison ┆ 704392462 ┆ List-4 - │\n",
       "│           ┆           ┆           ┆ Wilson    ┆   ┆           ┆ @aatac.co ┆ 4         ┆ 1,004,84 │\n",
       "│           ┆           ┆           ┆ Road      ┆   ┆           ┆ m         ┆           ┆ 2        │\n",
       "│           ┆           ┆           ┆           ┆   ┆           ┆           ┆           ┆ Contacts │\n",
       "│           ┆           ┆           ┆           ┆   ┆           ┆           ┆           ┆ Fo…      │\n",
       "│ Reynolds  ┆ NJ        ┆ Shrewsbur ┆ 655 Shrew ┆ … ┆ Reynolds  ┆ g.reynold ┆ 732842080 ┆ List-4 - │\n",
       "│ Benefits  ┆           ┆ y         ┆ sbury Ave ┆   ┆           ┆ s@reynold ┆ 8         ┆ 1,004,84 │\n",
       "│           ┆           ┆           ┆           ┆   ┆           ┆ sbenefits ┆           ┆ 2        │\n",
       "│           ┆           ┆           ┆           ┆   ┆           ┆ .co…      ┆           ┆ Contacts │\n",
       "│           ┆           ┆           ┆           ┆   ┆           ┆           ┆           ┆ Fo…      │\n",
       "│ Folica    ┆ NY        ┆ New York  ┆ 315       ┆ … ┆ Huang     ┆ huang@fol ┆ 609860843 ┆ List-4 - │\n",
       "│ Inc.      ┆           ┆           ┆ Madison   ┆   ┆           ┆ ica.com   ┆ 0         ┆ 1,004,84 │\n",
       "│           ┆           ┆           ┆ Avenue    ┆   ┆           ┆           ┆           ┆ 2        │\n",
       "│           ┆           ┆           ┆           ┆   ┆           ┆           ┆           ┆ Contacts │\n",
       "│           ┆           ┆           ┆           ┆   ┆           ┆           ┆           ┆ Fo…      │\n",
       "│ …         ┆ …         ┆ …         ┆ …         ┆ … ┆ …         ┆ …         ┆ …         ┆ …        │\n",
       "│ Harvey    ┆ CA        ┆ Claremont ┆ 301 Platt ┆ … ┆ Libeskind ┆ libeskind ┆ 909-621-8 ┆ List #   │\n",
       "│ Mudd      ┆           ┆           ┆ Blvd      ┆   ┆ -Hadas    ┆ -hadas_ra ┆ 000       ┆ 08_1,039 │\n",
       "│ College   ┆           ┆           ┆           ┆   ┆           ┆ n@hmc.edu ┆           ┆ ,704     │\n",
       "│           ┆           ┆           ┆           ┆   ┆           ┆           ┆           ┆ Contacts │\n",
       "│           ┆           ┆           ┆           ┆   ┆           ┆           ┆           ┆ N…       │\n",
       "│ Niagara   ┆ NY        ┆ Niagara   ┆ Po Box    ┆ … ┆ Darlak    ┆ darlak_th ┆ 716-286-8 ┆ List #   │\n",
       "│ Universit ┆           ┆ Universit ┆ 2008      ┆   ┆           ┆ eodore@ni ┆ 200       ┆ 08_1,039 │\n",
       "│ y         ┆           ┆ y         ┆           ┆   ┆           ┆ agara.edu ┆           ┆ ,704     │\n",
       "│           ┆           ┆           ┆           ┆   ┆           ┆           ┆           ┆ Contacts │\n",
       "│           ┆           ┆           ┆           ┆   ┆           ┆           ┆           ┆ N…       │\n",
       "│ Boston    ┆ MA        ┆ Boston    ┆ 26 Court  ┆ … ┆ Thompson  ┆ thompson_ ┆ 617-635-9 ┆ List #   │\n",
       "│ Public    ┆           ┆           ┆ St        ┆   ┆           ┆ arleen@bo ┆ 000       ┆ 08_1,039 │\n",
       "│ Schools   ┆           ┆           ┆           ┆   ┆           ┆ ston.k12. ┆           ┆ ,704     │\n",
       "│           ┆           ┆           ┆           ┆   ┆           ┆ ma.…      ┆           ┆ Contacts │\n",
       "│           ┆           ┆           ┆           ┆   ┆           ┆           ┆           ┆ N…       │\n",
       "│ CA Inc    ┆ NY        ┆ Islandia  ┆ 1         ┆ … ┆ Walker    ┆ darrell.w ┆ 800-225-5 ┆ List #   │\n",
       "│           ┆           ┆           ┆ Computer  ┆   ┆           ┆ alker@ca. ┆ 224       ┆ 08_1,039 │\n",
       "│           ┆           ┆           ┆ Associate ┆   ┆           ┆ com       ┆           ┆ ,704     │\n",
       "│           ┆           ┆           ┆ s Plz     ┆   ┆           ┆           ┆           ┆ Contacts │\n",
       "│           ┆           ┆           ┆           ┆   ┆           ┆           ┆           ┆ N…       │\n",
       "│ Lawrence  ┆ CA        ┆ Livermore ┆ 7000 East ┆ … ┆ Sharpe    ┆ sharpe_ro ┆ 925-422-1 ┆ List #   │\n",
       "│ Livermore ┆           ┆           ┆ Ave       ┆   ┆           ┆ b@llnl.go ┆ 100       ┆ 08_1,039 │\n",
       "│ National  ┆           ┆           ┆           ┆   ┆           ┆ v         ┆           ┆ ,704     │\n",
       "│ La…       ┆           ┆           ┆           ┆   ┆           ┆           ┆           ┆ Contacts │\n",
       "│           ┆           ┆           ┆           ┆   ┆           ┆           ┆           ┆ N…       │\n",
       "└───────────┴───────────┴───────────┴───────────┴───┴───────────┴───────────┴───────────┴──────────┘"
      ]
     },
     "execution_count": 39,
     "metadata": {},
     "output_type": "execute_result"
    }
   ],
   "source": [
    "contact_info_df"
   ]
  },
  {
   "cell_type": "code",
   "execution_count": 40,
   "metadata": {},
   "outputs": [],
   "source": [
    "def normalize_names_with_pandas(series):\n",
    "    # Convert Polars Series to Pandas Series\n",
    "    pandas_series = series.to_pandas()\n",
    "    \n",
    "    # Lowercase\n",
    "    pandas_series = pandas_series.str.lower()\n",
    "    # Remove all punctuation including periods and other non-alphanumeric characters, and replace with a space\n",
    "    pandas_series = pandas_series.str.replace(r\"[^\\w\\s]\", \" \", regex=True)\n",
    "    # Normalize spaces: replace one or more whitespace characters with a single space\n",
    "    pandas_series = pandas_series.str.replace(r\"\\s+\", \" \", regex=True)\n",
    "    # Strip any leading or trailing whitespace\n",
    "    pandas_series = pandas_series.str.strip()\n",
    "    \n",
    "    # Convert back to Polars Series\n",
    "    return pl.Series(pandas_series.name, pandas_series.tolist())\n",
    "\n",
    "# Example usage with your data\n",
    "loan_info_names = loan_info_df['AWARDEEORRECIPIENTLEGALENTITYNAME']\n",
    "contacts_names = contact_info_df['Company Name']\n",
    "\n",
    "normalized_loan_names = normalize_names_with_pandas(loan_info_names)\n",
    "normalized_contacts_names = normalize_names_with_pandas(contacts_names)\n",
    "\n",
    "# Use with_columns to add the normalized names to the DataFrames\n",
    "loan_info_df = loan_info_df.with_columns([normalized_loan_names.alias('Normalized Name')])\n",
    "contact_info_df = contact_info_df.with_columns([normalized_contacts_names.alias('Normalized Name')])"
   ]
  },
  {
   "cell_type": "markdown",
   "metadata": {},
   "source": [
    "### Remove large companies from dataset"
   ]
  },
  {
   "cell_type": "code",
   "execution_count": null,
   "metadata": {},
   "outputs": [
    {
     "name": "stdout",
     "output_type": "stream",
     "text": [
      "shape: (50, 2)\n",
      "┌────────────────────────┬───────┐\n",
      "│ Normalized Name        ┆ count │\n",
      "│ ---                    ┆ ---   │\n",
      "│ str                    ┆ u32   │\n",
      "╞════════════════════════╪═══════╡\n",
      "│ n a                    ┆ 650   │\n",
      "│ self employed          ┆ 552   │\n",
      "│ none                   ┆ 330   │\n",
      "│ independent contractor ┆ 299   │\n",
      "│ na                     ┆ 196   │\n",
      "│ phuong nguyen          ┆ 84    │\n",
      "│ taxi driver            ┆ 82    │\n",
      "│ thuy nguyen            ┆ 78    │\n",
      "│ self                   ┆ 72    │\n",
      "│ pro nails              ┆ 72    │\n",
      "│ jose rodriguez         ┆ 67    │\n",
      "│ vipkid                 ┆ 61    │\n",
      "│ driver                 ┆ 61    │\n",
      "│ top nails              ┆ 59    │\n",
      "│ transportation         ┆ 59    │\n",
      "│ thanh nguyen           ┆ 57    │\n",
      "│ michael                ┆ 55    │\n",
      "│ thao nguyen            ┆ 52    │\n",
      "│ trang nguyen           ┆ 52    │\n",
      "│ star nails             ┆ 50    │\n",
      "│ real estate            ┆ 47    │\n",
      "│ happy nails            ┆ 47    │\n",
      "│ thu nguyen             ┆ 47    │\n",
      "│ tuan nguyen            ┆ 47    │\n",
      "│ anh nguyen             ┆ 46    │\n",
      "│ hung nguyen            ┆ 46    │\n",
      "│ kim nguyen             ┆ 46    │\n",
      "│ taxi                   ┆ 45    │\n",
      "│ rideshare dashboard    ┆ 45    │\n",
      "│ van nguyen             ┆ 45    │\n",
      "│ realtor                ┆ 45    │\n",
      "│ rideshare              ┆ 43    │\n",
      "│ dung nguyen            ┆ 43    │\n",
      "│ michael smith          ┆ 42    │\n",
      "│ jose gonzalez          ┆ 42    │\n",
      "│ lovely nails           ┆ 42    │\n",
      "│ fancy nails            ┆ 41    │\n",
      "│ shipt                  ┆ 41    │\n",
      "│ keller williams realty ┆ 41    │\n",
      "│ tony nguyen            ┆ 40    │\n",
      "│ linh nguyen            ┆ 39    │\n",
      "│ hanh nguyen            ┆ 38    │\n",
      "│ michael johnson        ┆ 38    │\n",
      "│ jose                   ┆ 38    │\n",
      "│ michael williams       ┆ 38    │\n",
      "│ sole proprietor        ┆ 37    │\n",
      "│ david                  ┆ 37    │\n",
      "│ mai nguyen             ┆ 37    │\n",
      "│ phuong tran            ┆ 37    │\n",
      "│ regal nails            ┆ 36    │\n",
      "└────────────────────────┴───────┘\n"
     ]
    }
   ],
   "source": [
    "# Now that we have normalized names filter out big companies from the both dataframes\n",
    "companies_to_exclude = ['uber', 'lyft', 'doordash', 'instacart', 'world financial group', 'door dash', 'airbnb', 'postmates',\n",
    "                        'amazon flex', 'grubhub', 'northwestern mutual', 'amazon flex', 'yellow cab', 'coldwell banker']\n",
    "\n",
    "# Create a regular expression pattern that matches any of the company names\n",
    "pattern = '|'.join(companies_to_exclude)\n",
    "\n",
    "# Filter out rows with company names to exclude\n",
    "filtered_df = loan_info_df.filter(~loan_info_df['Normalized Name'].str.contains(pattern))\n",
    "\n",
    "with pl.Config(tbl_rows=400):\n",
    "    print(filtered_df['Normalized Name'].value_counts().sort(\"count\", descending=True).head(50))\n"
   ]
  },
  {
   "cell_type": "code",
   "execution_count": null,
   "metadata": {},
   "outputs": [],
   "source": [
    "loan_info_df = loan_info_df.filter(~loan_info_df['Normalized Name'].str.contains(pattern))\n",
    "contact_info_df = contact_info_df.filter(~contact_info_df['Normalized Name'].str.contains(pattern))"
   ]
  },
  {
   "cell_type": "markdown",
   "metadata": {},
   "source": [
    "### Combine the loan dataset with contacts dataset"
   ]
  },
  {
   "cell_type": "code",
   "execution_count": null,
   "metadata": {},
   "outputs": [],
   "source": [
    "import polars as pl\n",
    "from fuzzywuzzy import fuzz\n",
    "\n",
    "# Join the on the 'Normalized Name' column. This giv\n",
    "matching_rows = loan_info_df.with_row_index().join(\n",
    "    contact_info_df,\n",
    "    on=\"Normalized Name\",\n",
    "    how=\"inner\",\n",
    "    suffix=\"_contacts\"\n",
    ")"
   ]
  },
  {
   "cell_type": "markdown",
   "metadata": {},
   "source": [
    "### Read existing Zapp dataset to remove duplicates"
   ]
  },
  {
   "cell_type": "code",
   "execution_count": null,
   "metadata": {},
   "outputs": [
    {
     "name": "stderr",
     "output_type": "stream",
     "text": [
      "/tmp/ipykernel_583002/3747020452.py:2: DtypeWarning: Columns (13,18,23,36,47) have mixed types. Specify dtype option on import or set low_memory=False.\n",
      "  zapp_df = pd.read_csv('data/db_existing/Cell Phone Numbers - Business Owners MAIN/ZappDataEIDLholders210k/210KDataZappEIDLholders.csv', encoding='ISO-8859-1')\n"
     ]
    }
   ],
   "source": [
    "import pandas as pd\n",
    "zapp_df = pd.read_csv('data/db_existing/Cell Phone Numbers - Business Owners MAIN/ZappDataEIDLholders210k/210KDataZappEIDLholders.csv', encoding='ISO-8859-1')\n",
    "zapp_df = zapp_df.astype(str)\n",
    "\n",
    "zapp_df = pl.DataFrame(zapp_df)\n",
    "\n",
    "normalized_zapp_names = normalize_names_with_pandas(zapp_df['AWARDEEORRECIPIENTLEGALENTITYNAME'])\n",
    "zapp_df = zapp_df.with_columns([normalized_zapp_names.alias('Normalized Name')])"
   ]
  },
  {
   "cell_type": "code",
   "execution_count": null,
   "metadata": {},
   "outputs": [
    {
     "name": "stdout",
     "output_type": "stream",
     "text": [
      "Number of multi-column matches: 7850\n",
      "Number of good matches after excluding zapp: 30390813\n"
     ]
    }
   ],
   "source": [
    "multi_col_matches = zapp_df.join(\n",
    "    matching_rows,\n",
    "    on=pl.col(\"Normalized Name\"),\n",
    "    how=\"inner\"\n",
    ").filter(\n",
    "    (pl.col(\"Dzemail\") != \"nan\") & (pl.col(\"Dzemail\") == pl.col(\"Business Email\")) |\n",
    "    (pl.col(\"Dzcell\") != \"nan\") & (pl.col(\"Dzcell\") == pl.col(\"Mobile Phone\"))\n",
    ")\n",
    "\n",
    "# Exclude the matched rows based on index from the original dataframe\n",
    "matching_rows_filtered = matching_rows.filter(~matching_rows['index'].is_in(multi_col_matches['index']))\n",
    "\n",
    "# Output the results\n",
    "print(f\"Number of multi-column matches: {len(multi_col_matches)}\")\n",
    "print(f\"Number of good matches after excluding zapp: {len(matching_rows_filtered)}\")\n"
   ]
  },
  {
   "cell_type": "code",
   "execution_count": null,
   "metadata": {},
   "outputs": [
    {
     "data": {
      "text/plain": [
       "(30642613, 18)"
      ]
     },
     "execution_count": 44,
     "metadata": {},
     "output_type": "execute_result"
    }
   ],
   "source": [
    "matching_rows.shape"
   ]
  },
  {
   "cell_type": "markdown",
   "metadata": {},
   "source": [
    "## Now we try to figure out which matched pairs are actually the same company. We start by considering companies with a very similar address (above 70 seems to be a good cutoff)"
   ]
  },
  {
   "cell_type": "code",
   "execution_count": null,
   "metadata": {},
   "outputs": [],
   "source": [
    "# Define a function for fuzzy matching addresses\n",
    "def fuzzy_match_addresses(row: dict) -> int:\n",
    "    # This function assumes the DataFrame has the necessary address columns named appropriately\n",
    "    return fuzz.ratio(row['LEGALENTITYADDRLINE1'], row['Company Address'])\n",
    "\n",
    "# Apply fuzzy matching to the address columns and create a new column 'AddrSimilarity'\n",
    "matching_rows_filtered = matching_rows_filtered.with_columns(\n",
    "    pl.struct(pl.all()).map_elements(fuzzy_match_addresses, return_dtype=pl.Int64).alias('AddrSimilarity')\n",
    ")\n",
    "\n",
    "good_matches_df = matching_rows_filtered.filter((pl.col('AddrSimilarity') > 70))"
   ]
  },
  {
   "cell_type": "code",
   "execution_count": null,
   "metadata": {},
   "outputs": [],
   "source": [
    "# Ok, now remove the rows that have already been matched in good matches from matching_rows\n",
    "matching_rows_1 = matching_rows_filtered.filter(~matching_rows_filtered['index'].is_in(good_matches_df['index']))\n"
   ]
  },
  {
   "cell_type": "code",
   "execution_count": null,
   "metadata": {},
   "outputs": [
    {
     "data": {
      "text/plain": [
       "(372882, 27643461, 30390813)"
      ]
     },
     "execution_count": 47,
     "metadata": {},
     "output_type": "execute_result"
    }
   ],
   "source": [
    "len(good_matches_df), len(matching_rows_1), len(matching_rows_filtered)"
   ]
  },
  {
   "cell_type": "markdown",
   "metadata": {},
   "source": [
    "### Now, add in entries in the same city"
   ]
  },
  {
   "cell_type": "code",
   "execution_count": null,
   "metadata": {},
   "outputs": [
    {
     "name": "stdout",
     "output_type": "stream",
     "text": [
      "Number of probable unique matches: 555559 / 27643461\n"
     ]
    }
   ],
   "source": [
    "# Now, filter out rows where LEGALENTITYSTATECD and Company State are not equal\n",
    "matching_rows_2 = matching_rows_1.filter(matching_rows_1['LEGALENTITYSTATECD'].str.to_uppercase() == matching_rows_1['Company State'].str.to_uppercase())\n",
    "\n",
    "# Filter by city\n",
    "matching_rows_2 = matching_rows_2.filter(matching_rows_2['LEGALENTITYCITYNAME'].str.to_uppercase() == matching_rows_2['Company City'].str.to_uppercase())\n",
    "\n",
    "print(f\"Number of probable unique matches: {len(matching_rows_2)} / {len(matching_rows_1)}\")"
   ]
  },
  {
   "cell_type": "code",
   "execution_count": null,
   "metadata": {},
   "outputs": [
    {
     "name": "stdout",
     "output_type": "stream",
     "text": [
      "Current good matches: 928441 with 22373986 remaining\n"
     ]
    }
   ],
   "source": [
    "# add matching rows to good matches and remove from matching rows\n",
    "good_matches_df_2 = pl.concat([good_matches_df, matching_rows_2])\n",
    "\n",
    "matching_rows_3 = matching_rows_1.filter(~matching_rows_1['index'].is_in(matching_rows_2['index']))\n",
    "\n",
    "print(f\"Current good matches: {len(good_matches_df_2)} with {len(matching_rows_3)} remaining\")"
   ]
  },
  {
   "cell_type": "code",
   "execution_count": null,
   "metadata": {},
   "outputs": [
    {
     "data": {
      "text/html": [
       "<div><style>\n",
       ".dataframe > thead > tr,\n",
       ".dataframe > tbody > tr {\n",
       "  text-align: right;\n",
       "  white-space: pre-wrap;\n",
       "}\n",
       "</style>\n",
       "<small>shape: (928_441, 7)</small><table border=\"1\" class=\"dataframe\"><thead><tr><th>AWARDEEORRECIPIENTLEGALENTITYNAME</th><th>LEGALENTITYADDRLINE1</th><th>LEGALENTITYCITYNAME</th><th>LEGALENTITYSTATECD</th><th>LEGALENTITYZIP5</th><th>FACEVALUEOFDIRECTLOANORLOANGUARANTEE</th><th>ORIGINALLOANSUBSIDYCOST</th></tr><tr><td>str</td><td>str</td><td>str</td><td>str</td><td>i64</td><td>f64</td><td>f64</td></tr></thead><tbody><tr><td>&quot;TubeMaster, Inc.&quot;</td><td>&quot;8008 Vinecrest Ave.&quot;</td><td>&quot;Louisville&quot;</td><td>&quot;KY&quot;</td><td>40222</td><td>150000.0</td><td>20430.0</td></tr><tr><td>&quot;IntelliFusion Technologies&quot;</td><td>&quot;6 Fielek Ter&quot;</td><td>&quot;Parlin&quot;</td><td>&quot;NJ&quot;</td><td>8859</td><td>12300.0</td><td>1675.26</td></tr><tr><td>&quot;Logical Net Corporation&quot;</td><td>&quot;2345 Maxon Rd Ext&quot;</td><td>&quot;Schenectady&quot;</td><td>&quot;NY&quot;</td><td>12308</td><td>150000.0</td><td>20430.0</td></tr><tr><td>&quot;Nashville Party Authority&quot;</td><td>&quot;704 Sandburg Pl&quot;</td><td>&quot;Nashville&quot;</td><td>&quot;TN&quot;</td><td>37214</td><td>25000.0</td><td>3405.0</td></tr><tr><td>&quot;DESERT SKY PROPERTIES&quot;</td><td>&quot;7373 E. Doubletree Ranch Road,…</td><td>&quot;SCOTTSDALE&quot;</td><td>&quot;AZ&quot;</td><td>85258</td><td>10000.0</td><td>1362.0</td></tr><tr><td>&hellip;</td><td>&hellip;</td><td>&hellip;</td><td>&hellip;</td><td>&hellip;</td><td>&hellip;</td><td>&hellip;</td></tr><tr><td>&quot;CITRIX SYSTEMS INC&quot;</td><td>&quot;851 W CYPRESS CREEK&quot;</td><td>&quot;FORT LAUDERDALE&quot;</td><td>&quot;FL&quot;</td><td>33309</td><td>49900.0</td><td>6796.38</td></tr><tr><td>&quot;Phillips Foods, Inc.&quot;</td><td>&quot;3761 COMMERCE DR STE 413&quot;</td><td>&quot;BALTIMORE&quot;</td><td>&quot;MD&quot;</td><td>21227</td><td>150000.0</td><td>20430.0</td></tr><tr><td>&quot;Revlon Inc&quot;</td><td>&quot;1 New York Plaza, New York, NY…</td><td>&quot;New York&quot;</td><td>&quot;NY&quot;</td><td>10004</td><td>47500.0</td><td>6469.5</td></tr><tr><td>&quot;Revlon Inc&quot;</td><td>&quot;1 New York Plaza, New York, NY…</td><td>&quot;New York&quot;</td><td>&quot;NY&quot;</td><td>10004</td><td>-47500.0</td><td>-6469.5</td></tr><tr><td>&quot;Williams-Sonoma Inc&quot;</td><td>&quot;3250 VAN NESS AVE&quot;</td><td>&quot;SAN FRANCISCO&quot;</td><td>&quot;CA&quot;</td><td>94109</td><td>150000.0</td><td>20430.0</td></tr></tbody></table></div>"
      ],
      "text/plain": [
       "shape: (928_441, 7)\n",
       "┌──────────────┬─────────────┬─────────────┬─────────────┬─────────────┬─────────────┬─────────────┐\n",
       "│ AWARDEEORREC ┆ LEGALENTITY ┆ LEGALENTITY ┆ LEGALENTITY ┆ LEGALENTITY ┆ FACEVALUEOF ┆ ORIGINALLOA │\n",
       "│ IPIENTLEGALE ┆ ADDRLINE1   ┆ CITYNAME    ┆ STATECD     ┆ ZIP5        ┆ DIRECTLOANO ┆ NSUBSIDYCOS │\n",
       "│ NTITYN…      ┆ ---         ┆ ---         ┆ ---         ┆ ---         ┆ RLOANGUA…   ┆ T           │\n",
       "│ ---          ┆ str         ┆ str         ┆ str         ┆ i64         ┆ ---         ┆ ---         │\n",
       "│ str          ┆             ┆             ┆             ┆             ┆ f64         ┆ f64         │\n",
       "╞══════════════╪═════════════╪═════════════╪═════════════╪═════════════╪═════════════╪═════════════╡\n",
       "│ TubeMaster,  ┆ 8008        ┆ Louisville  ┆ KY          ┆ 40222       ┆ 150000.0    ┆ 20430.0     │\n",
       "│ Inc.         ┆ Vinecrest   ┆             ┆             ┆             ┆             ┆             │\n",
       "│              ┆ Ave.        ┆             ┆             ┆             ┆             ┆             │\n",
       "│ IntelliFusio ┆ 6 Fielek    ┆ Parlin      ┆ NJ          ┆ 8859        ┆ 12300.0     ┆ 1675.26     │\n",
       "│ n            ┆ Ter         ┆             ┆             ┆             ┆             ┆             │\n",
       "│ Technologies ┆             ┆             ┆             ┆             ┆             ┆             │\n",
       "│ Logical Net  ┆ 2345 Maxon  ┆ Schenectady ┆ NY          ┆ 12308       ┆ 150000.0    ┆ 20430.0     │\n",
       "│ Corporation  ┆ Rd Ext      ┆             ┆             ┆             ┆             ┆             │\n",
       "│ Nashville    ┆ 704         ┆ Nashville   ┆ TN          ┆ 37214       ┆ 25000.0     ┆ 3405.0      │\n",
       "│ Party        ┆ Sandburg Pl ┆             ┆             ┆             ┆             ┆             │\n",
       "│ Authority    ┆             ┆             ┆             ┆             ┆             ┆             │\n",
       "│ DESERT SKY   ┆ 7373 E.     ┆ SCOTTSDALE  ┆ AZ          ┆ 85258       ┆ 10000.0     ┆ 1362.0      │\n",
       "│ PROPERTIES   ┆ Doubletree  ┆             ┆             ┆             ┆             ┆             │\n",
       "│              ┆ Ranch       ┆             ┆             ┆             ┆             ┆             │\n",
       "│              ┆ Road,…      ┆             ┆             ┆             ┆             ┆             │\n",
       "│ …            ┆ …           ┆ …           ┆ …           ┆ …           ┆ …           ┆ …           │\n",
       "│ CITRIX       ┆ 851 W       ┆ FORT        ┆ FL          ┆ 33309       ┆ 49900.0     ┆ 6796.38     │\n",
       "│ SYSTEMS INC  ┆ CYPRESS     ┆ LAUDERDALE  ┆             ┆             ┆             ┆             │\n",
       "│              ┆ CREEK       ┆             ┆             ┆             ┆             ┆             │\n",
       "│ Phillips     ┆ 3761        ┆ BALTIMORE   ┆ MD          ┆ 21227       ┆ 150000.0    ┆ 20430.0     │\n",
       "│ Foods, Inc.  ┆ COMMERCE DR ┆             ┆             ┆             ┆             ┆             │\n",
       "│              ┆ STE 413     ┆             ┆             ┆             ┆             ┆             │\n",
       "│ Revlon Inc   ┆ 1 New York  ┆ New York    ┆ NY          ┆ 10004       ┆ 47500.0     ┆ 6469.5      │\n",
       "│              ┆ Plaza, New  ┆             ┆             ┆             ┆             ┆             │\n",
       "│              ┆ York, NY…   ┆             ┆             ┆             ┆             ┆             │\n",
       "│ Revlon Inc   ┆ 1 New York  ┆ New York    ┆ NY          ┆ 10004       ┆ -47500.0    ┆ -6469.5     │\n",
       "│              ┆ Plaza, New  ┆             ┆             ┆             ┆             ┆             │\n",
       "│              ┆ York, NY…   ┆             ┆             ┆             ┆             ┆             │\n",
       "│ Williams-Son ┆ 3250 VAN    ┆ SAN         ┆ CA          ┆ 94109       ┆ 150000.0    ┆ 20430.0     │\n",
       "│ oma Inc      ┆ NESS AVE    ┆ FRANCISCO   ┆             ┆             ┆             ┆             │\n",
       "└──────────────┴─────────────┴─────────────┴─────────────┴─────────────┴─────────────┴─────────────┘"
      ]
     },
     "execution_count": 50,
     "metadata": {},
     "output_type": "execute_result"
    }
   ],
   "source": [
    "good_matches_df_2[interesting_cols]"
   ]
  },
  {
   "cell_type": "code",
   "execution_count": null,
   "metadata": {},
   "outputs": [
    {
     "data": {
      "text/html": [
       "<div><style>\n",
       ".dataframe > thead > tr,\n",
       ".dataframe > tbody > tr {\n",
       "  text-align: right;\n",
       "  white-space: pre-wrap;\n",
       "}\n",
       "</style>\n",
       "<small>shape: (7, 19)</small><table border=\"1\" class=\"dataframe\"><thead><tr><th>index</th><th>AWARDEEORRECIPIENTLEGALENTITYNAME</th><th>LEGALENTITYADDRLINE1</th><th>LEGALENTITYCITYNAME</th><th>LEGALENTITYSTATECD</th><th>LEGALENTITYZIP5</th><th>FACEVALUEOFDIRECTLOANORLOANGUARANTEE</th><th>ORIGINALLOANSUBSIDYCOST</th><th>Normalized Name</th><th>Company Name</th><th>Company State</th><th>Company City</th><th>Company Address</th><th>First Name</th><th>Last Name</th><th>Business Email</th><th>Mobile Phone</th><th>filename</th><th>AddrSimilarity</th></tr><tr><td>u32</td><td>str</td><td>str</td><td>str</td><td>str</td><td>i64</td><td>f64</td><td>f64</td><td>str</td><td>str</td><td>str</td><td>str</td><td>str</td><td>str</td><td>str</td><td>str</td><td>str</td><td>str</td><td>i64</td></tr></thead><tbody><tr><td>277308</td><td>&quot;IntelliFusion Technologies&quot;</td><td>&quot;6 Fielek Ter&quot;</td><td>&quot;Parlin&quot;</td><td>&quot;NJ&quot;</td><td>8859</td><td>12300.0</td><td>1675.26</td><td>&quot;intellifusion technologies&quot;</td><td>&quot;Intellifusion Technologies&quot;</td><td>&quot;NJ&quot;</td><td>&quot;Parlin&quot;</td><td>&quot;6 Fielek Terrace&quot;</td><td>&quot;Ananth&quot;</td><td>&quot;Godavari&quot;</td><td>&quot;ananth@intellifusion.com&quot;</td><td>&quot;4087541690&quot;</td><td>&quot;List-4 - 1,004,842 Contacts Fo…</td><td>86</td></tr><tr><td>3403719</td><td>&quot;Lam Research Corp&quot;</td><td>&quot;4650 Cushing Blvd&quot;</td><td>&quot;fremont&quot;</td><td>&quot;CA&quot;</td><td>94538</td><td>16400.0</td><td>2233.68</td><td>&quot;lam research corp&quot;</td><td>&quot;Lam Research Corp&quot;</td><td>&quot;CA&quot;</td><td>&quot;Fremont&quot;</td><td>&quot;4650 Cushing Pkwy&quot;</td><td>&quot;Ananth&quot;</td><td>&quot;Indrakanti&quot;</td><td>&quot;ananth.indrakanti@lamrc.com&quot;</td><td>null</td><td>&quot;CA_B2B_23_1.csv&quot;</td><td>76</td></tr><tr><td>3403719</td><td>&quot;Lam Research Corp&quot;</td><td>&quot;4650 Cushing Blvd&quot;</td><td>&quot;fremont&quot;</td><td>&quot;CA&quot;</td><td>94538</td><td>16400.0</td><td>2233.68</td><td>&quot;lam research corp&quot;</td><td>&quot;Lam Research Corp&quot;</td><td>&quot;CA&quot;</td><td>&quot;Fremont&quot;</td><td>&quot;4650 Cushing Pkwy&quot;</td><td>&quot;Ananth&quot;</td><td>&quot;Indrakanti&quot;</td><td>&quot;ananth.indrakanti@lamrc.com&quot;</td><td>null</td><td>&quot;CA_B2B_23_1.csv&quot;</td><td>76</td></tr><tr><td>1910084</td><td>&quot;BAISYS CONSULTING LLC&quot;</td><td>&quot;50 MAIN ST STE 1000&quot;</td><td>&quot;WHITE PLAINS&quot;</td><td>&quot;NY&quot;</td><td>10606</td><td>46800.0</td><td>6374.16</td><td>&quot;baisys consulting llc&quot;</td><td>&quot;Baisys Consulting Llc&quot;</td><td>&quot;NY&quot;</td><td>&quot;White Plains&quot;</td><td>&quot;50 M St # 1000&quot;</td><td>&quot;Ananth&quot;</td><td>&quot;Bobbili&quot;</td><td>&quot;a.bobbili@baisys.com&quot;</td><td>null</td><td>&quot;NY_B2B_23_3.csv&quot;</td><td>73</td></tr><tr><td>1910084</td><td>&quot;BAISYS CONSULTING LLC&quot;</td><td>&quot;50 MAIN ST STE 1000&quot;</td><td>&quot;WHITE PLAINS&quot;</td><td>&quot;NY&quot;</td><td>10606</td><td>46800.0</td><td>6374.16</td><td>&quot;baisys consulting llc&quot;</td><td>&quot;Baisys Consulting Llc&quot;</td><td>&quot;NY&quot;</td><td>&quot;White Plains&quot;</td><td>&quot;50 M St # 1000&quot;</td><td>&quot;Ananth&quot;</td><td>&quot;Bobbili&quot;</td><td>&quot;bobbili@baisys.com&quot;</td><td>null</td><td>&quot;NY_B2B_23_3.csv&quot;</td><td>73</td></tr><tr><td>2277286</td><td>&quot;AgReliant Genetics, LLC&quot;</td><td>&quot;1122 E 169TH ST&quot;</td><td>&quot;WESTFIELD&quot;</td><td>&quot;IN&quot;</td><td>46074</td><td>148700.0</td><td>20252.94</td><td>&quot;agreliant genetics llc&quot;</td><td>&quot;Agreliant Genetics Llc&quot;</td><td>&quot;IN&quot;</td><td>&quot;Westfield&quot;</td><td>&quot;1122 E 169Th St&quot;</td><td>&quot;Anantharaman&quot;</td><td>&quot;Velayudham&quot;</td><td>&quot;anantharaman.velayudham@agreli…</td><td>&quot;317-896-5551&quot;</td><td>&quot;List # 21_1,035,777 Contacts N…</td><td>87</td></tr><tr><td>3229695</td><td>&quot;Kindred healthcare inc&quot;</td><td>&quot;680 South Fourth Street&quot;</td><td>&quot;Louisville&quot;</td><td>&quot;KY&quot;</td><td>40202</td><td>27300.0</td><td>3718.26</td><td>&quot;kindred healthcare inc&quot;</td><td>&quot;Kindred Healthcare, Inc.&quot;</td><td>&quot;KY&quot;</td><td>&quot;Louisville&quot;</td><td>&quot;680 S. 4th Street&quot;</td><td>&quot;Ananth&quot;</td><td>&quot;o&#x27;brien&quot;</td><td>&quot;ananth_obrien@kindredhealthcar…</td><td>&quot;502-596-7300&quot;</td><td>&quot;List # 44_1,034,952 Contacts N…</td><td>75</td></tr></tbody></table></div>"
      ],
      "text/plain": [
       "shape: (7, 19)\n",
       "┌─────────┬────────────┬───────────┬───────────┬───┬───────────┬───────────┬───────────┬───────────┐\n",
       "│ index   ┆ AWARDEEORR ┆ LEGALENTI ┆ LEGALENTI ┆ … ┆ Business  ┆ Mobile    ┆ filename  ┆ AddrSimil │\n",
       "│ ---     ┆ ECIPIENTLE ┆ TYADDRLIN ┆ TYCITYNAM ┆   ┆ Email     ┆ Phone     ┆ ---       ┆ arity     │\n",
       "│ u32     ┆ GALENTITYN ┆ E1        ┆ E         ┆   ┆ ---       ┆ ---       ┆ str       ┆ ---       │\n",
       "│         ┆ …          ┆ ---       ┆ ---       ┆   ┆ str       ┆ str       ┆           ┆ i64       │\n",
       "│         ┆ ---        ┆ str       ┆ str       ┆   ┆           ┆           ┆           ┆           │\n",
       "│         ┆ str        ┆           ┆           ┆   ┆           ┆           ┆           ┆           │\n",
       "╞═════════╪════════════╪═══════════╪═══════════╪═══╪═══════════╪═══════════╪═══════════╪═══════════╡\n",
       "│ 277308  ┆ IntelliFus ┆ 6 Fielek  ┆ Parlin    ┆ … ┆ ananth@in ┆ 408754169 ┆ List-4 -  ┆ 86        │\n",
       "│         ┆ ion Techno ┆ Ter       ┆           ┆   ┆ tellifusi ┆ 0         ┆ 1,004,842 ┆           │\n",
       "│         ┆ logies     ┆           ┆           ┆   ┆ on.com    ┆           ┆ Contacts  ┆           │\n",
       "│         ┆            ┆           ┆           ┆   ┆           ┆           ┆ Fo…       ┆           │\n",
       "│ 3403719 ┆ Lam        ┆ 4650      ┆ fremont   ┆ … ┆ ananth.in ┆ null      ┆ CA_B2B_23 ┆ 76        │\n",
       "│         ┆ Research   ┆ Cushing   ┆           ┆   ┆ drakanti@ ┆           ┆ _1.csv    ┆           │\n",
       "│         ┆ Corp       ┆ Blvd      ┆           ┆   ┆ lamrc.com ┆           ┆           ┆           │\n",
       "│ 3403719 ┆ Lam        ┆ 4650      ┆ fremont   ┆ … ┆ ananth.in ┆ null      ┆ CA_B2B_23 ┆ 76        │\n",
       "│         ┆ Research   ┆ Cushing   ┆           ┆   ┆ drakanti@ ┆           ┆ _1.csv    ┆           │\n",
       "│         ┆ Corp       ┆ Blvd      ┆           ┆   ┆ lamrc.com ┆           ┆           ┆           │\n",
       "│ 1910084 ┆ BAISYS     ┆ 50 MAIN   ┆ WHITE     ┆ … ┆ a.bobbili ┆ null      ┆ NY_B2B_23 ┆ 73        │\n",
       "│         ┆ CONSULTING ┆ ST STE    ┆ PLAINS    ┆   ┆ @baisys.c ┆           ┆ _3.csv    ┆           │\n",
       "│         ┆ LLC        ┆ 1000      ┆           ┆   ┆ om        ┆           ┆           ┆           │\n",
       "│ 1910084 ┆ BAISYS     ┆ 50 MAIN   ┆ WHITE     ┆ … ┆ bobbili@b ┆ null      ┆ NY_B2B_23 ┆ 73        │\n",
       "│         ┆ CONSULTING ┆ ST STE    ┆ PLAINS    ┆   ┆ aisys.com ┆           ┆ _3.csv    ┆           │\n",
       "│         ┆ LLC        ┆ 1000      ┆           ┆   ┆           ┆           ┆           ┆           │\n",
       "│ 2277286 ┆ AgReliant  ┆ 1122 E    ┆ WESTFIELD ┆ … ┆ ananthara ┆ 317-896-5 ┆ List #    ┆ 87        │\n",
       "│         ┆ Genetics,  ┆ 169TH ST  ┆           ┆   ┆ man.velay ┆ 551       ┆ 21_1,035, ┆           │\n",
       "│         ┆ LLC        ┆           ┆           ┆   ┆ udham@agr ┆           ┆ 777       ┆           │\n",
       "│         ┆            ┆           ┆           ┆   ┆ eli…      ┆           ┆ Contacts  ┆           │\n",
       "│         ┆            ┆           ┆           ┆   ┆           ┆           ┆ N…        ┆           │\n",
       "│ 3229695 ┆ Kindred    ┆ 680 South ┆ Louisvill ┆ … ┆ ananth_ob ┆ 502-596-7 ┆ List #    ┆ 75        │\n",
       "│         ┆ healthcare ┆ Fourth    ┆ e         ┆   ┆ rien@kind ┆ 300       ┆ 44_1,034, ┆           │\n",
       "│         ┆ inc        ┆ Street    ┆           ┆   ┆ redhealth ┆           ┆ 952       ┆           │\n",
       "│         ┆            ┆           ┆           ┆   ┆ car…      ┆           ┆ Contacts  ┆           │\n",
       "│         ┆            ┆           ┆           ┆   ┆           ┆           ┆ N…        ┆           │\n",
       "└─────────┴────────────┴───────────┴───────────┴───┴───────────┴───────────┴───────────┴───────────┘"
      ]
     },
     "execution_count": 51,
     "metadata": {},
     "output_type": "execute_result"
    }
   ],
   "source": [
    "good_matches_df_2.filter(good_matches_df_2['First Name'].str.contains('Ananth'))"
   ]
  },
  {
   "cell_type": "code",
   "execution_count": null,
   "metadata": {},
   "outputs": [
    {
     "data": {
      "text/plain": [
       "['AWARDEEORRECIPIENTLEGALENTITYNAME',\n",
       " 'LEGALENTITYADDRLINE1',\n",
       " 'LEGALENTITYCITYNAME',\n",
       " 'LEGALENTITYSTATECD',\n",
       " 'LEGALENTITYZIP5',\n",
       " 'FACEVALUEOFDIRECTLOANORLOANGUARANTEE',\n",
       " 'ORIGINALLOANSUBSIDYCOST',\n",
       " 'First Name',\n",
       " 'Last Name',\n",
       " 'Business Email',\n",
       " 'Mobile Phone',\n",
       " 'filename']"
      ]
     },
     "execution_count": 52,
     "metadata": {},
     "output_type": "execute_result"
    }
   ],
   "source": [
    "export_col_set = interesting_cols + owner_fields + ['filename'] \n",
    "export_col_set"
   ]
  },
  {
   "cell_type": "code",
   "execution_count": null,
   "metadata": {},
   "outputs": [],
   "source": [
    "good_matches_df_2 = good_matches_df_2.with_columns(\n",
    "    (pl.col('LEGALENTITYADDRLINE1').is_not_null().cast(int) +\n",
    "     pl.col('LEGALENTITYCITYNAME').is_not_null().cast(int) +\n",
    "     pl.col('LEGALENTITYSTATECD').is_not_null().cast(int) +\n",
    "     pl.col('LEGALENTITYZIP5').is_not_null().cast(int) +\n",
    "     pl.col('First Name').is_not_null().cast(int) +\n",
    "     pl.col('Last Name').is_not_null().cast(int) +\n",
    "     pl.col('Business Email').is_not_null().cast(int) +\n",
    "     pl.col('Mobile Phone').is_not_null().cast(int) +\n",
    "     pl.col('FACEVALUEOFDIRECTLOANORLOANGUARANTEE').is_not_null().cast(int) +\n",
    "     pl.col('ORIGINALLOANSUBSIDYCOST').is_not_null().cast(int)\n",
    "    ).alias('info_count')\n",
    ")"
   ]
  },
  {
   "cell_type": "code",
   "execution_count": null,
   "metadata": {},
   "outputs": [
    {
     "name": "stdout",
     "output_type": "stream",
     "text": [
      "Removed 76206 duplicates based on ('Business Email',)\n",
      "Removed 711624 duplicates based on ('Mobile Phone',)\n",
      "Removed 3565 duplicates based on ('First Name', 'Last Name')\n",
      "Final count: 137046\n"
     ]
    }
   ],
   "source": [
    "good_matches_df_3 = good_matches_df_2.clone()\n",
    "\n",
    "for column_sets in (('Business Email',), ('Mobile Phone',), ('First Name', 'Last Name')):\n",
    "    dup_columns = ['index'] + list(column_sets)\n",
    "    initial_count = len(good_matches_df_3)\n",
    "    good_matches_df_3 = good_matches_df_3.unique(subset=dup_columns, keep='first')\n",
    "    \n",
    "    print(f\"Removed {initial_count - len(good_matches_df_3)} duplicates based on {column_sets}\")\n",
    "print(f\"Final count: {len(good_matches_df_3)}\")"
   ]
  },
  {
   "cell_type": "code",
   "execution_count": null,
   "metadata": {},
   "outputs": [],
   "source": [
    "good_matches_df_3[export_col_set].write_csv('good_matches_6.csv')"
   ]
  },
  {
   "cell_type": "code",
   "execution_count": null,
   "metadata": {},
   "outputs": [
    {
     "data": {
      "text/html": [
       "<div><style>\n",
       ".dataframe > thead > tr,\n",
       ".dataframe > tbody > tr {\n",
       "  text-align: right;\n",
       "  white-space: pre-wrap;\n",
       "}\n",
       "</style>\n",
       "<small>shape: (112_980, 2)</small><table border=\"1\" class=\"dataframe\"><thead><tr><th>Business Email</th><th>count</th></tr><tr><td>str</td><td>u32</td></tr></thead><tbody><tr><td>&quot;vincent.scarpinato@usaa.com&quot;</td><td>23</td></tr><tr><td>&quot;mooremj@aafes.com&quot;</td><td>23</td></tr><tr><td>&quot;joanw@microsoft.com&quot;</td><td>23</td></tr><tr><td>&quot;schonhol@musc.edu&quot;</td><td>23</td></tr><tr><td>&quot;donwi@microsoft.com&quot;</td><td>23</td></tr><tr><td>&hellip;</td><td>&hellip;</td></tr><tr><td>&quot;al@litegear.com&quot;</td><td>1</td></tr><tr><td>&quot;d.ammerman@ammermanexperience.…</td><td>1</td></tr><tr><td>&quot;michael@gconspiracy.com&quot;</td><td>1</td></tr><tr><td>&quot;l.speaker@speakerlaw.com&quot;</td><td>1</td></tr><tr><td>&quot;lschwartz@empirebuildersinc.co…</td><td>1</td></tr></tbody></table></div>"
      ],
      "text/plain": [
       "shape: (112_980, 2)\n",
       "┌─────────────────────────────────┬───────┐\n",
       "│ Business Email                  ┆ count │\n",
       "│ ---                             ┆ ---   │\n",
       "│ str                             ┆ u32   │\n",
       "╞═════════════════════════════════╪═══════╡\n",
       "│ vincent.scarpinato@usaa.com     ┆ 23    │\n",
       "│ mooremj@aafes.com               ┆ 23    │\n",
       "│ joanw@microsoft.com             ┆ 23    │\n",
       "│ schonhol@musc.edu               ┆ 23    │\n",
       "│ donwi@microsoft.com             ┆ 23    │\n",
       "│ …                               ┆ …     │\n",
       "│ al@litegear.com                 ┆ 1     │\n",
       "│ d.ammerman@ammermanexperience.… ┆ 1     │\n",
       "│ michael@gconspiracy.com         ┆ 1     │\n",
       "│ l.speaker@speakerlaw.com        ┆ 1     │\n",
       "│ lschwartz@empirebuildersinc.co… ┆ 1     │\n",
       "└─────────────────────────────────┴───────┘"
      ]
     },
     "execution_count": 48,
     "metadata": {},
     "output_type": "execute_result"
    }
   ],
   "source": [
    "good_matches_df_3['Business Email'].value_counts().sort(descending=True, by='count')"
   ]
  },
  {
   "cell_type": "code",
   "execution_count": null,
   "metadata": {},
   "outputs": [
    {
     "data": {
      "text/html": [
       "<div><style>\n",
       ".dataframe > thead > tr,\n",
       ".dataframe > tbody > tr {\n",
       "  text-align: right;\n",
       "  white-space: pre-wrap;\n",
       "}\n",
       "</style>\n",
       "<small>shape: (9_577, 4)</small><table border=\"1\" class=\"dataframe\"><thead><tr><th>Company Name</th><th>LEGALENTITYADDRLINE1</th><th>Company Address</th><th>AddrSimilarity</th></tr><tr><td>str</td><td>str</td><td>str</td><td>i64</td></tr></thead><tbody><tr><td>&quot;Desert Sky Properties&quot;</td><td>&quot;7373 E. Doubletree Ranch Road,…</td><td>&quot;7373 E Doubletree Ranch Rd&quot;</td><td>78</td></tr><tr><td>&quot;Comprehensive Resources, Inc.&quot;</td><td>&quot;1663 East 17th Street  2nd Flo…</td><td>&quot;1663 East 17 Street&quot;</td><td>75</td></tr><tr><td>&quot;Revitalize Charging Solutions,…</td><td>&quot;1120 South Freeway, Suite 209&quot;</td><td>&quot;1120 South Freeway&quot;</td><td>77</td></tr><tr><td>&quot;Synergy World, Inc.&quot;</td><td>&quot;12625 HIgh Bluff Drive 3208&quot;</td><td>&quot;12625 High Bluff Dr&quot;</td><td>78</td></tr><tr><td>&quot;Klickpicks Llc&quot;</td><td>&quot;136 East 57th Street, 10th Flo…</td><td>&quot;136 East 57th Street&quot;</td><td>77</td></tr><tr><td>&hellip;</td><td>&hellip;</td><td>&hellip;</td><td>&hellip;</td></tr><tr><td>&quot;Ginza Usa&quot;</td><td>&quot;342 1/4 E FIRST ST&quot;</td><td>&quot;342 1/4 E 1st St&quot;</td><td>71</td></tr><tr><td>&quot;Barbara Bourne Photography&quot;</td><td>&quot;14 Healdsburg Ave. Suite D&quot;</td><td>&quot;14 Healdsburg Ave&quot;</td><td>79</td></tr><tr><td>&quot;Barbara Bourne Photography&quot;</td><td>&quot;14 Healdsburg Ave. Suite D&quot;</td><td>&quot;14 Healdsburg Ave&quot;</td><td>79</td></tr><tr><td>&quot;Ark Solutions, Inc.&quot;</td><td>&quot;1939 Roland Clarke  Pl.  Suite…</td><td>&quot;1939 Roland Clarke Place&quot;</td><td>75</td></tr><tr><td>&quot;Jon Reis Photography&quot;</td><td>&quot;120 W. State St&quot;</td><td>&quot;102 West State Street&quot;</td><td>72</td></tr></tbody></table></div>"
      ],
      "text/plain": [
       "shape: (9_577, 4)\n",
       "┌───────────────────────────┬──────────────────────────┬──────────────────────────┬────────────────┐\n",
       "│ Company Name              ┆ LEGALENTITYADDRLINE1     ┆ Company Address          ┆ AddrSimilarity │\n",
       "│ ---                       ┆ ---                      ┆ ---                      ┆ ---            │\n",
       "│ str                       ┆ str                      ┆ str                      ┆ i64            │\n",
       "╞═══════════════════════════╪══════════════════════════╪══════════════════════════╪════════════════╡\n",
       "│ Desert Sky Properties     ┆ 7373 E. Doubletree Ranch ┆ 7373 E Doubletree Ranch  ┆ 78             │\n",
       "│                           ┆ Road,…                   ┆ Rd                       ┆                │\n",
       "│ Comprehensive Resources,  ┆ 1663 East 17th Street    ┆ 1663 East 17 Street      ┆ 75             │\n",
       "│ Inc.                      ┆ 2nd Flo…                 ┆                          ┆                │\n",
       "│ Revitalize Charging       ┆ 1120 South Freeway,      ┆ 1120 South Freeway       ┆ 77             │\n",
       "│ Solutions,…               ┆ Suite 209                ┆                          ┆                │\n",
       "│ Synergy World, Inc.       ┆ 12625 HIgh Bluff Drive   ┆ 12625 High Bluff Dr      ┆ 78             │\n",
       "│                           ┆ 3208                     ┆                          ┆                │\n",
       "│ Klickpicks Llc            ┆ 136 East 57th Street,    ┆ 136 East 57th Street     ┆ 77             │\n",
       "│                           ┆ 10th Flo…                ┆                          ┆                │\n",
       "│ …                         ┆ …                        ┆ …                        ┆ …              │\n",
       "│ Ginza Usa                 ┆ 342 1/4 E FIRST ST       ┆ 342 1/4 E 1st St         ┆ 71             │\n",
       "│ Barbara Bourne            ┆ 14 Healdsburg Ave. Suite ┆ 14 Healdsburg Ave        ┆ 79             │\n",
       "│ Photography               ┆ D                        ┆                          ┆                │\n",
       "│ Barbara Bourne            ┆ 14 Healdsburg Ave. Suite ┆ 14 Healdsburg Ave        ┆ 79             │\n",
       "│ Photography               ┆ D                        ┆                          ┆                │\n",
       "│ Ark Solutions, Inc.       ┆ 1939 Roland Clarke  Pl.  ┆ 1939 Roland Clarke Place ┆ 75             │\n",
       "│                           ┆ Suite…                   ┆                          ┆                │\n",
       "│ Jon Reis Photography      ┆ 120 W. State St          ┆ 102 West State Street    ┆ 72             │\n",
       "└───────────────────────────┴──────────────────────────┴──────────────────────────┴────────────────┘"
      ]
     },
     "metadata": {},
     "output_type": "display_data"
    },
    {
     "name": "stdout",
     "output_type": "stream",
     "text": [
      "Number of unique index entries: 2274 out of 3896\n"
     ]
    }
   ],
   "source": [
    "# Filter rows where 'AddrSimilarity' is greater than 80\n",
    "filtered_rows = matching_rows.filter((pl.col('AddrSimilarity') > 70) & (pl.col('AddrSimilarity') < 80))\n",
    "\n",
    "# Print the filtered rows to verify\n",
    "display(filtered_rows[['Company Name', 'LEGALENTITYADDRLINE1', 'Company Address', 'AddrSimilarity']])\n",
    "\n",
    "# Count occurrences of each index in the result\n",
    "index_counts = filtered_rows['index'].value_counts()\n",
    "\n",
    "print(f\"Number of unique index entries: {(index_counts['count'] == 1).sum()} out of {len(index_counts)}\")\n"
   ]
  },
  {
   "cell_type": "code",
   "execution_count": null,
   "metadata": {},
   "outputs": [],
   "source": []
  }
 ],
 "metadata": {
  "kernelspec": {
   "display_name": "base",
   "language": "python",
   "name": "python3"
  },
  "language_info": {
   "codemirror_mode": {
    "name": "ipython",
    "version": 3
   },
   "file_extension": ".py",
   "mimetype": "text/x-python",
   "name": "python",
   "nbconvert_exporter": "python",
   "pygments_lexer": "ipython3",
   "version": "3.9.19"
  }
 },
 "nbformat": 4,
 "nbformat_minor": 2
}
